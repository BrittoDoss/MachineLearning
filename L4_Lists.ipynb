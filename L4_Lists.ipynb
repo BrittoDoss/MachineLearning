{
  "nbformat": 4,
  "nbformat_minor": 0,
  "metadata": {
    "anaconda-cloud": {},
    "kernelspec": {
      "display_name": "Python 3",
      "language": "python",
      "name": "python3"
    },
    "language_info": {
      "codemirror_mode": {
        "name": "ipython",
        "version": 3
      },
      "file_extension": ".py",
      "mimetype": "text/x-python",
      "name": "python",
      "nbconvert_exporter": "python",
      "pygments_lexer": "ipython3",
      "version": "3.7.4"
    },
    "learntools_metadata": {
      "lesson_index": 3,
      "type": "tutorial"
    },
    "colab": {
      "name": "L4_Lists.ipynb",
      "provenance": [],
      "include_colab_link": true
    }
  },
  "cells": [
    {
      "cell_type": "markdown",
      "metadata": {
        "id": "view-in-github",
        "colab_type": "text"
      },
      "source": [
        "<a href=\"https://colab.research.google.com/github/BrittoDoss/MachineLearning/blob/master/L4_Lists.ipynb\" target=\"_parent\"><img src=\"https://colab.research.google.com/assets/colab-badge.svg\" alt=\"Open In Colab\"/></a>"
      ]
    },
    {
      "cell_type": "markdown",
      "metadata": {
        "id": "PbMOPCU3rcM_",
        "colab_type": "text"
      },
      "source": [
        "# Lists\n",
        "\n",
        "Lists in Python represent ordered sequences of values. Here is an example of how to create them:"
      ]
    },
    {
      "cell_type": "code",
      "metadata": {
        "id": "ZUrUOxqSrcNE",
        "colab_type": "code",
        "colab": {}
      },
      "source": [
        "primes = [2, 3, 5, 7]"
      ],
      "execution_count": 0,
      "outputs": []
    },
    {
      "cell_type": "markdown",
      "metadata": {
        "id": "v_O3hkkwrcNO",
        "colab_type": "text"
      },
      "source": [
        "We can put other types of things in lists:"
      ]
    },
    {
      "cell_type": "code",
      "metadata": {
        "id": "19rGSSWIrcNR",
        "colab_type": "code",
        "colab": {}
      },
      "source": [
        "planets = ['Mercury', 'Venus', 'Earth', 'Mars', 'Jupiter', 'Saturn', 'Uranus', 'Neptune']"
      ],
      "execution_count": 0,
      "outputs": []
    },
    {
      "cell_type": "markdown",
      "metadata": {
        "id": "PUB3_SqJrcNW",
        "colab_type": "text"
      },
      "source": [
        "We can even make a list of lists:"
      ]
    },
    {
      "cell_type": "code",
      "metadata": {
        "id": "_vQ26mzyrcNY",
        "colab_type": "code",
        "colab": {}
      },
      "source": [
        "hands = [\n",
        "    ['J', 'Q', 'K'],\n",
        "    ['2', '2', '2'],\n",
        "    ['6', 'A', 'K'], # (Comma after the last element is optional)\n",
        "]\n",
        "# (I could also have written this on one line, but it can get hard to read)\n",
        "hands = [['J', 'Q', 'K'], ['2', '2', '2'], ['6', 'A', 'K']]"
      ],
      "execution_count": 0,
      "outputs": []
    },
    {
      "cell_type": "markdown",
      "metadata": {
        "id": "HWI6JrpTrcNd",
        "colab_type": "text"
      },
      "source": [
        "A list can contain a mix of different types of variables:"
      ]
    },
    {
      "cell_type": "code",
      "metadata": {
        "id": "CpafLULTrcNf",
        "colab_type": "code",
        "colab": {}
      },
      "source": [
        "my_favourite_things = [32, 'raindrops on roses', help]\n",
        "# (Yes, Python's help function is *definitely* one of my favourite things)"
      ],
      "execution_count": 0,
      "outputs": []
    },
    {
      "cell_type": "markdown",
      "metadata": {
        "id": "Ld_2iuBvrcNl",
        "colab_type": "text"
      },
      "source": [
        "## Indexing\n",
        "\n",
        "We can access individual list elements with square brackets.\n",
        "\n",
        "Which planet is closest to the sun? Python uses *zero-based* indexing, so the first element has index 0."
      ]
    },
    {
      "cell_type": "code",
      "metadata": {
        "id": "EMvDL9rJrcNm",
        "colab_type": "code",
        "colab": {}
      },
      "source": [
        "planets[0]"
      ],
      "execution_count": 0,
      "outputs": []
    },
    {
      "cell_type": "markdown",
      "metadata": {
        "id": "FkEtn2R8rcNu",
        "colab_type": "text"
      },
      "source": [
        "What's the next closest planet?"
      ]
    },
    {
      "cell_type": "code",
      "metadata": {
        "id": "tzutRNFWrcNx",
        "colab_type": "code",
        "colab": {}
      },
      "source": [
        "planets[1]"
      ],
      "execution_count": 0,
      "outputs": []
    },
    {
      "cell_type": "markdown",
      "metadata": {
        "id": "hdHg1RjOrcN6",
        "colab_type": "text"
      },
      "source": [
        "Which planet is *furthest* from the sun?\n",
        "\n",
        "Elements at the end of the list can be accessed with negative numbers, starting from -1:"
      ]
    },
    {
      "cell_type": "code",
      "metadata": {
        "id": "mJiXJsBgrcN8",
        "colab_type": "code",
        "colab": {}
      },
      "source": [
        "planets[-1]"
      ],
      "execution_count": 0,
      "outputs": []
    },
    {
      "cell_type": "code",
      "metadata": {
        "id": "7GGv_il3rcOC",
        "colab_type": "code",
        "colab": {}
      },
      "source": [
        "planets[-2]"
      ],
      "execution_count": 0,
      "outputs": []
    },
    {
      "cell_type": "markdown",
      "metadata": {
        "id": "zCBdPMNnrcOI",
        "colab_type": "text"
      },
      "source": [
        "## Slicing\n",
        "\n",
        "What are the first three planets? We can answer this question using *slicing*:"
      ]
    },
    {
      "cell_type": "code",
      "metadata": {
        "id": "M3z5AQSlrcOL",
        "colab_type": "code",
        "colab": {}
      },
      "source": [
        "planets[0:3]"
      ],
      "execution_count": 0,
      "outputs": []
    },
    {
      "cell_type": "markdown",
      "metadata": {
        "id": "u1flsVw9rcOP",
        "colab_type": "text"
      },
      "source": [
        "`planets[0:3]` is our way of asking for the elements of `planets` starting from index 0 and continuing up to *but not including* index 3.\n",
        "\n",
        "The starting and ending indices are both optional. If I leave out the start index, it's assumed to be 0. So I could rewrite the expression above as:"
      ]
    },
    {
      "cell_type": "code",
      "metadata": {
        "id": "EHGAnHQTrcOS",
        "colab_type": "code",
        "colab": {}
      },
      "source": [
        "planets[:3]"
      ],
      "execution_count": 0,
      "outputs": []
    },
    {
      "cell_type": "markdown",
      "metadata": {
        "id": "PM4UQ7xlrcOY",
        "colab_type": "text"
      },
      "source": [
        "If I leave out the end index, it's assumed to be the length of the list."
      ]
    },
    {
      "cell_type": "code",
      "metadata": {
        "id": "jweH0xaprcOa",
        "colab_type": "code",
        "colab": {}
      },
      "source": [
        "planets[3:]"
      ],
      "execution_count": 0,
      "outputs": []
    },
    {
      "cell_type": "markdown",
      "metadata": {
        "id": "qMgkW21vrcOe",
        "colab_type": "text"
      },
      "source": [
        "i.e. the expression above means \"give me all the planets from index 3 onward\".\n",
        "\n",
        "We can also use negative indices when slicing:"
      ]
    },
    {
      "cell_type": "code",
      "metadata": {
        "id": "A9Cq2kbJrcOg",
        "colab_type": "code",
        "colab": {}
      },
      "source": [
        "# All the planets except the first and last\n",
        "planets[1:-1]"
      ],
      "execution_count": 0,
      "outputs": []
    },
    {
      "cell_type": "code",
      "metadata": {
        "id": "al2GQDg6rcOm",
        "colab_type": "code",
        "colab": {}
      },
      "source": [
        "# The last 3 planets\n",
        "planets[-3:]"
      ],
      "execution_count": 0,
      "outputs": []
    },
    {
      "cell_type": "markdown",
      "metadata": {
        "id": "GVJhlYkSrcOr",
        "colab_type": "text"
      },
      "source": [
        "## Changing lists\n",
        "\n",
        "Lists are \"mutable\", meaning they can be modified \"in place\".\n",
        "\n",
        "One way to modify a list is to assign to an index or slice expression.\n",
        "\n",
        "For example, let's say we want to rename Mars:"
      ]
    },
    {
      "cell_type": "code",
      "metadata": {
        "id": "RxYd7GIircOs",
        "colab_type": "code",
        "colab": {}
      },
      "source": [
        "planets[3] = 'Malacandra'\n",
        "planets"
      ],
      "execution_count": 0,
      "outputs": []
    },
    {
      "cell_type": "markdown",
      "metadata": {
        "id": "zcVGDQThrcOw",
        "colab_type": "text"
      },
      "source": [
        "Hm, that's quite a mouthful. Let's compensate by shortening the names of the first 3 planets."
      ]
    },
    {
      "cell_type": "code",
      "metadata": {
        "id": "arxUzKXzrcOy",
        "colab_type": "code",
        "colab": {}
      },
      "source": [
        "planets[:3] = ['Mur', 'Vee', 'Ur']\n",
        "print(planets)\n",
        "# That was silly. Let's give them back their old names\n",
        "planets[:4] = ['Mercury', 'Venus', 'Earth', 'Mars',]"
      ],
      "execution_count": 0,
      "outputs": []
    },
    {
      "cell_type": "markdown",
      "metadata": {
        "id": "k_WaX8BMrcO3",
        "colab_type": "text"
      },
      "source": [
        "## List functions\n",
        "\n",
        "Python has several useful functions for working with lists.\n",
        "\n",
        "`len` gives the length of a list:"
      ]
    },
    {
      "cell_type": "code",
      "metadata": {
        "id": "R2qQn-dhrcO4",
        "colab_type": "code",
        "colab": {}
      },
      "source": [
        "# How many planets are there?\n",
        "len(planets)"
      ],
      "execution_count": 0,
      "outputs": []
    },
    {
      "cell_type": "markdown",
      "metadata": {
        "id": "YIk6x1MwrcO8",
        "colab_type": "text"
      },
      "source": [
        "`sorted` returns a sorted version of a list:"
      ]
    },
    {
      "cell_type": "code",
      "metadata": {
        "id": "4am-j_6mrcO-",
        "colab_type": "code",
        "colab": {}
      },
      "source": [
        "# The planets sorted in alphabetical order\n",
        "sorted(planets)"
      ],
      "execution_count": 0,
      "outputs": []
    },
    {
      "cell_type": "markdown",
      "metadata": {
        "id": "KKsfNCj9rcPD",
        "colab_type": "text"
      },
      "source": [
        "`sum` does what we might expect:"
      ]
    },
    {
      "cell_type": "code",
      "metadata": {
        "id": "dDgV0MQircPG",
        "colab_type": "code",
        "colab": {}
      },
      "source": [
        "primes = [2, 3, 5, 7]\n",
        "sum(primes)"
      ],
      "execution_count": 0,
      "outputs": []
    },
    {
      "cell_type": "markdown",
      "metadata": {
        "id": "AXkSCNWTrcPN",
        "colab_type": "text"
      },
      "source": [
        "We've previously used the `min` and `max` to get the minimum or maximum of several arguments. But we can also pass in a single list argument."
      ]
    },
    {
      "cell_type": "code",
      "metadata": {
        "id": "HO-0Utw0rcPP",
        "colab_type": "code",
        "colab": {}
      },
      "source": [
        "max(primes)"
      ],
      "execution_count": 0,
      "outputs": []
    },
    {
      "cell_type": "markdown",
      "metadata": {
        "id": "cD9ZpLMprcPW",
        "colab_type": "text"
      },
      "source": [
        "## Interlude: objects\n",
        "\n",
        "*Everything* in Python is an object. What does that mean?\n",
        "\n",
        "In short, objects carry some things around with them. We access those things using Python's dot syntax."
      ]
    },
    {
      "cell_type": "code",
      "metadata": {
        "id": "UZGIDdnZrcPY",
        "colab_type": "code",
        "colab": {}
      },
      "source": [
        "x = 12\n",
        "# x is a real number, so its imaginary part is 0.\n",
        "print(x.imag)\n",
        "# Here's how to make a complex number:\n",
        "c = 12 + 3j\n",
        "print(c.imag)"
      ],
      "execution_count": 0,
      "outputs": []
    },
    {
      "cell_type": "markdown",
      "metadata": {
        "id": "v7HgcCSqrcPe",
        "colab_type": "text"
      },
      "source": [
        "The things an object carries around can also include functions. A function attached to an object is called a **method**. (Non-function things attached to an object, such as `imag`, are called *attributes*).\n",
        "\n",
        "For example, numbers have a method called `bit_length`. Again, we access it using dot syntax:"
      ]
    },
    {
      "cell_type": "code",
      "metadata": {
        "id": "oyUE2UslrcPg",
        "colab_type": "code",
        "colab": {}
      },
      "source": [
        "x.bit_length"
      ],
      "execution_count": 0,
      "outputs": []
    },
    {
      "cell_type": "markdown",
      "metadata": {
        "id": "G9NiZ0zarcPk",
        "colab_type": "text"
      },
      "source": [
        "To actually call it, we add parentheses:"
      ]
    },
    {
      "cell_type": "code",
      "metadata": {
        "id": "BBm1-tH6rcPl",
        "colab_type": "code",
        "colab": {}
      },
      "source": [
        "x.bit_length()"
      ],
      "execution_count": 0,
      "outputs": []
    },
    {
      "cell_type": "code",
      "metadata": {
        "id": "DAhm2v-JrcPq",
        "colab_type": "code",
        "colab": {}
      },
      "source": [
        "help(x.bit_length)"
      ],
      "execution_count": 0,
      "outputs": []
    },
    {
      "cell_type": "markdown",
      "metadata": {
        "id": "Nl_hPmwArcPv",
        "colab_type": "text"
      },
      "source": [
        "The examples above were utterly obscure. None of the types of objects we've looked at so far (numbers, functions, booleans) have attributes or methods we'll likely never use.\n",
        "\n",
        "But it turns out that lists have several methods which we'll use all the time."
      ]
    },
    {
      "cell_type": "markdown",
      "metadata": {
        "id": "1p5WPZZ3rcPx",
        "colab_type": "text"
      },
      "source": [
        "## List methods"
      ]
    },
    {
      "cell_type": "markdown",
      "metadata": {
        "id": "iHIShbksrcPy",
        "colab_type": "text"
      },
      "source": [
        "`list.append` modifies a list by adding an item to the end:"
      ]
    },
    {
      "cell_type": "code",
      "metadata": {
        "jupyter": {
          "outputs_hidden": true
        },
        "id": "pBBR_gKdrcP0",
        "colab_type": "code",
        "colab": {}
      },
      "source": [
        "# Pluto is a planet darn it!\n",
        "planets.append('Pluto')"
      ],
      "execution_count": 0,
      "outputs": []
    },
    {
      "cell_type": "markdown",
      "metadata": {
        "id": "E1zLObFercP5",
        "colab_type": "text"
      },
      "source": [
        "Why does the cell above have no output? Let's check the documentation by calling `help(planets.append)`.\n",
        "\n",
        "> **Aside:** `append` is a method carried around by *all* objects of type list, not just `planets`, so we also could have called `help(list.append)`. However, if we try to call `help(append)`, Python will complain that no variable exists called \"append\". The \"append\" name only exists within lists - it doesn't exist as a standalone name like builtin functions such as `max` or `len`."
      ]
    },
    {
      "cell_type": "code",
      "metadata": {
        "id": "BDYU-rR_rcP6",
        "colab_type": "code",
        "colab": {}
      },
      "source": [
        "help(planets.append)"
      ],
      "execution_count": 0,
      "outputs": []
    },
    {
      "cell_type": "markdown",
      "metadata": {
        "id": "XMnnzm-lrcP-",
        "colab_type": "text"
      },
      "source": [
        "The `-> None` part is telling us that `list.append` doesn't return anything. But if we check the value of `planets`, we can see that the method call modified the value of `planets`:"
      ]
    },
    {
      "cell_type": "code",
      "metadata": {
        "id": "nyt-tL05rcP_",
        "colab_type": "code",
        "colab": {}
      },
      "source": [
        "planets"
      ],
      "execution_count": 0,
      "outputs": []
    },
    {
      "cell_type": "markdown",
      "metadata": {
        "id": "_Y8b6MYircQD",
        "colab_type": "text"
      },
      "source": [
        "`list.pop` removes and returns the last element of a list:"
      ]
    },
    {
      "cell_type": "code",
      "metadata": {
        "id": "FKvYr3IcrcQE",
        "colab_type": "code",
        "colab": {}
      },
      "source": [
        "planets.pop()"
      ],
      "execution_count": 0,
      "outputs": []
    },
    {
      "cell_type": "code",
      "metadata": {
        "id": "4Q_XBRrFrcQI",
        "colab_type": "code",
        "colab": {}
      },
      "source": [
        "planets"
      ],
      "execution_count": 0,
      "outputs": []
    },
    {
      "cell_type": "markdown",
      "metadata": {
        "id": "Nrz__gC7rcQL",
        "colab_type": "text"
      },
      "source": [
        "### Searching lists\n",
        "\n",
        "Where does Earth fall in the order of planets? We can get its index using the `list.index` method."
      ]
    },
    {
      "cell_type": "code",
      "metadata": {
        "id": "eP0KGbH2rcQM",
        "colab_type": "code",
        "colab": {}
      },
      "source": [
        "planets.index('Earth')"
      ],
      "execution_count": 0,
      "outputs": []
    },
    {
      "cell_type": "markdown",
      "metadata": {
        "id": "ET21p6NrrcQQ",
        "colab_type": "text"
      },
      "source": [
        "It comes third (i.e. at index 2 - 0 indexing!).\n",
        "\n",
        "At what index does Pluto occur?"
      ]
    },
    {
      "cell_type": "code",
      "metadata": {
        "tags": [
          "raises-exception"
        ],
        "id": "YAQE5F9_rcQR",
        "colab_type": "code",
        "colab": {}
      },
      "source": [
        "planets.index('Pluto')"
      ],
      "execution_count": 0,
      "outputs": []
    },
    {
      "cell_type": "markdown",
      "metadata": {
        "id": "_9YeyFEfrcQU",
        "colab_type": "text"
      },
      "source": [
        "Oh, that's right...\n",
        "\n",
        "To avoid unpleasant surprises like this, we can use the `in` operator to determine whether a list contains a particular value:"
      ]
    },
    {
      "cell_type": "code",
      "metadata": {
        "collapsed": true,
        "jupyter": {
          "outputs_hidden": true
        },
        "id": "5ZPP4LfErcQV",
        "colab_type": "code",
        "colab": {}
      },
      "source": [
        "# Is Earth a planet?\n",
        "\"Earth\" in planets"
      ],
      "execution_count": 0,
      "outputs": []
    },
    {
      "cell_type": "code",
      "metadata": {
        "collapsed": true,
        "jupyter": {
          "outputs_hidden": true
        },
        "id": "77_PNiuJrcQZ",
        "colab_type": "code",
        "colab": {}
      },
      "source": [
        "# Is Calbefraques a planet?\n",
        "\"Calbefraques\" in planets"
      ],
      "execution_count": 0,
      "outputs": []
    },
    {
      "cell_type": "markdown",
      "metadata": {
        "id": "5oZnaXxqrcQg",
        "colab_type": "text"
      },
      "source": [
        "There are a few more interesting list methods we haven't covered. To learn about all the methods and attributes attached to a particular object, we can call `help()` on the object itself. For example, `help(planets)` will tell us about *all* the list methods: "
      ]
    },
    {
      "cell_type": "code",
      "metadata": {
        "_kg_hide-output": true,
        "id": "n1rV9eF3rcQk",
        "colab_type": "code",
        "colab": {}
      },
      "source": [
        "help(planets)"
      ],
      "execution_count": 0,
      "outputs": []
    },
    {
      "cell_type": "markdown",
      "metadata": {
        "id": "m1HlYDFercQp",
        "colab_type": "text"
      },
      "source": [
        "Click the \"output\" button to see the full help page. Lists have lots of methods with weird-looking names like `__eq__` and `__iadd__`. Don't worry too much about these for now. (These methods are almost never called directly. But they get called behind the scenes when we use syntax like indexing or comparison operators.) The most interesting methods are toward the bottom of the list (`append`, `clear`, `copy`, etc.)."
      ]
    },
    {
      "cell_type": "markdown",
      "metadata": {
        "id": "u5GvrFQHrcQq",
        "colab_type": "text"
      },
      "source": [
        "## Tuples\n",
        "\n",
        "Tuples are almost exactly the same as lists. They differ in just two ways.\n",
        "\n",
        "**1:** The syntax for creating them uses parentheses instead of square brackets"
      ]
    },
    {
      "cell_type": "code",
      "metadata": {
        "id": "_NcgbPp6rcQs",
        "colab_type": "code",
        "colab": {}
      },
      "source": [
        "t = (1, 2, 3)"
      ],
      "execution_count": 0,
      "outputs": []
    },
    {
      "cell_type": "code",
      "metadata": {
        "id": "MAYK9x6CrcQy",
        "colab_type": "code",
        "colab": {}
      },
      "source": [
        "t = 1, 2, 3 # equivalent to above\n",
        "t"
      ],
      "execution_count": 0,
      "outputs": []
    },
    {
      "cell_type": "markdown",
      "metadata": {
        "id": "VlRnhnSZrcQ4",
        "colab_type": "text"
      },
      "source": [
        "**2:** They cannot be modified (they are *immutable*)."
      ]
    },
    {
      "cell_type": "code",
      "metadata": {
        "tags": [
          "raises-exception"
        ],
        "id": "5bVP7D5wrcQ5",
        "colab_type": "code",
        "colab": {}
      },
      "source": [
        "t[0] = 100"
      ],
      "execution_count": 0,
      "outputs": []
    },
    {
      "cell_type": "markdown",
      "metadata": {
        "id": "ZxEQFTR5rcQ-",
        "colab_type": "text"
      },
      "source": [
        "Tuples are often used for functions that have multiple return values.\n",
        "\n",
        "For example, the ``as_integer_ratio()`` method of float objects returns a numerator and a denominator in the form of a tuple:"
      ]
    },
    {
      "cell_type": "code",
      "metadata": {
        "id": "pYkLsp4VrcQ_",
        "colab_type": "code",
        "colab": {}
      },
      "source": [
        "x = 0.125\n",
        "x.as_integer_ratio()"
      ],
      "execution_count": 0,
      "outputs": []
    },
    {
      "cell_type": "markdown",
      "metadata": {
        "id": "AOmR4Wi4rcRD",
        "colab_type": "text"
      },
      "source": [
        "These multiple return values can be individually assigned as follows:"
      ]
    },
    {
      "cell_type": "code",
      "metadata": {
        "id": "yqUu2H8orcRH",
        "colab_type": "code",
        "colab": {}
      },
      "source": [
        "numerator, denominator = x.as_integer_ratio()\n",
        "print(numerator / denominator)"
      ],
      "execution_count": 0,
      "outputs": []
    },
    {
      "cell_type": "markdown",
      "metadata": {
        "id": "IFoxPGeUrcRO",
        "colab_type": "text"
      },
      "source": [
        "Finally we have some insight into the classic Python trick for swapping two variables!"
      ]
    },
    {
      "cell_type": "code",
      "metadata": {
        "id": "MpnEen-WrcRP",
        "colab_type": "code",
        "colab": {}
      },
      "source": [
        "a = 1\n",
        "b = 0\n",
        "a, b = b, a\n",
        "print(a, b)"
      ],
      "execution_count": 0,
      "outputs": []
    },
    {
      "cell_type": "markdown",
      "metadata": {
        "id": "Ys17KQSArcRU",
        "colab_type": "text"
      },
      "source": [
        "---\n",
        "**[Week 1 - Python](https://radu-enuca.gitbook.io/ml-challenge/python)**\n",
        "\n",
        "*Have questions or comments? Visit the ML Challenge Mattermost Channel.*"
      ]
    }
  ]
}