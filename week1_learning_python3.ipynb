{
  "nbformat": 4,
  "nbformat_minor": 0,
  "metadata": {
    "colab": {
      "name": "week1-learning-python3.ipynb",
      "provenance": [],
      "collapsed_sections": [
        "GS1GToITFeFq",
        "-4yE_HAdJ7lV"
      ],
      "include_colab_link": true
    },
    "kernelspec": {
      "display_name": "Python 3",
      "language": "python",
      "name": "python3"
    },
    "language_info": {
      "codemirror_mode": {
        "name": "ipython",
        "version": 3
      },
      "file_extension": ".py",
      "mimetype": "text/x-python",
      "name": "python",
      "nbconvert_exporter": "python",
      "pygments_lexer": "ipython3",
      "version": "3.7.4"
    },
    "toc-autonumbering": false,
    "toc-showcode": false,
    "toc-showmarkdowntxt": false
  },
  "cells": [
    {
      "cell_type": "markdown",
      "metadata": {
        "id": "view-in-github",
        "colab_type": "text"
      },
      "source": [
        "<a href=\"https://colab.research.google.com/github/BrittoDoss/MachineLearning/blob/master/week1_learning_python3.ipynb\" target=\"_parent\"><img src=\"https://colab.research.google.com/assets/colab-badge.svg\" alt=\"Open In Colab\"/></a>"
      ]
    },
    {
      "cell_type": "markdown",
      "metadata": {
        "colab_type": "text",
        "id": "us3PlU8CXh8A",
        "toc-hr-collapsed": false
      },
      "source": [
        "# Learning Python\n",
        "\n",
        "---"
      ]
    },
    {
      "cell_type": "markdown",
      "metadata": {
        "colab_type": "text",
        "id": "CcaYq1KMrGv8"
      },
      "source": [
        "## What is a Jupyter Notebook?\n",
        "\n",
        "A Jupyter notebook is an electronic file that contains both programming code and text descriptions. Jupyter notebooks can also contain embedded charts, plots, images, videos, and links."
      ]
    },
    {
      "cell_type": "markdown",
      "metadata": {
        "colab_type": "text",
        "deletable": true,
        "editable": true,
        "id": "BK51sQ3MFeDO"
      },
      "source": [
        "\n",
        "## Google Colaboratory\n",
        "\n",
        "It is a **Jupyter notebook** environment that runs in the cloud and has almost **all packages for machine learning** installed.\n",
        "\n",
        "It is **free** to use and it offers a free GPU runtime.\n",
        "\n",
        "---"
      ]
    },
    {
      "cell_type": "markdown",
      "metadata": {
        "colab_type": "text",
        "deletable": true,
        "editable": true,
        "id": "OygyHT8zFeDL"
      },
      "source": [
        "## Quick note about Jupyter cells\n",
        "\n",
        "When editing a cell in Jupyter notebook, we need to re-run the cell by pressing **`<Shift> + <Enter>`**. This allows any changes we made to be available to other cells.\n",
        "\n",
        "We can use **`<Enter>`** to add new lines inside a cell we are editing.\n",
        "\n",
        "#### Code cells\n",
        "\n",
        "Re-running will execute any statements we have written. To edit an existing code cell, we click on it.\n",
        "\n",
        "#### Markdown cells\n",
        "\n",
        "Re-running will render the markdown text. To edit an existing markdown cell, we double-click on it.\n",
        "\n",
        "#### Magic Commands\n",
        "\n",
        "Jupyter notebook code cells can contain special commands which are not valid Python code but affect the behavior of the notebook. These special commands are called magic commands.\n",
        "\n",
        "```\n",
        "%matplotlib inline # renders Matplotlib plots in cells of the notebook\n",
        "```\n",
        "---"
      ]
    },
    {
      "cell_type": "markdown",
      "metadata": {
        "colab_type": "text",
        "deletable": true,
        "editable": true,
        "id": "kHPSl_doFeDR"
      },
      "source": [
        "## Python objects, basic types, and variables\n",
        "\n",
        "Everything in Python is an **object** and every object in Python has a **type**. Some of the basic types include:\n",
        "\n",
        "- **`int`** (integer; a whole number with no decimal place)\n",
        "  - `10`\n",
        "  - `-3`\n",
        "- **`float`** (float; a number that has a decimal place)\n",
        "  - `7.41`\n",
        "  - `-0.006`\n",
        "- **`str`** (string; a sequence of characters enclosed in single quotes, double quotes, or triple quotes)\n",
        "  - `'this is a string using single quotes'`\n",
        "  - `\"this is a string using double quotes\"`\n",
        "  - `'''this is a triple quoted string using single quotes'''`\n",
        "  - `\"\"\"this is a triple quoted string using double quotes\"\"\"`\n",
        "- **`bool`** (boolean; a binary value that is either true or false)\n",
        "  - `True`\n",
        "  - `False`\n",
        "- **`NoneType`** (a special type representing the absence of a value)\n",
        "  - `None`\n",
        "\n",
        "In Python, a **variable** is a name we specify in our code that maps to a particular **object**, object **instance**, or value.\n",
        "\n",
        "By defining variables, we can refer to things by names that make sense to us. Names for variables can only contain letters, underscores (`_`), or numbers (no spaces, dashes, or other characters). Variable names must start with a letter or underscore.\n"
      ]
    },
    {
      "cell_type": "markdown",
      "metadata": {
        "colab_type": "text",
        "deletable": true,
        "editable": true,
        "id": "AaeNWgmIFeDS"
      },
      "source": [
        "## Basic operators\n",
        "\n",
        "In Python, there are different types of **operators** (special symbols) that operate on different values. Some of the basic operators include:\n",
        "\n",
        "- arithmetic operators\n",
        "  - **`+`** (addition)\n",
        "  - **`-`** (subtraction)\n",
        "  - **`*`** (multiplication)\n",
        "  - **`/`** (division)\n",
        "  - __`**`__ (exponent)\n",
        "- assignment operators\n",
        "  - **`=`** (assign a value)\n",
        "  - **`+=`** (add and re-assign; increment)\n",
        "  - **`-=`** (subtract and re-assign; decrement)\n",
        "  - **`*=`** (multiply and re-assign)\n",
        "- comparison operators (return either `True` or `False`)\n",
        "  - **`==`** (equal to)\n",
        "  - **`!=`** (not equal to)\n",
        "  - **`<`** (less than)\n",
        "  - **`<=`** (less than or equal to)\n",
        "  - **`>`** (greater than)\n",
        "  - **`>=`** (greater than or equal to)\n",
        "\n",
        "When multiple operators are used in a single expression, **operator precedence** determines which parts of the expression are evaluated in which order. Operators with higher precedence are evaluated first (like PEMDAS in math). Operators with the same precedence are evaluated from left to right.\n",
        "\n",
        "- `()` parentheses, for grouping\n",
        "- `**` exponent\n",
        "- `*`, `/` multiplication and division\n",
        "- `+`, `-` addition and subtraction\n",
        "- `==`, `!=`, `<`, `<=`, `>`, `>=` comparisons\n",
        "\n",
        "> See https://docs.python.org/3/reference/expressions.html#operator-precedence"
      ]
    },
    {
      "cell_type": "code",
      "metadata": {
        "colab_type": "code",
        "deletable": true,
        "editable": true,
        "id": "wPJQSMEZFeDT",
        "colab": {}
      },
      "source": [
        "# Assigning some numbers to different variables\n",
        "num1 = 10\n",
        "num2 = -3\n",
        "num3 = 7.41\n",
        "num4 = -.6\n",
        "num5 = 7\n",
        "num6 = 3\n",
        "num7 = 11.11"
      ],
      "execution_count": 0,
      "outputs": []
    },
    {
      "cell_type": "code",
      "metadata": {
        "colab_type": "code",
        "deletable": true,
        "editable": true,
        "id": "ekPchVXUFeDX",
        "colab": {}
      },
      "source": [
        "# Addition\n",
        "num1 + num2"
      ],
      "execution_count": 0,
      "outputs": []
    },
    {
      "cell_type": "code",
      "metadata": {
        "colab_type": "code",
        "deletable": true,
        "editable": true,
        "id": "Ajyi2YSuFeDb",
        "colab": {}
      },
      "source": [
        "# Subtraction\n",
        "num2 - num3"
      ],
      "execution_count": 0,
      "outputs": []
    },
    {
      "cell_type": "code",
      "metadata": {
        "colab_type": "code",
        "deletable": true,
        "editable": true,
        "id": "gwVdgXgmFeDd",
        "colab": {}
      },
      "source": [
        "# Multiplication\n",
        "num3 * num4"
      ],
      "execution_count": 0,
      "outputs": []
    },
    {
      "cell_type": "code",
      "metadata": {
        "colab_type": "code",
        "deletable": true,
        "editable": true,
        "id": "voJ_TX28FeDg",
        "colab": {}
      },
      "source": [
        "# Division\n",
        "num4 / num5"
      ],
      "execution_count": 0,
      "outputs": []
    },
    {
      "cell_type": "code",
      "metadata": {
        "colab_type": "code",
        "deletable": true,
        "editable": true,
        "id": "hJG7w49bFeDj",
        "colab": {}
      },
      "source": [
        "# Exponent\n",
        "num5 ** num6"
      ],
      "execution_count": 0,
      "outputs": []
    },
    {
      "cell_type": "code",
      "metadata": {
        "colab_type": "code",
        "deletable": true,
        "editable": true,
        "id": "t90_IXS1FeDm",
        "colab": {}
      },
      "source": [
        "# Increment existing variable\n",
        "num7 += 4\n",
        "num7"
      ],
      "execution_count": 0,
      "outputs": []
    },
    {
      "cell_type": "code",
      "metadata": {
        "colab_type": "code",
        "deletable": true,
        "editable": true,
        "id": "DcduBntsFeDp",
        "colab": {}
      },
      "source": [
        "# Decrement existing variable\n",
        "num6 -= 2\n",
        "num6"
      ],
      "execution_count": 0,
      "outputs": []
    },
    {
      "cell_type": "code",
      "metadata": {
        "colab_type": "code",
        "deletable": true,
        "editable": true,
        "id": "1jsTBdREFeDr",
        "colab": {}
      },
      "source": [
        "# Multiply & re-assign\n",
        "num3 *= 5\n",
        "num3"
      ],
      "execution_count": 0,
      "outputs": []
    },
    {
      "cell_type": "code",
      "metadata": {
        "colab_type": "code",
        "deletable": true,
        "editable": true,
        "id": "eVYYqV4UFeDu",
        "colab": {}
      },
      "source": [
        "# Assign the value of an expression to a variable\n",
        "num8 = num1 + num2 * num3\n",
        "num8"
      ],
      "execution_count": 0,
      "outputs": []
    },
    {
      "cell_type": "code",
      "metadata": {
        "colab_type": "code",
        "deletable": true,
        "editable": true,
        "id": "XnOZRB7_FeDx",
        "colab": {}
      },
      "source": [
        "# Are these two expressions equal to each other?\n",
        "num1 + num2 == num5"
      ],
      "execution_count": 0,
      "outputs": []
    },
    {
      "cell_type": "code",
      "metadata": {
        "colab_type": "code",
        "deletable": true,
        "editable": true,
        "id": "AjQ-qXGkFeD0",
        "colab": {}
      },
      "source": [
        "# Are these two expressions not equal to each other?\n",
        "num3 != num4"
      ],
      "execution_count": 0,
      "outputs": []
    },
    {
      "cell_type": "code",
      "metadata": {
        "colab_type": "code",
        "deletable": true,
        "editable": true,
        "id": "nyWOAr4GFeD2",
        "colab": {}
      },
      "source": [
        "# Is the first expression less than the second expression?\n",
        "num5 < num6"
      ],
      "execution_count": 0,
      "outputs": []
    },
    {
      "cell_type": "code",
      "metadata": {
        "colab_type": "code",
        "deletable": true,
        "editable": true,
        "id": "Hg99bktLFeD5",
        "colab": {}
      },
      "source": [
        "# Is this expression True?\n",
        "5 > 3 > 1"
      ],
      "execution_count": 0,
      "outputs": []
    },
    {
      "cell_type": "code",
      "metadata": {
        "colab_type": "code",
        "deletable": true,
        "editable": true,
        "id": "DxpaxCdrFeD8",
        "colab": {}
      },
      "source": [
        "# Is this expression True?\n",
        "5 > 3 < 4 == 3 + 1"
      ],
      "execution_count": 0,
      "outputs": []
    },
    {
      "cell_type": "code",
      "metadata": {
        "colab_type": "code",
        "deletable": true,
        "editable": true,
        "id": "fN6AjOftFeD_",
        "colab": {}
      },
      "source": [
        "# Assign some strings to different variables\n",
        "simple_string1 = 'an example'\n",
        "simple_string2 = \"oranges \""
      ],
      "execution_count": 0,
      "outputs": []
    },
    {
      "cell_type": "code",
      "metadata": {
        "colab_type": "code",
        "deletable": true,
        "editable": true,
        "id": "dewQDE1BFeEB",
        "colab": {}
      },
      "source": [
        "# Addition\n",
        "simple_string1 + ' of using the + operator'"
      ],
      "execution_count": 0,
      "outputs": []
    },
    {
      "cell_type": "code",
      "metadata": {
        "colab_type": "code",
        "deletable": true,
        "editable": true,
        "id": "6s86YXfIFeEE",
        "colab": {}
      },
      "source": [
        "# Notice that the string was not modified\n",
        "simple_string1"
      ],
      "execution_count": 0,
      "outputs": []
    },
    {
      "cell_type": "code",
      "metadata": {
        "colab_type": "code",
        "deletable": true,
        "editable": true,
        "id": "dE41S7PlFeEH",
        "colab": {}
      },
      "source": [
        "# Multiplication\n",
        "simple_string2 * 4"
      ],
      "execution_count": 0,
      "outputs": []
    },
    {
      "cell_type": "code",
      "metadata": {
        "colab_type": "code",
        "deletable": true,
        "editable": true,
        "id": "0EjLeaHWFeEM",
        "colab": {}
      },
      "source": [
        "# This string wasn't modified either\n",
        "simple_string2"
      ],
      "execution_count": 0,
      "outputs": []
    },
    {
      "cell_type": "code",
      "metadata": {
        "colab_type": "code",
        "deletable": true,
        "editable": true,
        "id": "drF87L6iFeEP",
        "colab": {}
      },
      "source": [
        "# Are these two expressions equal to each other?\n",
        "simple_string1 == simple_string2"
      ],
      "execution_count": 0,
      "outputs": []
    },
    {
      "cell_type": "code",
      "metadata": {
        "colab_type": "code",
        "deletable": true,
        "editable": true,
        "id": "tnfaaBrJFeES",
        "colab": {}
      },
      "source": [
        "# Are these two expressions equal to each other?\n",
        "simple_string1 == 'an example'"
      ],
      "execution_count": 0,
      "outputs": []
    },
    {
      "cell_type": "code",
      "metadata": {
        "colab_type": "code",
        "deletable": true,
        "editable": true,
        "id": "BTIYps7RFeEY",
        "colab": {}
      },
      "source": [
        "# Add and re-assign\n",
        "simple_string1 += ' that re-assigned the original string'\n",
        "simple_string1"
      ],
      "execution_count": 0,
      "outputs": []
    },
    {
      "cell_type": "code",
      "metadata": {
        "colab_type": "code",
        "deletable": true,
        "editable": true,
        "id": "fLLqaKGsFeEc",
        "colab": {}
      },
      "source": [
        "# Multiply and re-assign\n",
        "simple_string2 *= 3\n",
        "simple_string2"
      ],
      "execution_count": 0,
      "outputs": []
    },
    {
      "cell_type": "code",
      "metadata": {
        "colab_type": "code",
        "deletable": true,
        "editable": true,
        "id": "ZHPGgJBWFeEf",
        "colab": {}
      },
      "source": [
        "# Note: Subtraction, division, and decrement operators do not apply to strings."
      ],
      "execution_count": 0,
      "outputs": []
    },
    {
      "cell_type": "markdown",
      "metadata": {
        "colab_type": "text",
        "editable": true,
        "id": "ILVbPEYjFeGl"
      },
      "source": [
        "## Python \"if statements\" and \"while loops\"\n",
        "\n",
        "Conditional expressions can be used with these two **conditional statements**.\n",
        "\n",
        "The **if statement** allows us to test a condition and perform some actions if the condition evaluates to `True`. We can also provide `elif` and/or `else` clauses to an if statement to take alternative actions if the condition evaluates to `False`.\n",
        "\n",
        "The **while loop** will keep looping until its conditional expression evaluates to `False`."
      ]
    },
    {
      "cell_type": "code",
      "metadata": {
        "colab_type": "code",
        "editable": true,
        "id": "k6t4MJtBFeGm",
        "colab": {}
      },
      "source": [
        "color = 'green'\n",
        "if color == 'red':\n",
        "    print('The color is red')\n",
        "elif color == 'green':\n",
        "    print('The color is green')\n",
        "else:\n",
        "    print('The color is not red or green')"
      ],
      "execution_count": 0,
      "outputs": []
    },
    {
      "cell_type": "code",
      "metadata": {
        "colab_type": "code",
        "editable": true,
        "id": "Ku2Q5lg1FeGo",
        "colab": {}
      },
      "source": [
        "i = 0\n",
        "while i<4:\n",
        "    print(i)\n",
        "    i = i+1"
      ],
      "execution_count": 0,
      "outputs": []
    },
    {
      "cell_type": "markdown",
      "metadata": {
        "colab_type": "text",
        "editable": true,
        "id": "lVyhlLrlFeGi"
      },
      "source": [
        "## Python \"for loops\"\n",
        "\n",
        "It is easy to **iterate** over a collection of items using a **for loop**. The strings, lists, tuples, sets, and dictionaries we defined are all **iterable** containers.\n",
        "\n",
        "The for loop will go through the specified container, one item at a time, and provide a temporary variable for the current item. We can use this temporary variable like a normal variable.\n",
        "\n",
        "Python's range() function can be customized by supplying up to three arguments. The general format of the range function is below:\n",
        "\n",
        "```\n",
        "range(start,stop,step)\n",
        "```\n"
      ]
    },
    {
      "cell_type": "code",
      "metadata": {
        "colab_type": "code",
        "editable": true,
        "id": "3KdSHDBPFeGj",
        "colab": {}
      },
      "source": [
        "for i in range(5,9,1):\n",
        "    print(i)"
      ],
      "execution_count": 0,
      "outputs": []
    },
    {
      "cell_type": "code",
      "metadata": {
        "colab_type": "code",
        "editable": true,
        "id": "ThjA_c4zFeGk",
        "colab": {}
      },
      "source": [
        "my_list = ['electrical','civil','mechanical']\n",
        "for item in my_list:\n",
        "    print(item)"
      ],
      "execution_count": 0,
      "outputs": []
    },
    {
      "cell_type": "code",
      "metadata": {
        "colab_type": "code",
        "id": "iPk57xXnwGv1",
        "colab": {}
      },
      "source": [
        "for letter in \"Gabby\":\n",
        "    print(f\"looping over letters in name: {letter}\")"
      ],
      "execution_count": 0,
      "outputs": []
    },
    {
      "cell_type": "markdown",
      "metadata": {
        "colab_type": "text",
        "editable": true,
        "id": "hNIFzuiPFeFJ",
        "toc-hr-collapsed": true
      },
      "source": [
        "\n",
        "## Python built-in functions and callables\n",
        "\n",
        "A **function** is a Python object that we can \"call\" to **perform an action** or compute and **return another object**. We call a function by placing parentheses to the right of the function name. Some functions allow us to pass **arguments** inside the parentheses (separating multiple arguments with a comma). Internal to the function, these arguments are treated like variables.\n",
        "\n",
        "Python has several useful built-in functions to help us work with different objects and/or our environment. Here is a small sample of them:\n",
        "\n",
        "- **`type(obj)`** to determine the type of an object\n",
        "- **`len(container)`** to determine how many items are in a container\n",
        "- **`callable(obj)`** to determine if an object is callable\n",
        "- **`sorted(container)`** to return a new list from a container, with the items sorted\n",
        "- **`sum(container)`** to compute the sum of a container of numbers\n",
        "- **`min(container)`** to determine the smallest item in a container\n",
        "- **`max(container)`** to determine the largest item in a container\n",
        "- **`abs(number)`** to determine the absolute value of a number\n",
        "- **`repr(obj)`** to return a string representation of an object\n",
        "\n",
        "> Complete list of built-in functions: https://docs.python.org/3/library/functions.html\n",
        "\n",
        "There are also different ways of defining our own functions and callable objects that we will explore later."
      ]
    },
    {
      "cell_type": "code",
      "metadata": {
        "colab_type": "code",
        "editable": true,
        "id": "2Wvp6QTxFeFK",
        "colab": {}
      },
      "source": [
        "# Use the type() function to determine the type of an object\n",
        "type(simple_string1)"
      ],
      "execution_count": 0,
      "outputs": []
    },
    {
      "cell_type": "code",
      "metadata": {
        "colab_type": "code",
        "editable": true,
        "id": "vMcn0RFNFeFM",
        "colab": {}
      },
      "source": [
        "# Use the len() function to determine how many items are in a container\n",
        "len(dict1)"
      ],
      "execution_count": 0,
      "outputs": []
    },
    {
      "cell_type": "code",
      "metadata": {
        "colab_type": "code",
        "editable": true,
        "id": "zWB4Z6qTFeFR",
        "colab": {}
      },
      "source": [
        "# Use the len() function to determine how many items are in a container\n",
        "len(simple_string2)"
      ],
      "execution_count": 0,
      "outputs": []
    },
    {
      "cell_type": "code",
      "metadata": {
        "colab_type": "code",
        "editable": true,
        "id": "g-0CK0smFeFT",
        "colab": {}
      },
      "source": [
        "# Use the callable() function to determine if an object is callable\n",
        "callable(len)"
      ],
      "execution_count": 0,
      "outputs": []
    },
    {
      "cell_type": "code",
      "metadata": {
        "colab_type": "code",
        "editable": true,
        "id": "Xgy4lhzuFeFW",
        "colab": {}
      },
      "source": [
        "# Use the callable() function to determine if an object is callable\n",
        "callable(dict1)"
      ],
      "execution_count": 0,
      "outputs": []
    },
    {
      "cell_type": "code",
      "metadata": {
        "colab_type": "code",
        "editable": true,
        "id": "r3iDTJBIFeFX",
        "colab": {}
      },
      "source": [
        "# Use the sorted() function to return a new list from a container, with the items sorted\n",
        "sorted([10, 1, 3.6, 7, 5, 2, -3])"
      ],
      "execution_count": 0,
      "outputs": []
    },
    {
      "cell_type": "code",
      "metadata": {
        "colab_type": "code",
        "editable": true,
        "id": "7pfkjLrnFeFZ",
        "colab": {}
      },
      "source": [
        "# Use the sorted() function to return a new list from a container, with the items sorted\n",
        "# - notice that capitalized strings come first\n",
        "sorted(['dogs', 'cats', 'zebras', 'Chicago', 'California', 'ants', 'mice'])"
      ],
      "execution_count": 0,
      "outputs": []
    },
    {
      "cell_type": "code",
      "metadata": {
        "colab_type": "code",
        "editable": true,
        "id": "Wg-Gg52LFeFb",
        "colab": {}
      },
      "source": [
        "# Use the sum() function to compute the sum of a container of numbers\n",
        "sum([10, 1, 3.6, 7, 5, 2, -3])"
      ],
      "execution_count": 0,
      "outputs": []
    },
    {
      "cell_type": "code",
      "metadata": {
        "colab_type": "code",
        "editable": true,
        "id": "TkH-lAAoFeFc",
        "colab": {}
      },
      "source": [
        "# Use the min() function to determine the smallest item in a container\n",
        "min([10, 1, 3.6, 7, 5, 2, -3])"
      ],
      "execution_count": 0,
      "outputs": []
    },
    {
      "cell_type": "code",
      "metadata": {
        "colab_type": "code",
        "editable": true,
        "id": "_gBfSW8xFeFe",
        "colab": {}
      },
      "source": [
        "# Use the min() function to determine the smallest item in a container\n",
        "min(['g', 'z', 'a', 'y'])"
      ],
      "execution_count": 0,
      "outputs": []
    },
    {
      "cell_type": "code",
      "metadata": {
        "colab_type": "code",
        "editable": true,
        "id": "xgm976dCFeFi",
        "colab": {}
      },
      "source": [
        "# Use the max() function to determine the largest item in a container\n",
        "max([10, 1, 3.6, 7, 5, 2, -3])"
      ],
      "execution_count": 0,
      "outputs": []
    },
    {
      "cell_type": "code",
      "metadata": {
        "colab_type": "code",
        "editable": true,
        "id": "ZsuT1hN6FeFk",
        "colab": {}
      },
      "source": [
        "# Use the max() function to determine the largest item in a container\n",
        "max('gibberish')"
      ],
      "execution_count": 0,
      "outputs": []
    },
    {
      "cell_type": "code",
      "metadata": {
        "colab_type": "code",
        "editable": true,
        "id": "nWKX7vDWFeFm",
        "colab": {}
      },
      "source": [
        "# Use the abs() function to determine the absolute value of a number\n",
        "abs(10)"
      ],
      "execution_count": 0,
      "outputs": []
    },
    {
      "cell_type": "code",
      "metadata": {
        "colab_type": "code",
        "editable": true,
        "id": "cHXFfZCXFeFn",
        "colab": {}
      },
      "source": [
        "# Use the abs() function to determine the absolute value of a number\n",
        "abs(-12)"
      ],
      "execution_count": 0,
      "outputs": []
    },
    {
      "cell_type": "code",
      "metadata": {
        "colab_type": "code",
        "editable": true,
        "id": "7SnvH-VCFeFp",
        "colab": {}
      },
      "source": [
        "# Use the repr() function to return a string representation of an object\n",
        "repr(set1)"
      ],
      "execution_count": 0,
      "outputs": []
    },
    {
      "cell_type": "markdown",
      "metadata": {
        "colab_type": "text",
        "editable": true,
        "id": "iywy5zAiFeGZ"
      },
      "source": [
        "### Positional arguments and keyword arguments to callables\n",
        "\n",
        "We can call a function/method in a number of different ways:\n",
        "\n",
        "- `func()`: Call `func` with no arguments\n",
        "- `func(arg)`: Call `func` with one positional argument\n",
        "- `func(arg1, arg2)`: Call `func` with two positional arguments\n",
        "- `func(arg1, arg2, ..., argn)`: Call `func` with many positional arguments\n",
        "- `func(kwarg=value)`: Call `func` with one keyword argument \n",
        "- `func(kwarg1=value1, kwarg2=value2)`: Call `func` with two keyword arguments\n",
        "- `func(kwarg1=value1, kwarg2=value2, ..., kwargn=valuen)`: Call `func` with many keyword arguments\n",
        "- `func(arg1, arg2, kwarg1=value1, kwarg2=value2)`: Call `func` with positonal arguments and keyword arguments\n",
        "- `obj.method()`: Same for `func`.. and every other `func` example\n",
        "\n",
        "When using **positional arguments**, we must provide them in the order that the function defined them (the function's **signature**).\n",
        "\n",
        "When using **keyword arguments**, we can provide the arguments we want, in any order we want, as long as we specify each argument's name.\n",
        "\n",
        "When using positional and keyword arguments, positional arguments must come first."
      ]
    },
    {
      "cell_type": "code",
      "metadata": {
        "colab_type": "code",
        "editable": true,
        "id": "3mrjcXJMFeGa",
        "colab": {}
      },
      "source": [
        "def positional_function(foo, bar):\n",
        "    return foo + bar\n",
        "\n",
        "positional_function(3, 4)"
      ],
      "execution_count": 0,
      "outputs": []
    },
    {
      "cell_type": "code",
      "metadata": {
        "colab_type": "code",
        "editable": true,
        "id": "EHYz-lr9FeGc",
        "colab": {}
      },
      "source": [
        "def keyword_function(foo=3, bar=4):\n",
        "    return foo + bar\n",
        "\n",
        "print(keyword_function())\n",
        "print(keyword_function(bar=6, foo=5))\n",
        "print(keyword_function(7, bar=8))"
      ],
      "execution_count": 0,
      "outputs": []
    },
    {
      "cell_type": "markdown",
      "metadata": {
        "colab_type": "text",
        "deletable": true,
        "editable": true,
        "id": "qmIa01UOFeEi",
        "toc-hr-collapsed": true
      },
      "source": [
        "## Python containers\n",
        "\n",
        "Containers are objects that can be used to group other objects together. The basic container types include:\n",
        "\n",
        "> Note: **mutable** objects can be modified after creation and **immutable** objects cannot.\n",
        "\n",
        "- **`str`** (string: immutable; indexed by integers; items are stored in the order they were added)\n",
        "- **`list`** (list: mutable; indexed by integers; items are stored in the order they were added)\n",
        "  - `[3, 5, 6, 3, 'dog', 'cat', False]`\n",
        "- **`tuple`** (tuple: immutable; indexed by integers; items are stored in the order they were added)\n",
        "  - `(3, 5, 6, 3, 'dog', 'cat', False)`\n",
        "- **`set`** (set: mutable; not indexed at all; items are NOT stored in the order they were added; can only contain immutable objects; does NOT contain duplicate objects)\n",
        "  - `{3, 5, 6, 3, 'dog', 'cat', False}`\n",
        "- **`dict`** (dictionary: mutable; key-value pairs are indexed by immutable keys; items are NOT stored in the order they were added)\n",
        "  - `{'name': 'Jane', 'age': 23, 'fav_foods': ['pizza', 'fruit', 'fish']}`\n",
        "\n",
        "When defining lists, tuples, or sets, we use commas (,) to separate the individual items. When defining dicts, we use a colon (:) to separate keys from values and commas (,) to separate the key-value pairs.\n",
        "\n",
        "Strings, lists, and tuples are all **sequence types** that can use the `+`, `*`, `+=`, and `*=` operators."
      ]
    },
    {
      "cell_type": "code",
      "metadata": {
        "colab_type": "code",
        "deletable": true,
        "editable": true,
        "id": "01t08GWNFeEj",
        "colab": {}
      },
      "source": [
        "# Assign some containers to different variables\n",
        "list1 = [3, 5, 6, 3, 'dog', 'cat', False]\n",
        "tuple1 = (3, 5, 6, 3, 'dog', 'cat', False)\n",
        "set1 = {3, 5, 6, 3, 'dog', 'cat', False}\n",
        "dict1 = {'name': 'Jane', 'age': 23, 'fav_foods': ['pizza', 'fruit', 'fish']}"
      ],
      "execution_count": 0,
      "outputs": []
    },
    {
      "cell_type": "code",
      "metadata": {
        "colab_type": "code",
        "deletable": true,
        "editable": true,
        "id": "XPQg4DF4FeEm",
        "colab": {}
      },
      "source": [
        "# Items in the list object are stored in the order they were added\n",
        "list1"
      ],
      "execution_count": 0,
      "outputs": []
    },
    {
      "cell_type": "code",
      "metadata": {
        "colab_type": "code",
        "deletable": true,
        "editable": true,
        "id": "KEPqal0fFeEp",
        "colab": {}
      },
      "source": [
        "# Items in the tuple object are stored in the order they were added\n",
        "tuple1"
      ],
      "execution_count": 0,
      "outputs": []
    },
    {
      "cell_type": "code",
      "metadata": {
        "colab_type": "code",
        "deletable": true,
        "editable": true,
        "id": "iOzpT35DFeEr",
        "colab": {}
      },
      "source": [
        "# Items in the set object are not stored in the order they were added\n",
        "# Also, notice that the value 3 only appears once in this set object\n",
        "set1"
      ],
      "execution_count": 0,
      "outputs": []
    },
    {
      "cell_type": "code",
      "metadata": {
        "colab_type": "code",
        "deletable": true,
        "editable": true,
        "id": "Sow5j61yFeEu",
        "colab": {}
      },
      "source": [
        "# Items in the dict object are not stored in the order they were added\n",
        "dict1"
      ],
      "execution_count": 0,
      "outputs": []
    },
    {
      "cell_type": "code",
      "metadata": {
        "colab_type": "code",
        "deletable": true,
        "editable": true,
        "id": "hR6XJGnjFeEx",
        "colab": {}
      },
      "source": [
        "# Add and re-assign\n",
        "list1 += [5, 'grapes']\n",
        "list1"
      ],
      "execution_count": 0,
      "outputs": []
    },
    {
      "cell_type": "code",
      "metadata": {
        "colab_type": "code",
        "deletable": true,
        "editable": true,
        "id": "sXy4TRe6FeE0",
        "colab": {}
      },
      "source": [
        "# Add and re-assign\n",
        "tuple1 += (5, 'grapes')\n",
        "tuple1"
      ],
      "execution_count": 0,
      "outputs": []
    },
    {
      "cell_type": "code",
      "metadata": {
        "colab_type": "code",
        "deletable": true,
        "editable": true,
        "id": "7anJSlE9FeE2",
        "colab": {}
      },
      "source": [
        "# Multiply\n",
        "[1, 2, 3, 4] * 2"
      ],
      "execution_count": 0,
      "outputs": []
    },
    {
      "cell_type": "code",
      "metadata": {
        "colab_type": "code",
        "deletable": true,
        "editable": true,
        "id": "oKNXMbqsFeE4",
        "colab": {}
      },
      "source": [
        "# Multiply\n",
        "(1, 2, 3, 4) * 3"
      ],
      "execution_count": 0,
      "outputs": []
    },
    {
      "cell_type": "markdown",
      "metadata": {
        "colab_type": "text",
        "deletable": true,
        "editable": true,
        "id": "12icbEj5FeE6"
      },
      "source": [
        "### Accessing data in containers\n",
        "\n",
        "For strings, lists, tuples, and dicts, we can use **subscript notation** (square brackets) to access data at an index.\n",
        "\n",
        "- strings, lists, and tuples are indexed by integers, **starting at 0** for first item\n",
        "  - these sequence types also support accesing a range of items, known as **slicing**\n",
        "  - use **negative indexing** to start at the back of the sequence\n",
        "- dicts are indexed by their keys\n",
        "\n",
        "> Note: sets are not indexed, so we cannot use subscript notation to access data elements."
      ]
    },
    {
      "cell_type": "code",
      "metadata": {
        "colab_type": "code",
        "deletable": true,
        "editable": true,
        "id": "u-mrjMOmFeE7",
        "colab": {}
      },
      "source": [
        "# Access the first item in a sequence\n",
        "list1[0]"
      ],
      "execution_count": 0,
      "outputs": []
    },
    {
      "cell_type": "code",
      "metadata": {
        "colab_type": "code",
        "deletable": true,
        "editable": true,
        "id": "QR3hApoLFeE-",
        "colab": {}
      },
      "source": [
        "# Access the last item in a sequence\n",
        "tuple1[-1]"
      ],
      "execution_count": 0,
      "outputs": []
    },
    {
      "cell_type": "code",
      "metadata": {
        "colab_type": "code",
        "deletable": true,
        "editable": true,
        "id": "yjrPMMGyFeFA",
        "colab": {}
      },
      "source": [
        "# Access a range of items in a sequence\n",
        "simple_string1[3:8]"
      ],
      "execution_count": 0,
      "outputs": []
    },
    {
      "cell_type": "code",
      "metadata": {
        "colab_type": "code",
        "deletable": true,
        "editable": true,
        "id": "hYzNbV30FeFC",
        "colab": {}
      },
      "source": [
        "# Access a range of items in a sequence\n",
        "tuple1[:-3]"
      ],
      "execution_count": 0,
      "outputs": []
    },
    {
      "cell_type": "code",
      "metadata": {
        "colab_type": "code",
        "deletable": true,
        "editable": true,
        "id": "VkjatpghFeFE",
        "colab": {}
      },
      "source": [
        "# Access a range of items in a sequence\n",
        "list1[4:]"
      ],
      "execution_count": 0,
      "outputs": []
    },
    {
      "cell_type": "code",
      "metadata": {
        "colab_type": "code",
        "deletable": true,
        "editable": true,
        "id": "k13HPeV7FeFG",
        "colab": {}
      },
      "source": [
        "# Access an item in a dictionary\n",
        "dict1['name']"
      ],
      "execution_count": 0,
      "outputs": []
    },
    {
      "cell_type": "code",
      "metadata": {
        "colab_type": "code",
        "deletable": true,
        "editable": true,
        "id": "RrRRmLHzFeFH",
        "colab": {}
      },
      "source": [
        "# Access an element of a sequence in a dictionary\n",
        "dict1['fav_foods'][2]"
      ],
      "execution_count": 0,
      "outputs": []
    },
    {
      "cell_type": "markdown",
      "metadata": {
        "colab_type": "text",
        "editable": true,
        "id": "IO1DZuoiFeGM"
      },
      "source": [
        "### Some methods on list objects\n",
        "\n",
        "- **`.append(item)`** to add a single item to the list\n",
        "- **`.extend([item1, item2, ...])`** to add multiple items to the list\n",
        "- **`.remove(item)`** to remove a single item from the list\n",
        "- **`.pop()`** to remove and return the item at the end of the list\n",
        "- **`.pop(index)`** to remove and return an item at an index"
      ]
    },
    {
      "cell_type": "code",
      "metadata": {
        "colab_type": "code",
        "editable": true,
        "id": "0yq2PTlYFeGN",
        "colab": {}
      },
      "source": [
        "a_list = ['dogs', 'cats', 'zebras', 'Chicago', 'California', 'ants', 'mice']\n"
      ],
      "execution_count": 0,
      "outputs": []
    },
    {
      "cell_type": "code",
      "metadata": {
        "colab_type": "code",
        "editable": true,
        "id": "zMWr9I8uFeGO",
        "colab": {}
      },
      "source": [
        "a_list.append('parrot')\n",
        "a_list"
      ],
      "execution_count": 0,
      "outputs": []
    },
    {
      "cell_type": "code",
      "metadata": {
        "colab_type": "code",
        "id": "syBBDDe5IexA",
        "colab": {}
      },
      "source": [
        "a_list.extend(['New York', 'Paris'])\n",
        "a_list"
      ],
      "execution_count": 0,
      "outputs": []
    },
    {
      "cell_type": "code",
      "metadata": {
        "colab_type": "code",
        "id": "_0aB84JvIzsp",
        "colab": {}
      },
      "source": [
        "a_list.remove('cats')\n",
        "a_list"
      ],
      "execution_count": 0,
      "outputs": []
    },
    {
      "cell_type": "code",
      "metadata": {
        "colab_type": "code",
        "id": "PkbxCNtgI5ws",
        "colab": {}
      },
      "source": [
        "a_list.pop()"
      ],
      "execution_count": 0,
      "outputs": []
    },
    {
      "cell_type": "code",
      "metadata": {
        "colab_type": "code",
        "id": "FzbfpK_SI9Vq",
        "colab": {}
      },
      "source": [
        "a_list.pop(3)"
      ],
      "execution_count": 0,
      "outputs": []
    },
    {
      "cell_type": "code",
      "metadata": {
        "colab_type": "code",
        "id": "R9fCqFuTJDBF",
        "colab": {}
      },
      "source": [
        "a_list"
      ],
      "execution_count": 0,
      "outputs": []
    },
    {
      "cell_type": "markdown",
      "metadata": {
        "colab_type": "text",
        "editable": true,
        "id": "L43_87z4FeGV"
      },
      "source": [
        "### Some methods on dict objects\n",
        "\n",
        "- **`.update([(key1, val1), (key2, val2), ...])`** to add multiple key-value pairs to the dict\n",
        "- **`.update(dict2)`** to add all keys and values from another dict to the dict\n",
        "- **`.pop(key)`** to remove key and return its value from the dict (error if key not found)\n",
        "- **`.pop(key, default_val)`** to remove key and return its value from the dict (or return default_val if key not found)\n",
        "- **`.get(key)`** to return the value at a specified key in the dict (or None if key not found)\n",
        "- **`.get(key, default_val)`** to return the value at a specified key in the dict (or default_val if key not found)\n",
        "- **`.keys()`** to return a list of keys in the dict\n",
        "- **`.values()`** to return a list of values in the dict\n",
        "- **`.items()`** to return a list of key-value pairs (tuples) in the dict"
      ]
    },
    {
      "cell_type": "code",
      "metadata": {
        "colab_type": "code",
        "editable": true,
        "id": "JssqVwOxFeGV",
        "colab": {}
      },
      "source": [
        "age_dict = {\"Gabby\": 8 , \"Maelle\": 5}\n",
        "print(age_dict.keys())\n",
        "print(age_dict.values())\n",
        "print(age_dict.items())"
      ],
      "execution_count": 0,
      "outputs": []
    },
    {
      "cell_type": "code",
      "metadata": {
        "colab_type": "code",
        "editable": true,
        "id": "qLY5wlFpFeGX",
        "colab": {}
      },
      "source": [
        "age_dict.update([('Peter', 40), ('Mary', 35)])\n",
        "age_dict"
      ],
      "execution_count": 0,
      "outputs": []
    },
    {
      "cell_type": "code",
      "metadata": {
        "colab_type": "code",
        "id": "xb0c79ywxGah",
        "colab": {}
      },
      "source": [
        "age_dict.pop(\"Gabby\")\n",
        "age_dict"
      ],
      "execution_count": 0,
      "outputs": []
    },
    {
      "cell_type": "code",
      "metadata": {
        "colab_type": "code",
        "id": "Yv3KNd0hxOmi",
        "colab": {}
      },
      "source": [
        "age_dict.get('Peter')"
      ],
      "execution_count": 0,
      "outputs": []
    },
    {
      "cell_type": "markdown",
      "metadata": {
        "colab_type": "text",
        "editable": true,
        "id": "B7Uz7gY0FeGq",
        "toc-hr-collapsed": true
      },
      "source": [
        "## List, and dict comprehensions"
      ]
    },
    {
      "cell_type": "markdown",
      "metadata": {
        "colab_type": "text",
        "id": "S6FgIY1IJf2r"
      },
      "source": [
        "List comprehensions offer a **succinct** way to create lists based on existing lists. When using list comprehensions, lists can be built by leveraging any **iterable**, including **strings** and **tuples**."
      ]
    },
    {
      "cell_type": "code",
      "metadata": {
        "colab_type": "code",
        "editable": true,
        "id": "rF0knQHkFeGs",
        "colab": {}
      },
      "source": [
        "shark_letters = [letter for letter in 'shark']\n",
        "shark_letters"
      ],
      "execution_count": 0,
      "outputs": []
    },
    {
      "cell_type": "markdown",
      "metadata": {
        "colab_type": "text",
        "id": "-4yE_HAdJ7lV"
      },
      "source": [
        "### Using Conditionals with List Comprehensions"
      ]
    },
    {
      "cell_type": "code",
      "metadata": {
        "colab_type": "code",
        "id": "3z8SOPhGJ23_",
        "colab": {}
      },
      "source": [
        "fish_tuple = ('blowfish', 'clownfish', 'catfish', 'octopus')\n",
        "\n",
        "fish_list = [fish for fish in fish_tuple if fish != 'octopus']\n",
        "fish_list"
      ],
      "execution_count": 0,
      "outputs": []
    },
    {
      "cell_type": "code",
      "metadata": {
        "colab_type": "code",
        "id": "ZurhTRFJKZvT",
        "colab": {}
      },
      "source": [
        "# Another example that uses mathematical operators, integers, and the range() sequence type\n",
        "number_list = [x ** 2 for x in range(10) if x % 2 == 0]\n",
        "number_list"
      ],
      "execution_count": 0,
      "outputs": []
    },
    {
      "cell_type": "markdown",
      "metadata": {
        "colab_type": "text",
        "id": "YDe113NfLAXw"
      },
      "source": [
        "### Dictionary Comprehension "
      ]
    },
    {
      "cell_type": "code",
      "metadata": {
        "colab_type": "code",
        "id": "2cWKbWc8K7IV",
        "colab": {}
      },
      "source": [
        "dict1 = {'a': 1, 'b': 2, 'c': 3, 'd': 4, 'e': 5}\n",
        "# Double each value in the dictionary\n",
        "double_dict1 = {k:v*2 for (k,v) in dict1.items()}\n",
        "double_dict1"
      ],
      "execution_count": 0,
      "outputs": []
    },
    {
      "cell_type": "code",
      "metadata": {
        "colab_type": "code",
        "id": "CDaMdqSKLZ7d",
        "colab": {}
      },
      "source": [
        "dict1_keys = {k*2:v for (k,v) in dict1.items()}\n",
        "dict1_keys"
      ],
      "execution_count": 0,
      "outputs": []
    },
    {
      "cell_type": "code",
      "metadata": {
        "colab_type": "code",
        "id": "_dsxCx2_MBdi",
        "colab": {}
      },
      "source": [
        "dict1 = {'a': 1, 'b': 2, 'c': 3, 'd': 4, 'e': 5}\n",
        "\n",
        "# Check for items greater than 2\n",
        "dict1_cond = {k:v for (k,v) in dict1.items() if v>2}\n",
        "dict1_cond"
      ],
      "execution_count": 0,
      "outputs": []
    },
    {
      "cell_type": "markdown",
      "metadata": {
        "colab_type": "text",
        "deletable": true,
        "editable": true,
        "id": "i1qTuKi9FeFq",
        "toc-hr-collapsed": false
      },
      "source": [
        "## Strings\n",
        "\n",
        "String literals in Python are surrounded by either single quotation marks, or double quotation marks.\n",
        "\n",
        "Some common String methods include:\n",
        "\n",
        "- **`.capitalize()`** to return a capitalized version of the string (only first char uppercase)\n",
        "- **`.upper()`** to return an uppercase version of the string (all chars uppercase)\n",
        "- **`.lower()`** to return an lowercase version of the string (all chars lowercase)\n",
        "- **`.count(substring)`** to return the number of occurences of the substring in the string\n",
        "- **`.startswith(substring)`** to determine if the string starts with the substring\n",
        "- **`.endswith(substring)`** to determine if the string ends with the substring\n",
        "- **`.replace(old, new)`** to return a copy of the string with occurences of the \"old\" replaced by \"new\""
      ]
    },
    {
      "cell_type": "code",
      "metadata": {
        "colab_type": "code",
        "deletable": true,
        "editable": true,
        "id": "h8AKU8RqFeFq",
        "colab": {}
      },
      "source": [
        "# Assign a string to a variable\n",
        "a_string = 'tHis is a sTriNg'"
      ],
      "execution_count": 0,
      "outputs": []
    },
    {
      "cell_type": "code",
      "metadata": {
        "colab_type": "code",
        "deletable": true,
        "editable": true,
        "id": "6xmasSDnFeFs",
        "colab": {}
      },
      "source": [
        "# Return a capitalized version of the string\n",
        "a_string.capitalize()"
      ],
      "execution_count": 0,
      "outputs": []
    },
    {
      "cell_type": "code",
      "metadata": {
        "colab_type": "code",
        "deletable": true,
        "editable": true,
        "id": "WQzm-VToFeFw",
        "colab": {}
      },
      "source": [
        "# Return an uppercase version of the string\n",
        "a_string.upper()"
      ],
      "execution_count": 0,
      "outputs": []
    },
    {
      "cell_type": "code",
      "metadata": {
        "colab_type": "code",
        "deletable": true,
        "editable": true,
        "id": "zzvXS2BeFeFz",
        "colab": {}
      },
      "source": [
        "# Return a lowercase version of the string\n",
        "a_string.lower()"
      ],
      "execution_count": 0,
      "outputs": []
    },
    {
      "cell_type": "code",
      "metadata": {
        "colab_type": "code",
        "deletable": true,
        "editable": true,
        "id": "CQTdDaSzFeF1",
        "colab": {}
      },
      "source": [
        "# Notice that the methods called have not actually modified the string\n",
        "a_string"
      ],
      "execution_count": 0,
      "outputs": []
    },
    {
      "cell_type": "code",
      "metadata": {
        "colab_type": "code",
        "deletable": true,
        "editable": true,
        "id": "z6SjQpmyFeF4",
        "colab": {}
      },
      "source": [
        "# Count number of occurences of a substring in the string\n",
        "a_string.count('i')"
      ],
      "execution_count": 0,
      "outputs": []
    },
    {
      "cell_type": "code",
      "metadata": {
        "colab_type": "code",
        "deletable": true,
        "editable": true,
        "id": "WiH_mxK_FeF6",
        "colab": {}
      },
      "source": [
        "# Count number of occurences of a substring in the string after a certain position\n",
        "a_string.count('i', 7)"
      ],
      "execution_count": 0,
      "outputs": []
    },
    {
      "cell_type": "code",
      "metadata": {
        "colab_type": "code",
        "deletable": true,
        "editable": true,
        "id": "YyLyWd2ZFeF8",
        "colab": {}
      },
      "source": [
        "# Count number of occurences of a substring in the string\n",
        "a_string.count('is')"
      ],
      "execution_count": 0,
      "outputs": []
    },
    {
      "cell_type": "code",
      "metadata": {
        "colab_type": "code",
        "deletable": true,
        "editable": true,
        "id": "6145Bn7zFeF-",
        "colab": {}
      },
      "source": [
        "# Does the string start with 'this'?\n",
        "a_string.startswith('this')"
      ],
      "execution_count": 0,
      "outputs": []
    },
    {
      "cell_type": "code",
      "metadata": {
        "colab_type": "code",
        "deletable": true,
        "editable": true,
        "id": "oMhEp-kiFeGA",
        "colab": {}
      },
      "source": [
        "# Does the lowercase string start with 'this'?\n",
        "a_string.lower().startswith('this')"
      ],
      "execution_count": 0,
      "outputs": []
    },
    {
      "cell_type": "code",
      "metadata": {
        "colab_type": "code",
        "deletable": true,
        "editable": true,
        "id": "3stVB3OXFeGE",
        "colab": {}
      },
      "source": [
        "# Does the string end with 'Ng'?\n",
        "a_string.endswith('Ng')"
      ],
      "execution_count": 0,
      "outputs": []
    },
    {
      "cell_type": "code",
      "metadata": {
        "colab_type": "code",
        "deletable": true,
        "editable": true,
        "id": "uQvzbOI5FeGG",
        "colab": {}
      },
      "source": [
        "# Return a version of the string with a substring replaced with something else\n",
        "a_string.replace('is', 'XYZ')"
      ],
      "execution_count": 0,
      "outputs": []
    },
    {
      "cell_type": "code",
      "metadata": {
        "colab_type": "code",
        "deletable": true,
        "editable": true,
        "id": "evvC1ZfxFeGH",
        "colab": {}
      },
      "source": [
        "# Return a version of the string with a substring replaced with something else\n",
        "a_string.replace('i', '!')"
      ],
      "execution_count": 0,
      "outputs": []
    },
    {
      "cell_type": "code",
      "metadata": {
        "colab_type": "code",
        "deletable": true,
        "editable": true,
        "id": "qTw9klTdFeGK",
        "colab": {}
      },
      "source": [
        "# Return a version of the string with the first 2 occurences a substring replaced with something else\n",
        "a_string.replace('i', '!', 2)"
      ],
      "execution_count": 0,
      "outputs": []
    },
    {
      "cell_type": "markdown",
      "metadata": {
        "colab_type": "text",
        "deletable": true,
        "editable": true,
        "id": "DzIrAZNbFeGd",
        "toc-hr-collapsed": false
      },
      "source": [
        "### Formatting strings and using placeholders"
      ]
    },
    {
      "cell_type": "markdown",
      "metadata": {
        "colab_type": "text",
        "id": "f5Zv_fDxtgM5"
      },
      "source": [
        "#### %-formatting"
      ]
    },
    {
      "cell_type": "code",
      "metadata": {
        "colab_type": "code",
        "deletable": true,
        "editable": true,
        "id": "Ys7kcwjCFeGe",
        "colab": {}
      },
      "source": [
        "name = 'Eric'\n",
        "age = 34\n",
        "\"Hello, %s. You are %s.\" % (name, age)"
      ],
      "execution_count": 0,
      "outputs": []
    },
    {
      "cell_type": "markdown",
      "metadata": {
        "colab_type": "text",
        "id": "R2kQFhOGt6dV"
      },
      "source": [
        "#### str.format()"
      ]
    },
    {
      "cell_type": "code",
      "metadata": {
        "colab_type": "code",
        "deletable": true,
        "editable": true,
        "id": "yhcasjflFeGh",
        "colab": {}
      },
      "source": [
        "\"Hello, {}. You are {}.\".format(name, age)"
      ],
      "execution_count": 0,
      "outputs": []
    },
    {
      "cell_type": "code",
      "metadata": {
        "colab_type": "code",
        "id": "IsETDbmkuAI7",
        "colab": {}
      },
      "source": [
        "\"Hello, {1}. You are {0}.\".format(age, name)"
      ],
      "execution_count": 0,
      "outputs": []
    },
    {
      "cell_type": "code",
      "metadata": {
        "colab_type": "code",
        "id": "j6aAAV-EuPj2",
        "colab": {}
      },
      "source": [
        "person = {'name': 'Eric', 'age': 74}\n",
        "\"Hello, {name}. You are {age}.\".format(name=person['name'], age=person['age'])"
      ],
      "execution_count": 0,
      "outputs": []
    },
    {
      "cell_type": "markdown",
      "metadata": {
        "colab_type": "text",
        "id": "EsmXOY_dufE_"
      },
      "source": [
        "#### f-Strings"
      ]
    },
    {
      "cell_type": "code",
      "metadata": {
        "colab_type": "code",
        "id": "HOtYbOI6ug9b",
        "colab": {}
      },
      "source": [
        "f\"Hello, {name}. You are {age}.\""
      ],
      "execution_count": 0,
      "outputs": []
    },
    {
      "cell_type": "markdown",
      "metadata": {
        "colab_type": "text",
        "editable": true,
        "id": "z13vHSlAFeG1"
      },
      "source": [
        "## Importing modules"
      ]
    },
    {
      "cell_type": "markdown",
      "metadata": {
        "colab_type": "text",
        "id": "1B6WjckpMYLN"
      },
      "source": [
        "```\n",
        "import module_name\n",
        "```\n",
        "\n",
        "When import is used, it searches for the module initially in the local scope by calling \\_\\_import\\_\\_() function."
      ]
    },
    {
      "cell_type": "code",
      "metadata": {
        "colab_type": "code",
        "editable": true,
        "id": "SXqKi9eYFeG1",
        "colab": {}
      },
      "source": [
        "import math\n",
        "math.pi"
      ],
      "execution_count": 0,
      "outputs": []
    },
    {
      "cell_type": "markdown",
      "metadata": {
        "colab_type": "text",
        "id": "6Vd0eendNNWG"
      },
      "source": [
        "```\n",
        "import module_name.member_name\n",
        "```"
      ]
    },
    {
      "cell_type": "code",
      "metadata": {
        "colab_type": "code",
        "editable": true,
        "id": "o7SbLG4yFeG2",
        "colab": {}
      },
      "source": [
        "from math import pi\n",
        "pi"
      ],
      "execution_count": 0,
      "outputs": []
    },
    {
      "cell_type": "markdown",
      "metadata": {
        "colab_type": "text",
        "id": "IAcxAPBtNYHx"
      },
      "source": [
        "\n",
        "\n",
        "```\n",
        "from module_name import *\n",
        "```\n",
        "\n"
      ]
    },
    {
      "cell_type": "code",
      "metadata": {
        "colab_type": "code",
        "id": "I30DTJmGNpBo",
        "colab": {}
      },
      "source": [
        "from math import *\n",
        "print(pi)\n",
        "print(factorial(6))"
      ],
      "execution_count": 0,
      "outputs": []
    },
    {
      "cell_type": "markdown",
      "metadata": {
        "colab_type": "text",
        "deletable": true,
        "editable": true,
        "id": "erCJzNDfFeGv"
      },
      "source": [
        "## (Optional) Creating objects from arguments or other objects\n",
        "\n",
        "The basic types and containers we have used so far all provide **type constructors**:\n",
        "\n",
        "- `int()`\n",
        "- `float()`\n",
        "- `str()`\n",
        "- `list()`\n",
        "- `tuple()`\n",
        "- `set()`\n",
        "- `dict()`\n",
        "\n",
        "Up to this point, we have been defining objects of these built-in types using some syntactic shortcuts, since they are so common.\n",
        "\n",
        "Sometimes, we have an object of one type that we need to convert to another type. We can use the **type constructor** for the type of object we want to have, and pass in the object we currently have."
      ]
    },
    {
      "cell_type": "code",
      "metadata": {
        "colab_type": "code",
        "deletable": true,
        "editable": true,
        "id": "LwOXsh2yFeGv",
        "colab": {}
      },
      "source": [
        "int(True)"
      ],
      "execution_count": 0,
      "outputs": []
    },
    {
      "cell_type": "code",
      "metadata": {
        "colab_type": "code",
        "deletable": true,
        "editable": true,
        "id": "71ZAIMl8FeGz",
        "colab": {}
      },
      "source": [
        "age_dict = {\"Gabby\": 8 , \"Maelle\": 5}\n",
        "age_list = list(age_dict.items())\n",
        "age_list"
      ],
      "execution_count": 0,
      "outputs": []
    },
    {
      "cell_type": "markdown",
      "metadata": {
        "colab_type": "text",
        "deletable": true,
        "editable": true,
        "id": "InAB7XAdFeG3",
        "toc-hr-collapsed": true
      },
      "source": [
        "## (Optional) Exceptions\n",
        "\n",
        "Even if a statement or expression is syntactically correct, it may cause an error when an attempt is made to execute it. \n",
        "\n",
        "Errors detected during execution are called **exceptions** and are not unconditionally fatal: we will soon learn how to handle them in Python programs.\n",
        "\n",
        "The ```try``` and ```except``` block in Python is used to catch and handle exceptions.\n",
        "\n",
        "```\n",
        "try:\n",
        "    # Run this code\n",
        "except:\n",
        "    # Execute this code when there is an exception\n",
        "else:\n",
        "    # No exceptions? Run this code\n",
        "finally:\n",
        "    # Always run this code\n",
        "```"
      ]
    },
    {
      "cell_type": "markdown",
      "metadata": {
        "colab_type": "text",
        "id": "4PszMxV0OTtC"
      },
      "source": [
        "### Raising an Exception"
      ]
    },
    {
      "cell_type": "code",
      "metadata": {
        "colab_type": "code",
        "deletable": true,
        "editable": true,
        "id": "V_blmsrlFeG4",
        "colab": {}
      },
      "source": [
        "x = 10\n",
        "if x > 5:\n",
        "    raise Exception('x should not exceed 5. The value of x was: {}'.format(x))"
      ],
      "execution_count": 0,
      "outputs": []
    },
    {
      "cell_type": "markdown",
      "metadata": {
        "colab_type": "text",
        "id": "LVPXeqN_OpLF"
      },
      "source": [
        "### Handling Exceptions: The try and except block"
      ]
    },
    {
      "cell_type": "code",
      "metadata": {
        "colab_type": "code",
        "deletable": true,
        "editable": true,
        "id": "uL9CDNlSFeG5",
        "colab": {}
      },
      "source": [
        "try:\n",
        "    with open('file.log') as file:\n",
        "        read_data = file.read()\n",
        "except:\n",
        "    print('Could not open file.log')"
      ],
      "execution_count": 0,
      "outputs": []
    },
    {
      "cell_type": "code",
      "metadata": {
        "colab_type": "code",
        "id": "4N8pW9neO99a",
        "colab": {}
      },
      "source": [
        "# To catch this type of exception and print it to screen, we could use the following code:\n",
        "try:\n",
        "    with open('file.log') as file:\n",
        "        read_data = file.read()\n",
        "except FileNotFoundError as fnf_error:\n",
        "    print(fnf_error)"
      ],
      "execution_count": 0,
      "outputs": []
    },
    {
      "cell_type": "code",
      "metadata": {
        "colab_type": "code",
        "id": "INurl2WkQc43",
        "colab": {}
      },
      "source": [
        "try:  \n",
        "    a = 100 / 0\n",
        "    print(a)\n",
        "except ZeroDivisionError:  \n",
        "    print(\"Zero Division Exception Raised.\")\n",
        "else:\n",
        "    print(\"Success, no error!\")\n",
        "finally:\n",
        "    print(\"Always runs!\")"
      ],
      "execution_count": 0,
      "outputs": []
    },
    {
      "cell_type": "markdown",
      "metadata": {
        "colab_type": "text",
        "deletable": true,
        "editable": true,
        "id": "p0kyLylyFeHC",
        "toc-hr-collapsed": true
      },
      "source": [
        "## (Optional) Classes: Creating our own objects"
      ]
    },
    {
      "cell_type": "code",
      "metadata": {
        "colab_type": "code",
        "deletable": true,
        "editable": true,
        "id": "6lMA6vy2FeG6",
        "colab": {}
      },
      "source": [
        "# Define a new class called `Thing` that is derived from the base Python object\n",
        "class Thing(object):\n",
        "    my_property = 'I am a \"Thing\"'\n",
        "\n",
        "\n",
        "# Define a new class called `DictThing` that is derived from the `dict` type\n",
        "class DictThing(dict):\n",
        "    my_property = 'I am a \"DictThing\"'"
      ],
      "execution_count": 0,
      "outputs": []
    },
    {
      "cell_type": "code",
      "metadata": {
        "colab_type": "code",
        "deletable": true,
        "editable": true,
        "id": "OcuiGtidFeG7",
        "colab": {}
      },
      "source": [
        "print(Thing)\n",
        "print(type(Thing))\n",
        "print(DictThing)\n",
        "print(type(DictThing))\n",
        "print(issubclass(DictThing, dict))\n",
        "print(issubclass(DictThing, object))"
      ],
      "execution_count": 0,
      "outputs": []
    },
    {
      "cell_type": "code",
      "metadata": {
        "colab_type": "code",
        "deletable": true,
        "editable": true,
        "id": "lplLkDR5FeG8",
        "colab": {}
      },
      "source": [
        "# Create \"instances\" of our new classes\n",
        "t = Thing()\n",
        "d = DictThing()\n",
        "print(t)\n",
        "print(type(t))\n",
        "print(d)\n",
        "print(type(d))"
      ],
      "execution_count": 0,
      "outputs": []
    },
    {
      "cell_type": "code",
      "metadata": {
        "colab_type": "code",
        "deletable": true,
        "editable": true,
        "id": "tv4OSfvaFeG-",
        "colab": {}
      },
      "source": [
        "# Interact with a DictThing instance just as we would a normal dictionary\n",
        "d['name'] = 'Sally'\n",
        "print(d)"
      ],
      "execution_count": 0,
      "outputs": []
    },
    {
      "cell_type": "code",
      "metadata": {
        "colab_type": "code",
        "deletable": true,
        "editable": true,
        "id": "BKyhyPbcFeG_",
        "colab": {}
      },
      "source": [
        "d.update({\n",
        "        'age': 13,\n",
        "        'fav_foods': ['pizza', 'sushi', 'pad thai', 'waffles'],\n",
        "        'fav_color': 'green',\n",
        "    })\n",
        "print(d)"
      ],
      "execution_count": 0,
      "outputs": []
    },
    {
      "cell_type": "code",
      "metadata": {
        "colab_type": "code",
        "deletable": true,
        "editable": true,
        "id": "v8Pyi7bIFeHA",
        "colab": {}
      },
      "source": [
        "print(d.my_property)"
      ],
      "execution_count": 0,
      "outputs": []
    },
    {
      "cell_type": "markdown",
      "metadata": {
        "colab_type": "text",
        "deletable": true,
        "editable": true,
        "id": "nBo4zy1oFeHE"
      },
      "source": [
        "### Magic Methods: \\_\\_init__\n",
        "\n",
        "More info: [A Guide to Python's Magic Methods](https://rszalski.github.io/magicmethods/)"
      ]
    },
    {
      "cell_type": "markdown",
      "metadata": {
        "colab_type": "text",
        "id": "XBK5epYZVIBC"
      },
      "source": [
        "What are magic methods? They're everything in object-oriented Python. They're special methods that yoweu can define to add \"magic\" to our classes. They're always surrounded by double underscores (e.g. `__init__` or `__lt__`).\n",
        "\n",
        "The most basic magic method is `__init__`. It's the way that we can define the initialization behavior of an object."
      ]
    },
    {
      "cell_type": "code",
      "metadata": {
        "colab_type": "code",
        "deletable": true,
        "editable": true,
        "id": "pMDzxTbvFeHF",
        "colab": {}
      },
      "source": [
        "class Point(object):\n",
        "    \"\"\" Point class represents and manipulates x,y coords. \"\"\"\n",
        "\n",
        "    def __init__(self, x=0, y=0):\n",
        "        \"\"\" Initialize a new point at x, y \"\"\"\n",
        "        self.x = x\n",
        "        self.y = y"
      ],
      "execution_count": 0,
      "outputs": []
    },
    {
      "cell_type": "code",
      "metadata": {
        "colab_type": "code",
        "deletable": true,
        "editable": true,
        "id": "NHh4wcUEFeHF",
        "colab": {}
      },
      "source": [
        "p = Point(2, 3)\n",
        "p.x, p.y"
      ],
      "execution_count": 0,
      "outputs": []
    },
    {
      "cell_type": "markdown",
      "metadata": {
        "colab_type": "text",
        "deletable": true,
        "editable": true,
        "id": "p2b8Y-CgFeHG"
      },
      "source": [
        "### Other \"magic methods\""
      ]
    },
    {
      "cell_type": "code",
      "metadata": {
        "colab_type": "code",
        "deletable": true,
        "editable": true,
        "id": "rtJr1fbFFeHG",
        "colab": {}
      },
      "source": [
        "# Comparison magic methods\n",
        "class Word(str):\n",
        "    '''Class for words, defining comparison based on word length.'''\n",
        "\n",
        "    def __new__(cls, word):\n",
        "        # Note that we have to use __new__. This is because str is an immutable\n",
        "        # type, so we have to initialize it early (at creation)\n",
        "        if ' ' in word:\n",
        "            print('Value contains spaces. Truncating to first space.')\n",
        "            word = word[:word.index(' ')] # Word is now all chars before first space\n",
        "        return str.__new__(cls, word)\n",
        "\n",
        "    def __gt__(self, other):\n",
        "        return len(self) > len(other)\n",
        "    def __lt__(self, other):\n",
        "        return len(self) < len(other)\n",
        "    def __ge__(self, other):\n",
        "        return len(self) >= len(other)\n",
        "    def __le__(self, other):\n",
        "        return len(self) <= len(other)"
      ],
      "execution_count": 0,
      "outputs": []
    },
    {
      "cell_type": "code",
      "metadata": {
        "colab_type": "code",
        "deletable": true,
        "editable": true,
        "id": "jW0Hx2FyFeHH",
        "colab": {}
      },
      "source": [
        "word1 = Word('dog')\n",
        "word2 = Word('zebra')\n",
        "print(word1 > word2)\n",
        "print(word1 < word2)"
      ],
      "execution_count": 0,
      "outputs": []
    },
    {
      "cell_type": "markdown",
      "metadata": {
        "colab_type": "text",
        "deletable": true,
        "editable": true,
        "id": "6A1Wb0__FeHK"
      },
      "source": [
        "## (Optional) Context managers and the \"with statement\"\n",
        "\n",
        "Using `with`, we can call anything that returns a context manager (like the built-in `open()` function). We assign it to a variable using ... `as <variable_name>`. Crucially, the variable only exists within the indented block below the with statement.\n",
        "\n",
        "The `with` statement clarifies code that previously would use try...finally blocks to ensure that clean-up code is executed\n",
        "\n",
        "```\n",
        "with expression [as variable]:\n",
        "    with-block\n",
        "```\n",
        "\n",
        "To use with statement in user defined objects we only need to add the methods `__enter__()` and `__exit__()` in the object methods.\n",
        "\n"
      ]
    },
    {
      "cell_type": "code",
      "metadata": {
        "colab_type": "code",
        "deletable": true,
        "editable": true,
        "id": "z8g2KJ2GFeHK",
        "colab": {}
      },
      "source": [
        "from threading import Lock\n",
        "lock = Lock()\n",
        "\n",
        "def do_something_dangerous():\n",
        "    with lock:\n",
        "        raise Exception('oops I forgot this code could raise exceptions')\n",
        "\n",
        "try:\n",
        "    do_something_dangerous()\n",
        "except:\n",
        "    print('Got an exception')\n",
        "lock.acquire()\n",
        "print('Got here')"
      ],
      "execution_count": 0,
      "outputs": []
    },
    {
      "cell_type": "markdown",
      "metadata": {
        "colab_type": "text",
        "id": "nJYvDKFBmfyn"
      },
      "source": [
        "---\n",
        "**[Week 1 - Python](https://radu-enuca.gitbook.io/ml-challenge/python)**\n",
        "\n",
        "*Have questions or comments? Visit the ML Challenge Mattermost Channel.*"
      ]
    }
  ]
}