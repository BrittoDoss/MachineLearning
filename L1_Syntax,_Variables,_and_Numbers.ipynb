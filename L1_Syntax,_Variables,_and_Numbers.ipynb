{
  "nbformat": 4,
  "nbformat_minor": 0,
  "metadata": {
    "anaconda-cloud": {},
    "celltoolbar": "Edit Metadata",
    "kernelspec": {
      "display_name": "Python 3",
      "language": "python",
      "name": "python3"
    },
    "language_info": {
      "codemirror_mode": {
        "name": "ipython",
        "version": 3
      },
      "file_extension": ".py",
      "mimetype": "text/x-python",
      "name": "python",
      "nbconvert_exporter": "python",
      "pygments_lexer": "ipython3",
      "version": "3.7.4"
    },
    "learntools_metadata": {
      "lesson_index": 0,
      "type": "tutorial"
    },
    "colab": {
      "name": "L1_Syntax, Variables, and Numbers.ipynb",
      "provenance": [],
      "include_colab_link": true
    }
  },
  "cells": [
    {
      "cell_type": "markdown",
      "metadata": {
        "id": "view-in-github",
        "colab_type": "text"
      },
      "source": [
        "<a href=\"https://colab.research.google.com/github/BrittoDoss/MachineLearning/blob/master/L1_Syntax%2C_Variables%2C_and_Numbers.ipynb\" target=\"_parent\"><img src=\"https://colab.research.google.com/assets/colab-badge.svg\" alt=\"Open In Colab\"/></a>"
      ]
    },
    {
      "cell_type": "markdown",
      "metadata": {
        "id": "KKNletxfgVC2",
        "colab_type": "text"
      },
      "source": [
        "# Intro\n",
        "\n",
        "We'll start with a brief overview of Python syntax, variable assignment, and arithmetic operators."
      ]
    },
    {
      "cell_type": "markdown",
      "metadata": {
        "id": "0epBeNcXgVC_",
        "colab_type": "text"
      },
      "source": [
        "# Hello, Python!\n",
        "\n",
        "Python was named for the British comedy troupe [Monty Python](https://en.wikipedia.org/wiki/Monty_Python), so we'll make our first Python program an homage to their skit about Spam?"
      ]
    },
    {
      "cell_type": "code",
      "metadata": {
        "_kg_hide-output": true,
        "id": "lcXLmk3FgVDC",
        "colab_type": "code",
        "outputId": "7ef5d28a-9635-4418-a8f5-9c21b70af7ed",
        "colab": {
          "base_uri": "https://localhost:8080/",
          "height": 68
        }
      },
      "source": [
        "spam_amount = 0\n",
        "print(spam_amount)\n",
        "\n",
        "# Ordering Spam, egg, Spam, Spam, bacon and Spam (4 more servings of Spam)\n",
        "spam_amount = spam_amount + 4\n",
        "\n",
        "if spam_amount > 0:\n",
        "    print(\"But I don't want ANY spam!\")\n",
        "\n",
        "viking_song = \"Spam \" * spam_amount\n",
        "print(viking_song)"
      ],
      "execution_count": 0,
      "outputs": [
        {
          "output_type": "stream",
          "text": [
            "0\n",
            "But I don't want ANY spam!\n",
            "Spam Spam Spam Spam \n"
          ],
          "name": "stdout"
        }
      ]
    },
    {
      "cell_type": "markdown",
      "metadata": {
        "id": "-x4INqxogVDJ",
        "colab_type": "text"
      },
      "source": [
        "There's a lot to unpack here! This silly program demonstrates many important aspects of what Python code looks like and how it works. Let's review the code from top to bottom."
      ]
    },
    {
      "cell_type": "code",
      "metadata": {
        "id": "G9OUjNkDgVDM",
        "colab_type": "code",
        "colab": {}
      },
      "source": [
        "spam_amount = 0"
      ],
      "execution_count": 0,
      "outputs": []
    },
    {
      "cell_type": "markdown",
      "metadata": {
        "id": "o5nyNwGkgVDW",
        "colab_type": "text"
      },
      "source": [
        "**Variable assignment:** Here we create a variable called `spam_amount` and assign it the value of 0 using `=`, which is called the assignment operator.\n",
        "\n",
        "> **Aside**: If you've programmed in certain other languages (like Java or C++), you might be noticing some things Python *doesn't* require us to do here:  \n",
        "- this is called dynamic typing\n",
        "- we don't need to \"declare\" `spam_amount` before assigning to it\n",
        "- we don't need to tell Python what type of value `spam_amount` is going to refer to. In fact, we can even go on to reassign `spam_amount` to refer to a different sort of thing like a string or a boolean."
      ]
    },
    {
      "cell_type": "code",
      "metadata": {
        "_kg_hide-output": false,
        "id": "cee5wBCXgVDY",
        "colab_type": "code",
        "colab": {}
      },
      "source": [
        "print(spam_amount)"
      ],
      "execution_count": 0,
      "outputs": []
    },
    {
      "cell_type": "markdown",
      "metadata": {
        "id": "RkWxNPttgVDl",
        "colab_type": "text"
      },
      "source": [
        "**Function calls:**. `print` is a Python function that displays the value passed to it on the screen. We call functions by putting parentheses after their name, and putting the inputs (or *arguments*) to the function in those parentheses."
      ]
    },
    {
      "cell_type": "code",
      "metadata": {
        "_kg_hide-output": false,
        "id": "yB_EnTTxgVDo",
        "colab_type": "code",
        "colab": {}
      },
      "source": [
        "# Ordering Spam, egg, Spam, Spam, bacon and Spam (4 more servings of Spam)\n",
        "spam_amount = spam_amount + 4"
      ],
      "execution_count": 0,
      "outputs": []
    },
    {
      "cell_type": "markdown",
      "metadata": {
        "id": "InNfTzs1gVD0",
        "colab_type": "text"
      },
      "source": [
        "The first line above is a **comment**. In Python, comments begin with the `#` symbol.\n",
        "\n",
        "Next we see an example of reassignment. Reassigning the value of an existing variable looks just the same as creating a variable - it still uses the `=` assignment operator.\n",
        "\n",
        "In this case, the value we're assigning to `spam_amount` involves some simple arithmetic on its previous value. When it encounters this line, Python evaluates the expression on the right-hand-side of the `=` (0 + 4 = 4), and then assigns that value to the variable on the left-hand-side."
      ]
    },
    {
      "cell_type": "code",
      "metadata": {
        "_kg_hide-output": false,
        "id": "5bt_OP4OgVD4",
        "colab_type": "code",
        "colab": {}
      },
      "source": [
        "if spam_amount > 0:\n",
        "    print(\"But I don't want ANY spam!\")\n",
        "\n",
        "viking_song = \"Spam Spam Spam\"\n",
        "print(viking_song)"
      ],
      "execution_count": 0,
      "outputs": []
    },
    {
      "cell_type": "markdown",
      "metadata": {
        "id": "kW3vGAKcgVED",
        "colab_type": "text"
      },
      "source": [
        "We won't talk much about \"conditionals\" until later, but, even someone who has never coded before, can probably guess what this does. Python is prized for its readability and the simplicity. \n",
        "\n",
        "Note how we indicated which code belongs to the `if`. `\"But I don't want ANY spam!\"` is only supposed to be printed if `spam_amount` is positive. But the later code (like `print(viking_song)`) should be executed no matter what. How do we (and Python) know that?\n",
        "\n",
        "The colon (`:`) at the end of the `if` line indicates that a new \"code block\" is starting. Subsequent lines which are **indented** are part of that code block. Some other languages use `{`curly braces`}` to mark the beginning and end of code blocks. Python's use of meaningful whitespace can be surprising to programmers who are accustomed to other languages, but in practice it can lead to more consistent and readable code than languages that do not enforce indentation of code blocks. \n",
        "\n",
        "The later lines dealing with `viking_song` are not indented with an extra 4 spaces, so they're not a part of the `if`'s code block. We'll see more examples of indented code blocks later when we define functions and using loops.\n",
        "\n",
        "This code snippet is also our first sighting of a **string** in Python:\n",
        "\n",
        "```python\n",
        "\"But I don't want ANY spam!\"\n",
        "```\n",
        "\n",
        "Strings can be marked either by double or single quotation marks. (But because this particular string *contains* a single-quote character, we might confuse Python by trying to surround it with single-quotes, unless we're careful.)"
      ]
    },
    {
      "cell_type": "code",
      "metadata": {
        "_kg_hide-output": false,
        "id": "pPcvbktGgVEF",
        "colab_type": "code",
        "colab": {}
      },
      "source": [
        "viking_song = \"Spam \" * spam_amount\n",
        "print(viking_song)"
      ],
      "execution_count": 0,
      "outputs": []
    },
    {
      "cell_type": "markdown",
      "metadata": {
        "id": "WZoNyAlSgVEL",
        "colab_type": "text"
      },
      "source": [
        "The `*` operator can be used to multiply two numbers (`3 * 3` evaluates to 9), but amusingly enough, we can also multiply a string by a number, to get a version that's been repeated that many times. Python offers a number of cheeky little time-saving tricks like this where operators like `*` and `+` have a different meaning depending on what kind of thing they're applied to. (The technical term for this is [operator overloading](https://en.wikipedia.org/wiki/Operator_overloading))"
      ]
    },
    {
      "cell_type": "markdown",
      "metadata": {
        "id": "MkfQAZlBgVEN",
        "colab_type": "text"
      },
      "source": [
        "## Numbers and arithmetic in Python\n",
        "\n",
        "We've already seen an example of a variable containing a number above:"
      ]
    },
    {
      "cell_type": "code",
      "metadata": {
        "id": "UVJuqk9sgVEQ",
        "colab_type": "code",
        "colab": {}
      },
      "source": [
        "spam_amount = 0"
      ],
      "execution_count": 0,
      "outputs": []
    },
    {
      "cell_type": "markdown",
      "metadata": {
        "id": "J_CLbCTigVEa",
        "colab_type": "text"
      },
      "source": [
        "\"Number\" is a fine informal name for the kind of thing, but if we wanted to be more technical, we could ask Python how it would describe the type of thing that `spam_amount` is:"
      ]
    },
    {
      "cell_type": "code",
      "metadata": {
        "id": "XONOTq0SgVEe",
        "colab_type": "code",
        "colab": {}
      },
      "source": [
        "type(spam_amount)"
      ],
      "execution_count": 0,
      "outputs": []
    },
    {
      "cell_type": "markdown",
      "metadata": {
        "id": "CH3WRjAggVEm",
        "colab_type": "text"
      },
      "source": [
        "It's an `int` - short for integer. There's another sort of number we commonly encounter in Python:"
      ]
    },
    {
      "cell_type": "code",
      "metadata": {
        "id": "OR4fvgVwgVEo",
        "colab_type": "code",
        "outputId": "7a4b6080-ceb2-4137-e3d9-6b7220c15d3b",
        "colab": {
          "base_uri": "https://localhost:8080/",
          "height": 34
        }
      },
      "source": [
        "type(19.95)"
      ],
      "execution_count": 0,
      "outputs": [
        {
          "output_type": "execute_result",
          "data": {
            "text/plain": [
              "float"
            ]
          },
          "metadata": {
            "tags": []
          },
          "execution_count": 2
        }
      ]
    },
    {
      "cell_type": "markdown",
      "metadata": {
        "id": "V4AJaT6bgVEw",
        "colab_type": "text"
      },
      "source": [
        "A `float` is a number with a decimal place - very useful for representing things like weights or proportions.\n",
        "\n",
        "`type()` is the second built-in function we've seen (after `print()`), and it's another good one to remember. It's very useful to be able to ask Python \"what kind of thing is this?\". "
      ]
    },
    {
      "cell_type": "markdown",
      "metadata": {
        "id": "oTTp4veLgVE0",
        "colab_type": "text"
      },
      "source": [
        "A natural thing to want to do with numbers is perform arithmetic. We've seen the `+` operator for addition, and the `*` operator for multiplication (of a sort). Python also has us covered for the rest of the basic buttons on our calculator:\n",
        "\n",
        "| Operator     | Name           | Description                                            |\n",
        "|--------------|----------------|--------------------------------------------------------|\n",
        "| ``a + b``    | Addition       | Sum of ``a`` and ``b``                                 |\n",
        "| ``a - b``    | Subtraction    | Difference of ``a`` and ``b``                          |\n",
        "| ``a * b``    | Multiplication | Product of ``a`` and ``b``                             |\n",
        "| ``a / b``    | True division  | Quotient of ``a`` and ``b``                            |\n",
        "| ``a // b``   | Floor division | Quotient of ``a`` and ``b``, removing fractional parts |\n",
        "| ``a % b``    | Modulus        | Integer remainder after division of ``a`` by ``b``     |\n",
        "| ``a ** b``   | Exponentiation | ``a`` raised to the power of ``b``                     |\n",
        "| ``-a``       | Negation       | The negative of ``a``                                  |\n",
        "\n",
        "<span style=\"display:none\"></span>\n",
        "\n",
        "One interesting observation here is that, whereas a calculator probably just has one button for division, Python can do two kinds. \"True division\" is basically what a calculator does:"
      ]
    },
    {
      "cell_type": "code",
      "metadata": {
        "id": "tn6wjwQngVE3",
        "colab_type": "code",
        "outputId": "48f803f8-58f5-4292-ebe7-ef5959ce830f",
        "colab": {
          "base_uri": "https://localhost:8080/",
          "height": 51
        }
      },
      "source": [
        "print(5 / 2.6)\n",
        "print(6 / 2)"
      ],
      "execution_count": 0,
      "outputs": [
        {
          "output_type": "stream",
          "text": [
            "1.923076923076923\n",
            "3.0\n"
          ],
          "name": "stdout"
        }
      ]
    },
    {
      "cell_type": "markdown",
      "metadata": {
        "id": "u6QFaQ-jgVE9",
        "colab_type": "text"
      },
      "source": [
        "It always gives us a `float`. \n",
        "\n",
        "The `//` operator gives us a result that's rounded down to the nearest integer."
      ]
    },
    {
      "cell_type": "code",
      "metadata": {
        "id": "6wuqXvjGgVFC",
        "colab_type": "code",
        "outputId": "6efa1ae3-5b41-4d52-89d1-602dbf433156",
        "colab": {
          "base_uri": "https://localhost:8080/",
          "height": 51
        }
      },
      "source": [
        "print(5 // 2.6)\n",
        "print(6 // 2)"
      ],
      "execution_count": 0,
      "outputs": [
        {
          "output_type": "stream",
          "text": [
            "1.0\n",
            "3\n"
          ],
          "name": "stdout"
        }
      ]
    },
    {
      "cell_type": "markdown",
      "metadata": {
        "id": "j5E0iACzgVFN",
        "colab_type": "text"
      },
      "source": [
        "Type checking can be executed to evaluate the results. \n"
      ]
    },
    {
      "cell_type": "code",
      "metadata": {
        "id": "7cIdo-cAgVFQ",
        "colab_type": "code",
        "outputId": "11b4c9e3-54d4-4be7-9ebf-e10574c46374",
        "colab": {
          "base_uri": "https://localhost:8080/",
          "height": 51
        }
      },
      "source": [
        "print(type(5 / 2))\n",
        "print(type(5 // 2))"
      ],
      "execution_count": 0,
      "outputs": [
        {
          "output_type": "stream",
          "text": [
            "<class 'float'>\n",
            "<class 'int'>\n"
          ],
          "name": "stdout"
        }
      ]
    },
    {
      "cell_type": "markdown",
      "metadata": {
        "id": "4Gq43ONOgVFZ",
        "colab_type": "text"
      },
      "source": [
        "### Order of operations\n",
        "\n",
        "The arithmetic we learned in primary school has conventions about the order in which operations are evaluated. Some remember these by a mnemonic such as **PEMDAS** - **P**arentheses, **E**xponents, **M**ultiplication/**D**ivision, **A**ddition/**S**ubtraction.\n",
        "\n",
        "Python follows similar rules about which calculations to perform first. They're mostly pretty intuitive."
      ]
    },
    {
      "cell_type": "code",
      "metadata": {
        "id": "mtmtQ-2GgVFd",
        "colab_type": "code",
        "outputId": "83149033-859a-4ee8-80d8-7f2a6997b50d",
        "colab": {
          "base_uri": "https://localhost:8080/",
          "height": 34
        }
      },
      "source": [
        "8 - 3 + 2"
      ],
      "execution_count": 0,
      "outputs": [
        {
          "output_type": "execute_result",
          "data": {
            "text/plain": [
              "7"
            ]
          },
          "metadata": {
            "tags": []
          },
          "execution_count": 10
        }
      ]
    },
    {
      "cell_type": "code",
      "metadata": {
        "id": "U7gMzcMbgVFl",
        "colab_type": "code",
        "outputId": "dd3f7c90-b201-464b-e8b5-bf9129defe49",
        "colab": {
          "base_uri": "https://localhost:8080/",
          "height": 34
        }
      },
      "source": [
        "-3 + 4 * 2"
      ],
      "execution_count": 0,
      "outputs": [
        {
          "output_type": "execute_result",
          "data": {
            "text/plain": [
              "5"
            ]
          },
          "metadata": {
            "tags": []
          },
          "execution_count": 15
        }
      ]
    },
    {
      "cell_type": "markdown",
      "metadata": {
        "id": "v4j9K1rugVFu",
        "colab_type": "text"
      },
      "source": [
        "Sometimes the default order of operations isn't what we want:"
      ]
    },
    {
      "cell_type": "code",
      "metadata": {
        "id": "f3akP4OtgVFv",
        "colab_type": "code",
        "outputId": "0bb527a8-48b3-4e2d-d571-728aa3a98d6a",
        "colab": {
          "base_uri": "https://localhost:8080/",
          "height": 34
        }
      },
      "source": [
        "hat_height_cm = 25\n",
        "my_height_cm = 190\n",
        "# How tall am I, in meters, when wearing my hat?\n",
        "total_height_meters = hat_height_cm + my_height_cm / 100\n",
        "print(\"Height in meters =\", total_height_meters, \"?\")"
      ],
      "execution_count": 0,
      "outputs": [
        {
          "output_type": "stream",
          "text": [
            "Height in meters = 26.9 ?\n"
          ],
          "name": "stdout"
        }
      ]
    },
    {
      "cell_type": "markdown",
      "metadata": {
        "id": "dSWkZBMGgVF4",
        "colab_type": "text"
      },
      "source": [
        "Parentheses are useful here. We can add them to force Python to evaluate sub-expressions in whatever order we want."
      ]
    },
    {
      "cell_type": "code",
      "metadata": {
        "id": "qV_U3vn9gVF6",
        "colab_type": "code",
        "colab": {}
      },
      "source": [
        "total_height_meters = (hat_height_cm + my_height_cm) / 100\n",
        "print(\"Height in meters =\", total_height_meters)"
      ],
      "execution_count": 0,
      "outputs": []
    },
    {
      "cell_type": "markdown",
      "metadata": {
        "id": "OZNgux2agVF_",
        "colab_type": "text"
      },
      "source": [
        "### Builtin functions for working with numbers\n",
        "\n",
        "`min` and `max` return the minimum and maximum of their arguments, respectively..."
      ]
    },
    {
      "cell_type": "code",
      "metadata": {
        "id": "jKMxwDkzgVGB",
        "colab_type": "code",
        "colab": {}
      },
      "source": [
        "print(min(1, 2, 3))\n",
        "print(max(1, 2, 3))"
      ],
      "execution_count": 0,
      "outputs": []
    },
    {
      "cell_type": "markdown",
      "metadata": {
        "id": "YtpuyycBgVGI",
        "colab_type": "text"
      },
      "source": [
        "`abs` returns the absolute value of it argument:"
      ]
    },
    {
      "cell_type": "code",
      "metadata": {
        "id": "_kqfZ2K-gVGL",
        "colab_type": "code",
        "outputId": "edaa9fd9-4384-4ca1-eef9-2274865dc74e",
        "colab": {
          "base_uri": "https://localhost:8080/",
          "height": 51
        }
      },
      "source": [
        "print(abs(32))\n",
        "print(abs(-32))"
      ],
      "execution_count": 0,
      "outputs": [
        {
          "output_type": "stream",
          "text": [
            "32\n",
            "32\n"
          ],
          "name": "stdout"
        }
      ]
    },
    {
      "cell_type": "markdown",
      "metadata": {
        "id": "ZyRxR6EtgVGS",
        "colab_type": "text"
      },
      "source": [
        "In addition to being the names of Python's two main numerical types, `int` and `float` can also be called as functions which convert their arguments to the corresponding type:"
      ]
    },
    {
      "cell_type": "code",
      "metadata": {
        "id": "IOAniduYgVGU",
        "colab_type": "code",
        "outputId": "531759e0-4ac7-4af3-bbd5-a5876f1f200f",
        "colab": {
          "base_uri": "https://localhost:8080/",
          "height": 68
        }
      },
      "source": [
        "print(float(10))\n",
        "print(int(3.33))\n",
        "# They can even be called on strings!\n",
        "print(int('807') + 1)"
      ],
      "execution_count": 0,
      "outputs": [
        {
          "output_type": "stream",
          "text": [
            "10.0\n",
            "3\n",
            "808\n"
          ],
          "name": "stdout"
        }
      ]
    },
    {
      "cell_type": "markdown",
      "metadata": {
        "id": "9EPdS-B7gVGb",
        "colab_type": "text"
      },
      "source": [
        "---\n",
        "**[Week 1 - Python](https://radu-enuca.gitbook.io/ml-challenge/python)**\n",
        "\n",
        "*Have questions or comments? Visit the ML Challenge Mattermost Channel.*"
      ]
    }
  ]
}