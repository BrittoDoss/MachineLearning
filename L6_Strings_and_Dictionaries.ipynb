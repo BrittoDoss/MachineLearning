{
  "nbformat": 4,
  "nbformat_minor": 0,
  "metadata": {
    "anaconda-cloud": {},
    "kernelspec": {
      "display_name": "Python 3",
      "language": "python",
      "name": "python3"
    },
    "language_info": {
      "codemirror_mode": {
        "name": "ipython",
        "version": 3
      },
      "file_extension": ".py",
      "mimetype": "text/x-python",
      "name": "python",
      "nbconvert_exporter": "python",
      "pygments_lexer": "ipython3",
      "version": "3.7.4"
    },
    "learntools_metadata": {
      "lesson_index": 5,
      "type": "tutorial"
    },
    "colab": {
      "name": "L6_Strings and Dictionaries.ipynb",
      "provenance": [],
      "include_colab_link": true
    }
  },
  "cells": [
    {
      "cell_type": "markdown",
      "metadata": {
        "id": "view-in-github",
        "colab_type": "text"
      },
      "source": [
        "<a href=\"https://colab.research.google.com/github/BrittoDoss/MachineLearning/blob/master/L6_Strings_and_Dictionaries.ipynb\" target=\"_parent\"><img src=\"https://colab.research.google.com/assets/colab-badge.svg\" alt=\"Open In Colab\"/></a>"
      ]
    },
    {
      "cell_type": "markdown",
      "metadata": {
        "id": "fuJSwOZir_NF",
        "colab_type": "text"
      },
      "source": [
        "# Strings"
      ]
    },
    {
      "cell_type": "markdown",
      "metadata": {
        "id": "EaWXHcQbr_NL",
        "colab_type": "text"
      },
      "source": [
        "One place where the Python language really shines is in the manipulation of strings.\n",
        "This section will cover some of Python's built-in string methods and formatting operations.\n",
        "\n",
        "Such string manipulation patterns come up often in the context of data science work, and is one big perk of Python in this context.\n",
        "\n",
        "## String syntax\n",
        "\n",
        "Strings in Python can be defined using either single or double quotations. They are functionally equivalent."
      ]
    },
    {
      "cell_type": "code",
      "metadata": {
        "id": "X2vT25vrr_NM",
        "colab_type": "code",
        "colab": {}
      },
      "source": [
        "x = 'Pluto is a planet'\n",
        "y = \"Pluto is a planet\"\n",
        "x == y"
      ],
      "execution_count": 0,
      "outputs": []
    },
    {
      "cell_type": "markdown",
      "metadata": {
        "id": "0dFdejF7r_NT",
        "colab_type": "text"
      },
      "source": [
        "Double quotes are convenient if the string contains a single quote character (e.g. representing an apostrophe).\n",
        "\n",
        "Similarly, it's easy to create a string that contains double-quotes if we wrap it in single quotes:"
      ]
    },
    {
      "cell_type": "code",
      "metadata": {
        "id": "buePocNbr_NX",
        "colab_type": "code",
        "colab": {}
      },
      "source": [
        "print(\"Pluto's a planet!\")\n",
        "print('My dog is named \"Pluto\"')"
      ],
      "execution_count": 0,
      "outputs": []
    },
    {
      "cell_type": "markdown",
      "metadata": {
        "id": "xrOzjVjKr_Ng",
        "colab_type": "text"
      },
      "source": [
        "If we try to put a single quote character inside a single-quoted string, Python gets confused:"
      ]
    },
    {
      "cell_type": "code",
      "metadata": {
        "tags": [
          "raises-exception"
        ],
        "id": "3zQ_k1bsr_Ni",
        "colab_type": "code",
        "colab": {}
      },
      "source": [
        "'Pluto's a planet!'"
      ],
      "execution_count": 0,
      "outputs": []
    },
    {
      "cell_type": "markdown",
      "metadata": {
        "id": "CNvxIHcor_No",
        "colab_type": "text"
      },
      "source": [
        "We can fix this by \"escaping\" the single quote with a backslash. "
      ]
    },
    {
      "cell_type": "code",
      "metadata": {
        "id": "YhfBNhqEr_Nq",
        "colab_type": "code",
        "colab": {}
      },
      "source": [
        "'Pluto\\'s a planet!'"
      ],
      "execution_count": 0,
      "outputs": []
    },
    {
      "cell_type": "markdown",
      "metadata": {
        "id": "kyJMfGA-r_Nw",
        "colab_type": "text"
      },
      "source": [
        "The table below summarizes some important uses of the backslash character.\n",
        "\n",
        "| What you type... | What you get | Example               | `print(example)`             |\n",
        "|------------------|--------------|-----------------------|------------------------------|\n",
        "| `\\'`             | `'`          | `'What\\'s up?'`       | `What's up?`                 |  \n",
        "| `\\\"`             | `\"`          | `\"That's \\\"cool\\\"\"`   | `That's \"cool\"`              |  \n",
        "| `\\\\`             | `\\`          |  `\"Look, a mountain: /\\\\\"` |  `Look, a mountain: /\\` |\n",
        "| `\\n`             |   <br/>      |   `\"1\\n2 3\"`          |   `1`<br/>`2 3`              |"
      ]
    },
    {
      "cell_type": "markdown",
      "metadata": {
        "id": "f0Jls7vUr_Ny",
        "colab_type": "text"
      },
      "source": [
        "The last sequence, `\\n`, represents the *newline character*. It causes Python to start a new line."
      ]
    },
    {
      "cell_type": "code",
      "metadata": {
        "id": "PdHTgPfzr_N0",
        "colab_type": "code",
        "colab": {}
      },
      "source": [
        "hello = \"hello\\nworld\"\n",
        "print(hello)"
      ],
      "execution_count": 0,
      "outputs": []
    },
    {
      "cell_type": "markdown",
      "metadata": {
        "id": "EOax8vaer_N6",
        "colab_type": "text"
      },
      "source": [
        "In addition, Python's triple quote syntax for strings lets us include newlines literally (i.e. by just hitting 'Enter' on our keyboard, rather than using the special '\\n' sequence). We've already seen this in the docstrings we use to document our functions, but we can use them anywhere we want to define a string."
      ]
    },
    {
      "cell_type": "code",
      "metadata": {
        "id": "XdLwRTptr_N8",
        "colab_type": "code",
        "colab": {}
      },
      "source": [
        "triplequoted_hello = \"\"\"hello\n",
        "world\"\"\"\n",
        "print(triplequoted_hello)\n",
        "triplequoted_hello == hello"
      ],
      "execution_count": 0,
      "outputs": []
    },
    {
      "cell_type": "markdown",
      "metadata": {
        "id": "lmN5jaVUr_OB",
        "colab_type": "text"
      },
      "source": [
        "The `print()` function automatically adds a newline character unless we specify a value for the keyword argument `end` other than the default value of `'\\n'`:"
      ]
    },
    {
      "cell_type": "code",
      "metadata": {
        "id": "xlfXiJz1r_OC",
        "colab_type": "code",
        "colab": {}
      },
      "source": [
        "print(\"hello\")\n",
        "print(\"world\")\n",
        "print(\"hello\", end='')\n",
        "print(\"pluto\", end='')"
      ],
      "execution_count": 0,
      "outputs": []
    },
    {
      "cell_type": "markdown",
      "metadata": {
        "id": "DVXWcQv0r_OM",
        "colab_type": "text"
      },
      "source": [
        "## Strings are sequences\n",
        "\n",
        "Strings can be thought of as sequences of characters. Almost everything we've seen that we can do to a list, we can also do to a string."
      ]
    },
    {
      "cell_type": "code",
      "metadata": {
        "id": "gRnJWZ-8r_OO",
        "colab_type": "code",
        "colab": {}
      },
      "source": [
        "# Indexing\n",
        "planet = 'Pluto'\n",
        "planet[0]"
      ],
      "execution_count": 0,
      "outputs": []
    },
    {
      "cell_type": "code",
      "metadata": {
        "id": "N65VRoYwr_OU",
        "colab_type": "code",
        "colab": {}
      },
      "source": [
        "# Slicing\n",
        "planet[-3:]"
      ],
      "execution_count": 0,
      "outputs": []
    },
    {
      "cell_type": "code",
      "metadata": {
        "id": "dLzmXF3Sr_Ob",
        "colab_type": "code",
        "colab": {}
      },
      "source": [
        "# How long is this string?\n",
        "len(planet)"
      ],
      "execution_count": 0,
      "outputs": []
    },
    {
      "cell_type": "code",
      "metadata": {
        "id": "ZnwUWmRRr_Oi",
        "colab_type": "code",
        "colab": {}
      },
      "source": [
        "# Yes, we can even loop over them\n",
        "[char+'! ' for char in planet]"
      ],
      "execution_count": 0,
      "outputs": []
    },
    {
      "cell_type": "markdown",
      "metadata": {
        "id": "_G2MnrwKr_On",
        "colab_type": "text"
      },
      "source": [
        "But a major way in which they differ from lists is that they are *immutable*. We can't modify them."
      ]
    },
    {
      "cell_type": "code",
      "metadata": {
        "tags": [
          "raises-exception"
        ],
        "id": "9KfrABker_Oo",
        "colab_type": "code",
        "colab": {}
      },
      "source": [
        "planet[0] = 'B'\n",
        "# planet.append doesn't work either"
      ],
      "execution_count": 0,
      "outputs": []
    },
    {
      "cell_type": "markdown",
      "metadata": {
        "id": "OtYyBfWGr_Ow",
        "colab_type": "text"
      },
      "source": [
        "## String methods\n",
        "\n",
        "Like `list`, the type `str` has lots of very useful methods. I'll show just a few examples here."
      ]
    },
    {
      "cell_type": "code",
      "metadata": {
        "id": "Hj1dfGAOr_Oy",
        "colab_type": "code",
        "colab": {}
      },
      "source": [
        "# ALL CAPS\n",
        "claim = \"Pluto is a planet!\"\n",
        "claim.upper()"
      ],
      "execution_count": 0,
      "outputs": []
    },
    {
      "cell_type": "code",
      "metadata": {
        "id": "I4qgfK8Hr_O2",
        "colab_type": "code",
        "colab": {}
      },
      "source": [
        "# all lowercase\n",
        "claim.lower()"
      ],
      "execution_count": 0,
      "outputs": []
    },
    {
      "cell_type": "code",
      "metadata": {
        "id": "DTDCJhPor_O-",
        "colab_type": "code",
        "colab": {}
      },
      "source": [
        "# Searching for the first index of a substring\n",
        "claim.index('plan')"
      ],
      "execution_count": 0,
      "outputs": []
    },
    {
      "cell_type": "code",
      "metadata": {
        "id": "vSMBBQ_Mr_PC",
        "colab_type": "code",
        "colab": {}
      },
      "source": [
        "claim.startswith(planet)"
      ],
      "execution_count": 0,
      "outputs": []
    },
    {
      "cell_type": "code",
      "metadata": {
        "id": "QIy9AAzQr_PG",
        "colab_type": "code",
        "colab": {}
      },
      "source": [
        "claim.endswith('dwarf planet')"
      ],
      "execution_count": 0,
      "outputs": []
    },
    {
      "cell_type": "markdown",
      "metadata": {
        "id": "VxvJMGwIr_PO",
        "colab_type": "text"
      },
      "source": [
        "### Going between strings and lists: `.split()` and `.join()`\n",
        "\n",
        "`str.split()` turns a string into a list of smaller strings, breaking on whitespace by default. This is useful for converting one big string to a list of words."
      ]
    },
    {
      "cell_type": "code",
      "metadata": {
        "id": "GJbx4zI6r_PQ",
        "colab_type": "code",
        "colab": {}
      },
      "source": [
        "words = claim.split()\n",
        "words"
      ],
      "execution_count": 0,
      "outputs": []
    },
    {
      "cell_type": "markdown",
      "metadata": {
        "id": "JHvI542xr_PU",
        "colab_type": "text"
      },
      "source": [
        "What if we want to split on something other than whitespace?"
      ]
    },
    {
      "cell_type": "code",
      "metadata": {
        "id": "useu6hlJr_PW",
        "colab_type": "code",
        "colab": {}
      },
      "source": [
        "datestr = '1956-01-31'\n",
        "year, month, day = datestr.split('-')"
      ],
      "execution_count": 0,
      "outputs": []
    },
    {
      "cell_type": "markdown",
      "metadata": {
        "id": "q2-0QuCKr_Pa",
        "colab_type": "text"
      },
      "source": [
        "`str.join()` takes us in the other direction, sewing a list of strings up into one long string, using the string it was called on as a separator."
      ]
    },
    {
      "cell_type": "code",
      "metadata": {
        "id": "DeDyw4r-r_Pb",
        "colab_type": "code",
        "colab": {}
      },
      "source": [
        "'/'.join([month, day, year])"
      ],
      "execution_count": 0,
      "outputs": []
    },
    {
      "cell_type": "code",
      "metadata": {
        "id": "kLnIGinxr_Pf",
        "colab_type": "code",
        "colab": {}
      },
      "source": [
        "# Yes, we can put unicode characters right in our string literals :)\n",
        "' 👏 '.join([word.upper() for word in words])"
      ],
      "execution_count": 0,
      "outputs": []
    },
    {
      "cell_type": "markdown",
      "metadata": {
        "id": "joqeaM5ir_Pk",
        "colab_type": "text"
      },
      "source": [
        "### Building strings with `.format()`\n",
        "\n",
        "Python lets us concatenate strings with the `+` operator."
      ]
    },
    {
      "cell_type": "code",
      "metadata": {
        "id": "pZDfEV-nr_Pm",
        "colab_type": "code",
        "colab": {}
      },
      "source": [
        "planet + ', we miss you.'"
      ],
      "execution_count": 0,
      "outputs": []
    },
    {
      "cell_type": "markdown",
      "metadata": {
        "id": "rmBQ6Gwcr_Ps",
        "colab_type": "text"
      },
      "source": [
        "If we want to throw in any non-string objects, we have to be careful to call `str()` on them first"
      ]
    },
    {
      "cell_type": "code",
      "metadata": {
        "tags": [
          "raises-exception"
        ],
        "id": "l6Vrtu-kr_Pt",
        "colab_type": "code",
        "colab": {}
      },
      "source": [
        "position = 9\n",
        "planet + \", you'll always be the \" + position + \"th planet to me.\""
      ],
      "execution_count": 0,
      "outputs": []
    },
    {
      "cell_type": "code",
      "metadata": {
        "id": "0wQFcZEcr_Px",
        "colab_type": "code",
        "colab": {}
      },
      "source": [
        "planet + \", you'll always be the \" + str(position) + \"th planet to me.\""
      ],
      "execution_count": 0,
      "outputs": []
    },
    {
      "cell_type": "markdown",
      "metadata": {
        "id": "ZhxNOU2vr_P3",
        "colab_type": "text"
      },
      "source": [
        "This is getting hard to read and annoying to type. `str.format()` to the rescue."
      ]
    },
    {
      "cell_type": "code",
      "metadata": {
        "id": "YHqy0rFOr_P5",
        "colab_type": "code",
        "colab": {}
      },
      "source": [
        "\"{}, you'll always be the {}th planet to me.\".format(planet, position)"
      ],
      "execution_count": 0,
      "outputs": []
    },
    {
      "cell_type": "markdown",
      "metadata": {
        "id": "XVr0x2LXr_P9",
        "colab_type": "text"
      },
      "source": [
        "So much cleaner! We call `.format()` on a \"format string\", where the Python values we want to insert are represented with `{}` placeholders.\n",
        "\n",
        "Notice how we didn't even have to call `str()` to convert `position` from an int. `format()` takes care of that for us.\n",
        "\n",
        "If that was all that `format()` did, it would still be incredibly useful. But as it turns out, it can do a *lot* more. Here's just a taste:"
      ]
    },
    {
      "cell_type": "code",
      "metadata": {
        "id": "OJI2ELrrr_P_",
        "colab_type": "code",
        "colab": {}
      },
      "source": [
        "pluto_mass = 1.303 * 10**22\n",
        "earth_mass = 5.9722 * 10**24\n",
        "population = 52910390\n",
        "#         2 decimal points   3 decimal points, format as percent     separate with commas\n",
        "\"{} weighs about {:.2} kilograms ({:.3%} of Earth's mass). It is home to {:,} Plutonians.\".format(\n",
        "    planet, pluto_mass, pluto_mass / earth_mass, population,\n",
        ")"
      ],
      "execution_count": 0,
      "outputs": []
    },
    {
      "cell_type": "code",
      "metadata": {
        "id": "qYDfEFHzr_QE",
        "colab_type": "code",
        "colab": {}
      },
      "source": [
        "# Referring to format() arguments by index, starting from 0\n",
        "s = \"\"\"Pluto's a {0}.\n",
        "No, it's a {1}.\n",
        "{0}!\n",
        "{1}!\"\"\".format('planet', 'dwarf planet')\n",
        "print(s)"
      ],
      "execution_count": 0,
      "outputs": []
    },
    {
      "cell_type": "markdown",
      "metadata": {
        "id": "wFOh2mfir_QI",
        "colab_type": "text"
      },
      "source": [
        "# Dictionaries\n",
        "\n",
        "Dictionaries are a built-in Python data structure for mapping keys to values."
      ]
    },
    {
      "cell_type": "code",
      "metadata": {
        "id": "Opo9h9UOr_QJ",
        "colab_type": "code",
        "colab": {}
      },
      "source": [
        "numbers = {'one':1, 'two':2, 'three':3}"
      ],
      "execution_count": 0,
      "outputs": []
    },
    {
      "cell_type": "markdown",
      "metadata": {
        "id": "lu23HqARr_QM",
        "colab_type": "text"
      },
      "source": [
        "In this case `'one'`, `'two'`, and `'three'` are the **keys**, and 1, 2 and 3 are their corresponding values.\n",
        "\n",
        "Values are accessed via square bracket syntax similar to indexing into lists and strings."
      ]
    },
    {
      "cell_type": "code",
      "metadata": {
        "id": "kbTLBQZdr_QQ",
        "colab_type": "code",
        "colab": {}
      },
      "source": [
        "numbers['one']"
      ],
      "execution_count": 0,
      "outputs": []
    },
    {
      "cell_type": "markdown",
      "metadata": {
        "id": "wnN3LjlMr_QV",
        "colab_type": "text"
      },
      "source": [
        "We can use the same syntax to add another key, value pair"
      ]
    },
    {
      "cell_type": "code",
      "metadata": {
        "id": "OuRM-A1Yr_QW",
        "colab_type": "code",
        "colab": {}
      },
      "source": [
        "numbers['eleven'] = 11\n",
        "numbers"
      ],
      "execution_count": 0,
      "outputs": []
    },
    {
      "cell_type": "markdown",
      "metadata": {
        "id": "dp7VBeGsr_Qd",
        "colab_type": "text"
      },
      "source": [
        "Or to change the value associated with an existing key"
      ]
    },
    {
      "cell_type": "code",
      "metadata": {
        "id": "6Pv9zoSXr_Qf",
        "colab_type": "code",
        "colab": {}
      },
      "source": [
        "numbers['one'] = 'Pluto'\n",
        "numbers"
      ],
      "execution_count": 0,
      "outputs": []
    },
    {
      "cell_type": "markdown",
      "metadata": {
        "id": "-bJNV9B-r_Qj",
        "colab_type": "text"
      },
      "source": [
        "Python has *dictionary comprehensions* with a syntax similar to the list comprehensions we saw in the previous tutorial."
      ]
    },
    {
      "cell_type": "code",
      "metadata": {
        "id": "h-OR2Teer_Qk",
        "colab_type": "code",
        "colab": {}
      },
      "source": [
        "planets = ['Mercury', 'Venus', 'Earth', 'Mars', 'Jupiter', 'Saturn', 'Uranus', 'Neptune']\n",
        "planet_to_initial = {planet: planet[0] for planet in planets}\n",
        "planet_to_initial"
      ],
      "execution_count": 0,
      "outputs": []
    },
    {
      "cell_type": "markdown",
      "metadata": {
        "id": "_hA4YB_Vr_Qp",
        "colab_type": "text"
      },
      "source": [
        "The `in` operator tells us whether something is a key in the dictionary"
      ]
    },
    {
      "cell_type": "code",
      "metadata": {
        "id": "8LtK6jkgr_Qq",
        "colab_type": "code",
        "colab": {}
      },
      "source": [
        "'Saturn' in planet_to_initial"
      ],
      "execution_count": 0,
      "outputs": []
    },
    {
      "cell_type": "code",
      "metadata": {
        "id": "TcxAwIhTr_Qv",
        "colab_type": "code",
        "colab": {}
      },
      "source": [
        "'Betelgeuse' in planet_to_initial"
      ],
      "execution_count": 0,
      "outputs": []
    },
    {
      "cell_type": "markdown",
      "metadata": {
        "id": "h-Ga0A0Rr_Q2",
        "colab_type": "text"
      },
      "source": [
        "A for loop over a dictionary will loop over its keys"
      ]
    },
    {
      "cell_type": "code",
      "metadata": {
        "id": "fb5lSEEir_Q4",
        "colab_type": "code",
        "colab": {}
      },
      "source": [
        "for k in numbers:\n",
        "    print(\"{} = {}\".format(k, numbers[k]))"
      ],
      "execution_count": 0,
      "outputs": []
    },
    {
      "cell_type": "markdown",
      "metadata": {
        "id": "X_nkE9gIr_Q9",
        "colab_type": "text"
      },
      "source": [
        "We can access a collection of all the keys or all the values with `dict.keys()` and `dict.values()`, respectively."
      ]
    },
    {
      "cell_type": "code",
      "metadata": {
        "id": "d5pUk82kr_Q-",
        "colab_type": "code",
        "colab": {}
      },
      "source": [
        "# Get all the initials, sort them alphabetically, and put them in a space-separated string.\n",
        "' '.join(sorted(planet_to_initial.values()))"
      ],
      "execution_count": 0,
      "outputs": []
    },
    {
      "cell_type": "markdown",
      "metadata": {
        "id": "32PTS9O_r_RE",
        "colab_type": "text"
      },
      "source": [
        "The very useful `dict.items()` method lets us iterate over the keys and values of a dictionary simultaneously. (In Python jargon, an **item** refers to a key, value pair)"
      ]
    },
    {
      "cell_type": "code",
      "metadata": {
        "id": "9nHVqSDJr_RH",
        "colab_type": "code",
        "colab": {}
      },
      "source": [
        "for planet, initial in planet_to_initial.items():\n",
        "    print(\"{} begins with \\\"{}\\\"\".format(planet.rjust(10), initial))"
      ],
      "execution_count": 0,
      "outputs": []
    },
    {
      "cell_type": "markdown",
      "metadata": {
        "id": "XjWe89C7r_RJ",
        "colab_type": "text"
      },
      "source": [
        "To read a full inventory of dictionaries' methods, click the \"output\" button below to read the full help page, or check out the [official online documentation](https://docs.python.org/3/library/stdtypes.html#dict)."
      ]
    },
    {
      "cell_type": "code",
      "metadata": {
        "_kg_hide-output": true,
        "id": "sy_xczopr_RK",
        "colab_type": "code",
        "colab": {}
      },
      "source": [
        "help(dict)"
      ],
      "execution_count": 0,
      "outputs": []
    },
    {
      "cell_type": "markdown",
      "metadata": {
        "id": "yak4E9DDr_RN",
        "colab_type": "text"
      },
      "source": [
        "---\n",
        "**[Week 1 - Python](https://radu-enuca.gitbook.io/ml-challenge/python)**\n",
        "\n",
        "*Have questions or comments? Visit the ML Challenge Mattermost Channel.*"
      ]
    }
  ]
}