{
  "nbformat": 4,
  "nbformat_minor": 0,
  "metadata": {
    "kernelspec": {
      "display_name": "Python 3",
      "language": "python",
      "name": "python3"
    },
    "language_info": {
      "codemirror_mode": {
        "name": "ipython",
        "version": 3
      },
      "file_extension": ".py",
      "mimetype": "text/x-python",
      "name": "python",
      "nbconvert_exporter": "python",
      "pygments_lexer": "ipython3",
      "version": "3.7.4"
    },
    "learntools_metadata": {
      "lesson_index": 1,
      "type": "tutorial"
    },
    "colab": {
      "name": "L2_Functions and Getting Help.ipynb",
      "provenance": [],
      "include_colab_link": true
    }
  },
  "cells": [
    {
      "cell_type": "markdown",
      "metadata": {
        "id": "view-in-github",
        "colab_type": "text"
      },
      "source": [
        "<a href=\"https://colab.research.google.com/github/BrittoDoss/MachineLearning/blob/master/L2_Functions_and_Getting_Help.ipynb\" target=\"_parent\"><img src=\"https://colab.research.google.com/assets/colab-badge.svg\" alt=\"Open In Colab\"/></a>"
      ]
    },
    {
      "cell_type": "markdown",
      "metadata": {
        "id": "Ikk61KjTlFtB",
        "colab_type": "text"
      },
      "source": [
        "# Intro\n",
        "We've already seen and used functions such as `print` and `abs`. But Python has many more functions, and defining our own functions is a big part of python programming.\n",
        "\n",
        "In this lesson we will learn more about using and defining functions."
      ]
    },
    {
      "cell_type": "markdown",
      "metadata": {
        "toc-hr-collapsed": true,
        "id": "bNGoZuIAlFtG",
        "colab_type": "text"
      },
      "source": [
        "# Getting Help\n",
        "\n",
        "The `help()` function is possibly the most important Python function we can learn.\n",
        "\n",
        "Here is an example:"
      ]
    },
    {
      "cell_type": "code",
      "metadata": {
        "id": "W4fgAAv_lFtJ",
        "colab_type": "code",
        "colab": {}
      },
      "source": [
        "help(round)"
      ],
      "execution_count": 0,
      "outputs": []
    },
    {
      "cell_type": "markdown",
      "metadata": {
        "id": "obVyfpKmlFtR",
        "colab_type": "text"
      },
      "source": [
        "`help()` displays two things:\n",
        "\n",
        "1. the header of that function `round(number[, ndigits])`. In this case, this tells us that `round()` takes an argument we can describe as `number`. Additionally, we can optionally give a separate argument which could be described as `ndigits`.\n",
        "2. A brief English description of what the function does. "
      ]
    },
    {
      "cell_type": "markdown",
      "metadata": {
        "id": "g4irr7GclFtT",
        "colab_type": "text"
      },
      "source": [
        "**Common pitfall:** when looking up a function, we have to remember to pass in the name of the function itself, and not the result of calling that function. \n",
        "\n",
        "What happens if we invoke help on a *call* to the function `abs()`? Unhide the output of the cell below to see."
      ]
    },
    {
      "cell_type": "code",
      "metadata": {
        "_kg_hide-output": true,
        "id": "3KlRue3glFtV",
        "colab_type": "code",
        "colab": {}
      },
      "source": [
        "help(round(-2.01))"
      ],
      "execution_count": 0,
      "outputs": []
    },
    {
      "cell_type": "markdown",
      "metadata": {
        "id": "95s07HfglFtb",
        "colab_type": "text"
      },
      "source": [
        "Python evaluates an expression like this from the inside out. First it calculates the value of `round(-2.01)`, then it provides help on the output of that expression.\n",
        "\n",
        "<small>(And it turns out to have a lot to say about integers! After we talk later about objects, methods, and attributes in Python, the voluminous help output above will make more sense.)</small>\n",
        "\n",
        "`round` is a very simple function with a short docstring. `help` shines even more when dealing with more complex, configurable functions like `print`."
      ]
    },
    {
      "cell_type": "code",
      "metadata": {
        "id": "C9bhgYj3lFtd",
        "colab_type": "code",
        "colab": {}
      },
      "source": [
        "help(print)"
      ],
      "execution_count": 0,
      "outputs": []
    },
    {
      "cell_type": "markdown",
      "metadata": {
        "toc-hr-collapsed": true,
        "id": "f_dKM57elFtl",
        "colab_type": "text"
      },
      "source": [
        "# Defining functions\n",
        "\n",
        "Builtin functions are great, but we can only get so far with them before we need to start defining our own functions. Below is a simple example."
      ]
    },
    {
      "cell_type": "code",
      "metadata": {
        "id": "Xm3d6CdNlFtq",
        "colab_type": "code",
        "colab": {}
      },
      "source": [
        "def least_difference(a, b, c):\n",
        "    diff1 = abs(a - b)\n",
        "    diff2 = abs(b - c)\n",
        "    diff3 = abs(a - c)\n",
        "    return min(diff1, diff2, diff3)"
      ],
      "execution_count": 0,
      "outputs": []
    },
    {
      "cell_type": "markdown",
      "metadata": {
        "id": "qNzjiDeklFtz",
        "colab_type": "text"
      },
      "source": [
        "This creates a function called `least_difference`, which takes three arguments, `a`, `b`, and `c`.\n",
        "\n",
        "Functions start with a header introduced by the `def` keyword. The indented block of code following the `:` is run when the function is called.\n",
        "\n",
        "`return` is another keyword uniquely associated with functions. When Python encounters a `return` statement, it exits the function immediately, and passes the value on the right hand side to the calling context.\n",
        "\n",
        "Is it clear what `least_difference()` does from the source code? If we're not sure, we can always try it out on a few examples:"
      ]
    },
    {
      "cell_type": "code",
      "metadata": {
        "id": "AxDevV64lFt4",
        "colab_type": "code",
        "colab": {}
      },
      "source": [
        "print(\n",
        "    least_difference(1, 10, 100),\n",
        "    least_difference(1, 10, 10),\n",
        "    least_difference(5, 6, 7), # Python allows trailing commas in argument lists. How nice is that?\n",
        ")"
      ],
      "execution_count": 0,
      "outputs": []
    },
    {
      "cell_type": "markdown",
      "metadata": {
        "id": "teiXPvZnlFuB",
        "colab_type": "text"
      },
      "source": [
        "Or maybe the `help()` function can tell us something about it."
      ]
    },
    {
      "cell_type": "code",
      "metadata": {
        "id": "OS2vVITmlFuD",
        "colab_type": "code",
        "colab": {}
      },
      "source": [
        "help(least_difference)"
      ],
      "execution_count": 0,
      "outputs": []
    },
    {
      "cell_type": "markdown",
      "metadata": {
        "id": "aIL4_zKFlFuO",
        "colab_type": "text"
      },
      "source": [
        "Python isn't smart enough to read my code and turn it into a nice English description. However, when I write a function, I can provide a description in what's called the **docstring**.\n",
        "\n",
        "### Docstrings"
      ]
    },
    {
      "cell_type": "code",
      "metadata": {
        "id": "JSMby84GlFuQ",
        "colab_type": "code",
        "colab": {}
      },
      "source": [
        "def least_difference(a, b, c):\n",
        "    \"\"\"Return the smallest difference between any two numbers\n",
        "    among a, b and c.\n",
        "    \n",
        "    >>> least_difference(1, 5, -5)\n",
        "    4\n",
        "    \"\"\"\n",
        "    diff1 = abs(a - b)\n",
        "    diff2 = abs(b - c)\n",
        "    diff3 = abs(a - c)\n",
        "    return min(diff1, diff2, diff3)"
      ],
      "execution_count": 0,
      "outputs": []
    },
    {
      "cell_type": "markdown",
      "metadata": {
        "id": "ZIVfx3EJlFuZ",
        "colab_type": "text"
      },
      "source": [
        "The docstring is a triple-quoted string (which may span multiple lines) that comes immediately after the header of a function. When we call `help()` on a function, it shows the docstring."
      ]
    },
    {
      "cell_type": "code",
      "metadata": {
        "id": "1QuHP-UzlFue",
        "colab_type": "code",
        "colab": {}
      },
      "source": [
        "help(least_difference)"
      ],
      "execution_count": 0,
      "outputs": []
    },
    {
      "cell_type": "markdown",
      "metadata": {
        "id": "b5D9aqHulFuk",
        "colab_type": "text"
      },
      "source": [
        "Good programmers use docstrings unless they expect to throw away the code soon after it's used (which is rare)."
      ]
    },
    {
      "cell_type": "markdown",
      "metadata": {
        "id": "qYwuowQNlFul",
        "colab_type": "text"
      },
      "source": [
        "## Functions that don't return\n",
        "\n",
        "What would happen if we didn't include the `return` keyword in our function?"
      ]
    },
    {
      "cell_type": "code",
      "metadata": {
        "id": "250fOTQQlFun",
        "colab_type": "code",
        "colab": {}
      },
      "source": [
        "def least_difference(a, b, c):\n",
        "    \"\"\"Return the smallest difference between any two numbers\n",
        "    among a, b and c.\n",
        "    \"\"\"\n",
        "    diff1 = abs(a - b)\n",
        "    diff2 = abs(b - c)\n",
        "    diff3 = abs(a - c)\n",
        "    min(diff1, diff2, diff3)\n",
        "    \n",
        "print(\n",
        "    least_difference(1, 10, 100),\n",
        "    least_difference(1, 10, 10),\n",
        "    least_difference(5, 6, 7),\n",
        ")"
      ],
      "execution_count": 0,
      "outputs": []
    },
    {
      "cell_type": "markdown",
      "metadata": {
        "id": "MGENLKNVlFuw",
        "colab_type": "text"
      },
      "source": [
        "Python allows us to define such functions. The result of calling them is the special value `None`. (This is similar to the concept of \"null\" in other languages.)\n",
        "\n",
        "Without a `return` statement, `least_difference` is completely pointless, but a function with side effects may do something useful without returning anything. We've already seen two examples of this: `print()` and `help()` don't return anything. We only call them for their side effects (putting some text on the screen). Other examples of useful side effects include writing to a file, or modifying an input."
      ]
    },
    {
      "cell_type": "code",
      "metadata": {
        "id": "3ZiRIF60lFuy",
        "colab_type": "code",
        "colab": {}
      },
      "source": [
        "mystery = print()\n",
        "print(mystery)"
      ],
      "execution_count": 0,
      "outputs": []
    },
    {
      "cell_type": "markdown",
      "metadata": {
        "id": "6hSj-c0ilFu8",
        "colab_type": "text"
      },
      "source": [
        "## Default arguments\n",
        "\n",
        "When we called `help(print)`, we saw that the `print` function has several optional arguments. For example, we can specify a value for `sep` to put some special string in between our printed arguments:"
      ]
    },
    {
      "cell_type": "code",
      "metadata": {
        "id": "GOsQHLW7lFvA",
        "colab_type": "code",
        "colab": {}
      },
      "source": [
        "print(1, 2, 3, sep=' < ')"
      ],
      "execution_count": 0,
      "outputs": []
    },
    {
      "cell_type": "markdown",
      "metadata": {
        "id": "BfCBS3a1lFvK",
        "colab_type": "text"
      },
      "source": [
        "But if we don't specify a value, `sep` is treated as having a default value of `' '` (a single space)."
      ]
    },
    {
      "cell_type": "code",
      "metadata": {
        "id": "38QIfM0alFvN",
        "colab_type": "code",
        "colab": {}
      },
      "source": [
        "print(1, 2, 3)"
      ],
      "execution_count": 0,
      "outputs": []
    },
    {
      "cell_type": "markdown",
      "metadata": {
        "id": "LdjKzygPlFvT",
        "colab_type": "text"
      },
      "source": [
        "Adding optional arguments with default values to the functions we define turns out to be pretty easy:"
      ]
    },
    {
      "cell_type": "code",
      "metadata": {
        "id": "M7HWDjkVlFvV",
        "colab_type": "code",
        "colab": {}
      },
      "source": [
        "def greet(who=\"Colin\"):\n",
        "    print(\"Hello,\", who)\n",
        "    \n",
        "greet()\n",
        "greet(who=\"Kaggle\")\n",
        "# (In this case, we don't need to specify the name of the argument, because it's unambiguous.)\n",
        "greet(\"world\")"
      ],
      "execution_count": 0,
      "outputs": []
    },
    {
      "cell_type": "markdown",
      "metadata": {
        "id": "WozY1TdjlFve",
        "colab_type": "text"
      },
      "source": [
        "## Functions Applied to Functions\n",
        "\n",
        "Here's something that's powerful, though it can feel very abstract at first.  We can supply functions as arguments to other functions.  An example may make this clearer:"
      ]
    },
    {
      "cell_type": "code",
      "metadata": {
        "id": "4ewxX8rblFvj",
        "colab_type": "code",
        "colab": {}
      },
      "source": [
        "def mult_by_five(x):\n",
        "    return 5 * x\n",
        "\n",
        "def call(fn, arg):\n",
        "    \"\"\"Call fn on arg\"\"\"\n",
        "    return fn(arg)\n",
        "\n",
        "def squared_call(fn, arg):\n",
        "    \"\"\"Call fn on the result of calling fn on arg\"\"\"\n",
        "    return fn(fn(arg))\n",
        "\n",
        "print(\n",
        "    call(mult_by_five, 1),\n",
        "    squared_call(mult_by_five, 1), \n",
        "    sep='\\n', # '\\n' is the newline character - it starts a new line\n",
        ")"
      ],
      "execution_count": 0,
      "outputs": []
    },
    {
      "cell_type": "markdown",
      "metadata": {
        "id": "SM8YR9rOlFvv",
        "colab_type": "text"
      },
      "source": [
        "Functions that operate on other functions are called \"Higher order functions.\" There are higher order functions built into Python that might find useful to call. \n",
        "\n",
        "Here's an interesting example using the `max` function.\n",
        "\n",
        "By default, `max` returns the largest of its arguments. But if we pass in a function using the optional `key` argument, it returns the argument `x` that maximizes `key(x)` (aka the 'argmax')."
      ]
    },
    {
      "cell_type": "code",
      "metadata": {
        "id": "fu7uzVdMlFvx",
        "colab_type": "code",
        "colab": {}
      },
      "source": [
        "def mod_5(x):\n",
        "    \"\"\"Return the remainder of x after dividing by 5\"\"\"\n",
        "    return x % 5\n",
        "\n",
        "print(\n",
        "    'Which number is biggest?',\n",
        "    max(100, 51, 14),\n",
        "    'Which number is the biggest modulo 5?',\n",
        "    max(100, 51, 14, key=mod_5),\n",
        "    sep='\\n',\n",
        ")"
      ],
      "execution_count": 0,
      "outputs": []
    },
    {
      "cell_type": "markdown",
      "metadata": {
        "id": "IfYNwx3wlFv2",
        "colab_type": "text"
      },
      "source": [
        "---\n",
        "**[Week 1 - Python](https://radu-enuca.gitbook.io/ml-challenge/python)**\n",
        "\n",
        "*Have questions or comments? Visit the ML Challenge Mattermost Channel.*"
      ]
    }
  ]
}