{
  "nbformat": 4,
  "nbformat_minor": 0,
  "metadata": {
    "kernelspec": {
      "display_name": "Python 3",
      "language": "python",
      "name": "python3"
    },
    "language_info": {
      "codemirror_mode": {
        "name": "ipython",
        "version": 3
      },
      "file_extension": ".py",
      "mimetype": "text/x-python",
      "name": "python",
      "nbconvert_exporter": "python",
      "pygments_lexer": "ipython3",
      "version": "3.7.4"
    },
    "learntools_metadata": {
      "lesson_index": 6,
      "type": "tutorial"
    },
    "colab": {
      "name": "L7_Working with External Libraries.ipynb",
      "provenance": [],
      "include_colab_link": true
    }
  },
  "cells": [
    {
      "cell_type": "markdown",
      "metadata": {
        "id": "view-in-github",
        "colab_type": "text"
      },
      "source": [
        "<a href=\"https://colab.research.google.com/github/BrittoDoss/MachineLearning/blob/master/L7_Working_with_External_Libraries.ipynb\" target=\"_parent\"><img src=\"https://colab.research.google.com/assets/colab-badge.svg\" alt=\"Open In Colab\"/></a>"
      ]
    },
    {
      "cell_type": "markdown",
      "metadata": {
        "id": "D6rft7iasI8t",
        "colab_type": "text"
      },
      "source": [
        "## Imports\n",
        "\n",
        "So far we've talked about types and functions which are built-in to the language. \n",
        "\n",
        "But one of the best things about Python is the vast number of high-quality custom libraries that have been written for it. \n",
        "\n",
        "Some of these libraries are in the \"standard library\", meaning we can find them anywhere we run Python. Others libraries can be easily added, even if they aren't always shipped with Python.\n",
        "\n",
        "Either way, we'll access this code with **imports**.\n",
        "\n",
        "We'll start our example by importing `math` from the standard library."
      ]
    },
    {
      "cell_type": "code",
      "metadata": {
        "id": "XnzHnTbUsI81",
        "colab_type": "code",
        "colab": {}
      },
      "source": [
        "import math\n",
        "\n",
        "print(\"It's math! It has type {}\".format(type(math)))"
      ],
      "execution_count": 0,
      "outputs": []
    },
    {
      "cell_type": "markdown",
      "metadata": {
        "id": "xXZ91w2gsI88",
        "colab_type": "text"
      },
      "source": [
        "`math` is a module. A module is just a collection of variables (a *namespace*) defined by someone else. We can see all the names in `math` using the built-in function `dir()`."
      ]
    },
    {
      "cell_type": "code",
      "metadata": {
        "id": "F4qMLA4LsI8-",
        "colab_type": "code",
        "colab": {}
      },
      "source": [
        "print(dir(math))"
      ],
      "execution_count": 0,
      "outputs": []
    },
    {
      "cell_type": "markdown",
      "metadata": {
        "id": "aPpKapRNsI9G",
        "colab_type": "text"
      },
      "source": [
        "We can access these variables using dot syntax. Some of them refer to simple values, like `math.pi`:"
      ]
    },
    {
      "cell_type": "code",
      "metadata": {
        "id": "dqucqfINsI9I",
        "colab_type": "code",
        "colab": {}
      },
      "source": [
        "print(\"pi to 4 significant digits = {:.4}\".format(math.pi))"
      ],
      "execution_count": 0,
      "outputs": []
    },
    {
      "cell_type": "markdown",
      "metadata": {
        "id": "cmq_XAqQsI9R",
        "colab_type": "text"
      },
      "source": [
        "But most of what we'll find in the module are functions, like `math.log`:"
      ]
    },
    {
      "cell_type": "code",
      "metadata": {
        "id": "7oEMXBC8sI9U",
        "colab_type": "code",
        "colab": {}
      },
      "source": [
        "math.log(32, 2)"
      ],
      "execution_count": 0,
      "outputs": []
    },
    {
      "cell_type": "markdown",
      "metadata": {
        "id": "uNntZUmVsI9a",
        "colab_type": "text"
      },
      "source": [
        "Of course, if we don't know what `math.log` does, we can call `help()` on it:"
      ]
    },
    {
      "cell_type": "code",
      "metadata": {
        "id": "rFvnCaGBsI9c",
        "colab_type": "code",
        "colab": {}
      },
      "source": [
        "help(math.log)"
      ],
      "execution_count": 0,
      "outputs": []
    },
    {
      "cell_type": "markdown",
      "metadata": {
        "id": "YsWwAAa_sI9l",
        "colab_type": "text"
      },
      "source": [
        "We can also call `help()` on the module itself. This will give us the combined documentation for *all* the functions and values in the module (as well as a high-level description of the module). Click the \"output\" button to see the whole `math` help page."
      ]
    },
    {
      "cell_type": "code",
      "metadata": {
        "_kg_hide-output": true,
        "id": "qD3zmGi6sI9n",
        "colab_type": "code",
        "colab": {}
      },
      "source": [
        "help(math)"
      ],
      "execution_count": 0,
      "outputs": []
    },
    {
      "cell_type": "markdown",
      "metadata": {
        "id": "i89KiQGnsI9u",
        "colab_type": "text"
      },
      "source": [
        "### Other import syntax\n",
        "\n",
        "If we know we'll be using functions in `math` frequently we can import it under a shorter alias to save some typing (though in this case \"math\" is already pretty short)."
      ]
    },
    {
      "cell_type": "code",
      "metadata": {
        "id": "cF-q0ZrVsI9w",
        "colab_type": "code",
        "colab": {}
      },
      "source": [
        "import math as mt\n",
        "mt.pi"
      ],
      "execution_count": 0,
      "outputs": []
    },
    {
      "cell_type": "markdown",
      "metadata": {
        "id": "ySozQoxGsI93",
        "colab_type": "text"
      },
      "source": [
        "> Certain popular libraries like Pandas, Numpy, Tensorflow, or Matplotlib are almost always imported this way. For example, it's a common convention to `import numpy as np` and `import pandas as pd`."
      ]
    },
    {
      "cell_type": "markdown",
      "metadata": {
        "id": "tejgolBdsI96",
        "colab_type": "text"
      },
      "source": [
        "The `as` simply renames the imported module. It's equivalent to doing something like:"
      ]
    },
    {
      "cell_type": "code",
      "metadata": {
        "id": "L26iOrL6sI98",
        "colab_type": "code",
        "colab": {}
      },
      "source": [
        "import math\n",
        "mt = math"
      ],
      "execution_count": 0,
      "outputs": []
    },
    {
      "cell_type": "markdown",
      "metadata": {
        "id": "buq0b66TsI-D",
        "colab_type": "text"
      },
      "source": [
        "Wouldn't it be great if we could refer to all the variables in the `math` module by themselves? i.e. if we could just refer to `pi` instead of `math.pi` or `mt.pi`? Good news: we can do that."
      ]
    },
    {
      "cell_type": "code",
      "metadata": {
        "id": "Cxt1IlRVsI-F",
        "colab_type": "code",
        "colab": {}
      },
      "source": [
        "from math import *\n",
        "print(pi, log(32, 2))"
      ],
      "execution_count": 0,
      "outputs": []
    },
    {
      "cell_type": "markdown",
      "metadata": {
        "id": "UUOyNhpdsI-K",
        "colab_type": "text"
      },
      "source": [
        "`import *` makes all the module's variables directly accessible to us (without any dotted prefix).\n",
        "\n",
        "Bad news: some people might grumble at us for doing this.\n",
        "\n",
        "Worse: they kind of have a point."
      ]
    },
    {
      "cell_type": "code",
      "metadata": {
        "tags": [
          "raises-exception"
        ],
        "id": "cPHJGMd3sI-L",
        "colab_type": "code",
        "colab": {}
      },
      "source": [
        "from math import *\n",
        "from numpy import *\n",
        "print(pi, log(32, 2))"
      ],
      "execution_count": 0,
      "outputs": []
    },
    {
      "cell_type": "markdown",
      "metadata": {
        "id": "Xf8K1nJxsI-Q",
        "colab_type": "text"
      },
      "source": [
        "What the what? But it worked before!\n",
        "\n",
        "These kinds of \"star imports\" can occasionally lead to weird, difficult-to-debug situations.\n",
        "\n",
        "The problem in this case is that the `math` and `numpy` modules both have functions called `log`, but they have different semantics. Because we import from `numpy` second, its `log` overwrites (or \"shadows\") the `log` variable we imported from `math`.\n",
        "\n",
        "A good compromise is to import only the specific things we'll need from each module:"
      ]
    },
    {
      "cell_type": "code",
      "metadata": {
        "id": "ofGY0HkhsI-R",
        "colab_type": "code",
        "colab": {}
      },
      "source": [
        "from math import log, pi\n",
        "from numpy import asarray"
      ],
      "execution_count": 0,
      "outputs": []
    },
    {
      "cell_type": "markdown",
      "metadata": {
        "id": "D7STOlH5sI-b",
        "colab_type": "text"
      },
      "source": [
        "### Submodules\n",
        "\n",
        "We've seen that modules contain variables which can refer to functions or values. Something to be aware of is that they can also have variables referring to *other modules*. "
      ]
    },
    {
      "cell_type": "code",
      "metadata": {
        "id": "gWokV5gbsI-d",
        "colab_type": "code",
        "colab": {}
      },
      "source": [
        "import numpy\n",
        "print(\"numpy.random is a\", type(numpy.random))\n",
        "print(\"it contains names such as...\",\n",
        "      dir(numpy.random)[-15:]\n",
        "     )"
      ],
      "execution_count": 0,
      "outputs": []
    },
    {
      "cell_type": "markdown",
      "metadata": {
        "id": "fpbwaqacsI-j",
        "colab_type": "text"
      },
      "source": [
        "So if we import `numpy` as above, then calling a function in the `random` \"submodule\" will require *two* dots."
      ]
    },
    {
      "cell_type": "code",
      "metadata": {
        "id": "wcaw23UnsI-k",
        "colab_type": "code",
        "colab": {}
      },
      "source": [
        "# Roll 10 dice\n",
        "rolls = numpy.random.randint(low=1, high=6, size=10)\n",
        "rolls"
      ],
      "execution_count": 0,
      "outputs": []
    },
    {
      "cell_type": "markdown",
      "metadata": {
        "id": "uIseWYbPsI-q",
        "colab_type": "text"
      },
      "source": [
        "# External Libraries\n",
        "\n",
        "By now we're pros with ints, floats, bools, lists, strings, and dicts, right?. \n",
        "\n",
        "Even if that were true, it doesn't end there. As we work with various libraries for specialized tasks, we'll find that they define their own types which we'll have to learn to work with. For example, if we work with the graphing library `matplotlib`, we'll come into contact with objects it defines which represent Subplots, Figures, TickMarks, and Annotations. `pandas` functions will give us DataFrames and Series. \n",
        "\n",
        "## Three tools for understanding objects\n",
        "\n",
        "In the cell above, we saw that calling a `numpy` function gave us an \"array\". We've never seen anything like this before (not in this course anyways). No need to panic, we have three familiar builtin functions to help us here.\n",
        "\n",
        "**1: `type()`** (what is this thing?)"
      ]
    },
    {
      "cell_type": "code",
      "metadata": {
        "id": "Vlw9tTVEsI-s",
        "colab_type": "code",
        "colab": {}
      },
      "source": [
        "type(rolls)"
      ],
      "execution_count": 0,
      "outputs": []
    },
    {
      "cell_type": "markdown",
      "metadata": {
        "id": "Z0Dng5gqsI-x",
        "colab_type": "text"
      },
      "source": [
        "**2: `dir()`** (what can I do with it?)"
      ]
    },
    {
      "cell_type": "code",
      "metadata": {
        "id": "7BJPTU6RsI-y",
        "colab_type": "code",
        "colab": {}
      },
      "source": [
        "print(dir(rolls))"
      ],
      "execution_count": 0,
      "outputs": []
    },
    {
      "cell_type": "code",
      "metadata": {
        "id": "8uPZDKRpsI-7",
        "colab_type": "code",
        "colab": {}
      },
      "source": [
        "# What am I trying to do with this dice roll data? Maybe I want the average roll, in which case the \"mean\"\n",
        "# method looks promising...\n",
        "rolls.mean()"
      ],
      "execution_count": 0,
      "outputs": []
    },
    {
      "cell_type": "code",
      "metadata": {
        "id": "gA4VHlPdsI_D",
        "colab_type": "code",
        "colab": {}
      },
      "source": [
        "# Or maybe I just want to get back on familiar ground, in which case I might want to check out \"tolist\"\n",
        "rolls.tolist()"
      ],
      "execution_count": 0,
      "outputs": []
    },
    {
      "cell_type": "markdown",
      "metadata": {
        "id": "I6p48N8psI_K",
        "colab_type": "text"
      },
      "source": [
        "**3: `help()`** (tell me more)"
      ]
    },
    {
      "cell_type": "code",
      "metadata": {
        "id": "o53ITIP4sI_L",
        "colab_type": "code",
        "colab": {}
      },
      "source": [
        "# That \"ravel\" attribute sounds interesting. I'm a big classical music fan.\n",
        "help(rolls.ravel)"
      ],
      "execution_count": 0,
      "outputs": []
    },
    {
      "cell_type": "code",
      "metadata": {
        "_kg_hide-output": true,
        "id": "AXJ-_4tTsI_P",
        "colab_type": "code",
        "colab": {}
      },
      "source": [
        "# Okay, just tell me everything there is to know about numpy.ndarray\n",
        "# (Click the \"output\" button to see the novel-length output)\n",
        "help(rolls)"
      ],
      "execution_count": 0,
      "outputs": []
    },
    {
      "cell_type": "markdown",
      "metadata": {
        "id": "JmjY5U5TsI_U",
        "colab_type": "text"
      },
      "source": [
        "(Of course, we might also prefer to check out [the online docs](https://docs.scipy.org/doc/numpy-1.14.0/reference/generated/numpy.ndarray.html))"
      ]
    },
    {
      "cell_type": "markdown",
      "metadata": {
        "id": "fS0sRWPAsI_V",
        "colab_type": "text"
      },
      "source": [
        "---\n",
        "**[Week 1 - Python](https://radu-enuca.gitbook.io/ml-challenge/python)**\n",
        "\n",
        "*Have questions or comments? Visit the ML Challenge Mattermost Channel.*"
      ]
    }
  ]
}