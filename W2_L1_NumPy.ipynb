{
  "nbformat": 4,
  "nbformat_minor": 0,
  "metadata": {
    "kernelspec": {
      "display_name": "Python 3",
      "language": "python",
      "name": "python3"
    },
    "language_info": {
      "codemirror_mode": {
        "name": "ipython",
        "version": 3
      },
      "file_extension": ".py",
      "mimetype": "text/x-python",
      "name": "python",
      "nbconvert_exporter": "python",
      "pygments_lexer": "ipython3",
      "version": "3.7.4"
    },
    "toc": {
      "base_numbering": 1,
      "nav_menu": {},
      "number_sections": true,
      "sideBar": true,
      "skip_h1_title": false,
      "title_cell": "Table of Contents",
      "title_sidebar": "Contents",
      "toc_cell": false,
      "toc_position": {},
      "toc_section_display": true,
      "toc_window_display": true
    },
    "varInspector": {
      "cols": {
        "lenName": 16,
        "lenType": 16,
        "lenVar": 40
      },
      "kernels_config": {
        "python": {
          "delete_cmd_postfix": "",
          "delete_cmd_prefix": "del ",
          "library": "var_list.py",
          "varRefreshCmd": "print(var_dic_list())"
        },
        "r": {
          "delete_cmd_postfix": ") ",
          "delete_cmd_prefix": "rm(",
          "library": "var_list.r",
          "varRefreshCmd": "cat(var_dic_list()) "
        }
      },
      "types_to_exclude": [
        "module",
        "function",
        "builtin_function_or_method",
        "instance",
        "_Feature"
      ],
      "window_display": false
    },
    "colab": {
      "name": "L1.NumPy.ipynb",
      "provenance": [],
      "include_colab_link": true
    }
  },
  "cells": [
    {
      "cell_type": "markdown",
      "metadata": {
        "id": "view-in-github",
        "colab_type": "text"
      },
      "source": [
        "<a href=\"https://colab.research.google.com/github/BrittoDoss/MachineLearning/blob/master/W2_L1_NumPy.ipynb\" target=\"_parent\"><img src=\"https://colab.research.google.com/assets/colab-badge.svg\" alt=\"Open In Colab\"/></a>"
      ]
    },
    {
      "cell_type": "markdown",
      "metadata": {
        "id": "INcYch5UFM-T",
        "colab_type": "text"
      },
      "source": [
        "<a href=\"https://colab.research.google.com/github/ML-Challenge/week2-data-analysis/blob/master/L1.NumPy.ipynb\" target=\"_parent\"><img src=\"https://colab.research.google.com/assets/colab-badge.svg\" /></a>"
      ]
    },
    {
      "cell_type": "markdown",
      "metadata": {
        "toc-hr-collapsed": false,
        "id": "fgPVN7XnFM-i",
        "colab_type": "text"
      },
      "source": [
        "# Setup"
      ]
    },
    {
      "cell_type": "code",
      "metadata": {
        "id": "GAoHz9bDFM-s",
        "colab_type": "code",
        "outputId": "eaf8e722-c526-456e-ab62-c6d9be413fcb",
        "colab": {
          "base_uri": "https://localhost:8080/",
          "height": 504
        }
      },
      "source": [
        "# Download lesson datasets\n",
        "# Required if you're using Google Colab\n",
        "!wget \"https://github.com/ML-Challenge/week2-data-analysis/raw/master/datasets.zip\"\n",
        "!unzip -o datasets.zip"
      ],
      "execution_count": 0,
      "outputs": [
        {
          "output_type": "stream",
          "text": [
            "--2020-02-09 17:52:49--  https://github.com/ML-Challenge/week2-data-analysis/raw/master/datasets.zip\n",
            "Resolving github.com (github.com)... 140.82.114.4\n",
            "Connecting to github.com (github.com)|140.82.114.4|:443... connected.\n",
            "HTTP request sent, awaiting response... 302 Found\n",
            "Location: https://raw.githubusercontent.com/ML-Challenge/week2-data-analysis/master/datasets.zip [following]\n",
            "--2020-02-09 17:52:49--  https://raw.githubusercontent.com/ML-Challenge/week2-data-analysis/master/datasets.zip\n",
            "Resolving raw.githubusercontent.com (raw.githubusercontent.com)... 151.101.0.133, 151.101.64.133, 151.101.128.133, ...\n",
            "Connecting to raw.githubusercontent.com (raw.githubusercontent.com)|151.101.0.133|:443... connected.\n",
            "HTTP request sent, awaiting response... 200 OK\n",
            "Length: 453701 (443K) [application/zip]\n",
            "Saving to: ‘datasets.zip’\n",
            "\n",
            "\rdatasets.zip          0%[                    ]       0  --.-KB/s               \rdatasets.zip        100%[===================>] 443.07K  --.-KB/s    in 0.06s   \n",
            "\n",
            "2020-02-09 17:52:49 (6.77 MB/s) - ‘datasets.zip’ saved [453701/453701]\n",
            "\n",
            "Archive:  datasets.zip\n",
            "  inflating: utils.py                \n",
            "   creating: data/\n",
            "  inflating: data/pennsylvania2012_turnout.csv  \n",
            "  inflating: data/tips.csv           \n",
            "  inflating: data/file_clean.csv     \n",
            "  inflating: data/messy_stock_data.tsv  \n",
            "  inflating: data/auto-mpg.csv       \n",
            "  inflating: data/titanic.csv        \n",
            "  inflating: data/nobel.csv          \n",
            "  inflating: data/life_expectancy_at_birth.csv  \n",
            "  inflating: data/urban_population.csv  \n",
            "  inflating: data/weather_data_austin_2010.csv  \n"
          ],
          "name": "stdout"
        }
      ]
    },
    {
      "cell_type": "code",
      "metadata": {
        "id": "EAX6nO3hFM_A",
        "colab_type": "code",
        "colab": {}
      },
      "source": [
        "# Import utils, we'll be using this module throughout the lesson\n",
        "import utils"
      ],
      "execution_count": 0,
      "outputs": []
    },
    {
      "cell_type": "markdown",
      "metadata": {
        "id": "HabUsaDiFM_V",
        "colab_type": "text"
      },
      "source": [
        "NumPy is a fundamental Python package to efficiently practice data science. In this lesson we will learn to work with such powerful tools as the NumPy array, and get started with data exploration."
      ]
    },
    {
      "cell_type": "markdown",
      "metadata": {
        "toc-hr-collapsed": false,
        "id": "edVKF7erFM_Z",
        "colab_type": "text"
      },
      "source": [
        "# NumPy"
      ]
    },
    {
      "cell_type": "markdown",
      "metadata": {
        "toc-hr-collapsed": true,
        "id": "wZUkNLK_FM_b",
        "colab_type": "text"
      },
      "source": [
        "## Intro to NumPy Arrays"
      ]
    },
    {
      "cell_type": "markdown",
      "metadata": {
        "ExecuteTime": {
          "end_time": "2020-01-27T07:52:04.320524Z",
          "start_time": "2020-01-27T07:52:04.308553Z"
        },
        "id": "zoyevQF6FM_e",
        "colab_type": "text"
      },
      "source": [
        "### Our First NumPy Array"
      ]
    },
    {
      "cell_type": "markdown",
      "metadata": {
        "id": "mmXe1TBfFM_g",
        "colab_type": "text"
      },
      "source": [
        "We're going to dive into the world of baseball, along the way, we'll get comfortable with the basics of ```numpy```, a powerful data science package."
      ]
    },
    {
      "cell_type": "markdown",
      "metadata": {
        "id": "OY-xYA6NFM_i",
        "colab_type": "text"
      },
      "source": [
        "A list ```baseball``` has been defined in the Python script, representing the height of some baseball players in centimeters. Next, we'll see how to convert it to a NumPy array."
      ]
    },
    {
      "cell_type": "code",
      "metadata": {
        "ExecuteTime": {
          "end_time": "2020-01-27T11:08:04.808961Z",
          "start_time": "2020-01-27T11:08:04.804971Z"
        },
        "id": "xnLm1949FM_k",
        "colab_type": "code",
        "colab": {}
      },
      "source": [
        "# Create list baseball\n",
        "baseball = [180, 215, 210, 210, 188, 176, 209, 200]"
      ],
      "execution_count": 0,
      "outputs": []
    },
    {
      "cell_type": "code",
      "metadata": {
        "ExecuteTime": {
          "end_time": "2020-01-27T11:08:04.824918Z",
          "start_time": "2020-01-27T11:08:04.811953Z"
        },
        "id": "Ds1WwLUZFM_s",
        "colab_type": "code",
        "colab": {}
      },
      "source": [
        "# Import the numpy package as np\n",
        "import numpy as np"
      ],
      "execution_count": 0,
      "outputs": []
    },
    {
      "cell_type": "code",
      "metadata": {
        "ExecuteTime": {
          "end_time": "2020-01-27T11:08:04.840875Z",
          "start_time": "2020-01-27T11:08:04.827909Z"
        },
        "id": "bRF77bcRFM_z",
        "colab_type": "code",
        "colab": {}
      },
      "source": [
        "# Create a numpy array from baseball: np_baseball\n",
        "np_baseball = np.array(baseball)"
      ],
      "execution_count": 0,
      "outputs": []
    },
    {
      "cell_type": "code",
      "metadata": {
        "ExecuteTime": {
          "end_time": "2020-01-27T11:08:04.856832Z",
          "start_time": "2020-01-27T11:08:04.842870Z"
        },
        "id": "IW1AWXnUFM_5",
        "colab_type": "code",
        "colab": {}
      },
      "source": [
        "# Print out type of np_baseball\n",
        "print(type(np_baseball))"
      ],
      "execution_count": 0,
      "outputs": []
    },
    {
      "cell_type": "markdown",
      "metadata": {
        "id": "GN-DPzn7FM_-",
        "colab_type": "text"
      },
      "source": [
        "### Baseball players' height"
      ]
    },
    {
      "cell_type": "markdown",
      "metadata": {
        "id": "acMKMmTRFM__",
        "colab_type": "text"
      },
      "source": [
        "We've decided to call the MLB (Major League Baseball) and ask around for some more statistics on the height of the main players. They pass along data on more than a thousand players, which is stored as a regular Python list: ```height_in```. The height is expressed in inches. Since we now know how to convert ```height_in``` to a NumPy array, how about some additional processing? We don't like that the players' heights are in inches, let's convert them to meters."
      ]
    },
    {
      "cell_type": "code",
      "metadata": {
        "ExecuteTime": {
          "end_time": "2020-01-27T11:08:04.872790Z",
          "start_time": "2020-01-27T11:08:04.858827Z"
        },
        "id": "cla22Se8FNAB",
        "colab_type": "code",
        "colab": {}
      },
      "source": [
        "# Create a numpy array from height: np_height\n",
        "np_height = np.array(utils.height_in)"
      ],
      "execution_count": 0,
      "outputs": []
    },
    {
      "cell_type": "code",
      "metadata": {
        "ExecuteTime": {
          "end_time": "2020-01-27T11:08:04.888747Z",
          "start_time": "2020-01-27T11:08:04.875785Z"
        },
        "id": "crM67f3-FNAI",
        "colab_type": "code",
        "colab": {}
      },
      "source": [
        "# Print out np_height\n",
        "print(np_height)"
      ],
      "execution_count": 0,
      "outputs": []
    },
    {
      "cell_type": "markdown",
      "metadata": {
        "id": "VhB0x7h1FNAM",
        "colab_type": "text"
      },
      "source": [
        "Now that we have our NumPy array, how do we go about converting inches to meters?\n",
        "\n",
        "The solution? **NumPy broadcasting**"
      ]
    },
    {
      "cell_type": "code",
      "metadata": {
        "ExecuteTime": {
          "end_time": "2020-01-27T11:08:04.904705Z",
          "start_time": "2020-01-27T11:08:04.891742Z"
        },
        "id": "0pS06Du7FNAN",
        "colab_type": "code",
        "colab": {}
      },
      "source": [
        "# Convert np_height to m: np_height_m\n",
        "np_height_m = np_height * 0.0254 "
      ],
      "execution_count": 0,
      "outputs": []
    },
    {
      "cell_type": "markdown",
      "metadata": {
        "id": "cXjuPDj5FNAR",
        "colab_type": "text"
      },
      "source": [
        "Awesome, right? We did the conversion in just one line of code.\n",
        "\n",
        "Broadcasting makes possible array arithmetic between arrays of different shape or size. In the case above, broadcasting allowed us to multiply an array and by a scalar."
      ]
    },
    {
      "cell_type": "code",
      "metadata": {
        "ExecuteTime": {
          "end_time": "2020-01-27T11:08:04.920691Z",
          "start_time": "2020-01-27T11:08:04.907696Z"
        },
        "id": "rKyauIAFFNAT",
        "colab_type": "code",
        "colab": {}
      },
      "source": [
        "# Print np_height_m\n",
        "print(np_height_m)"
      ],
      "execution_count": 0,
      "outputs": []
    },
    {
      "cell_type": "markdown",
      "metadata": {
        "id": "g-piSwS_FNAX",
        "colab_type": "text"
      },
      "source": [
        "### Baseball player's BMI"
      ]
    },
    {
      "cell_type": "markdown",
      "metadata": {
        "id": "AOYz3gi2FNAY",
        "colab_type": "text"
      },
      "source": [
        "The MLB also offers us their weight data. Again, both are available as regular Python lists: ```height_in``` and ```weight_lb```. ```height_in``` is in inches and ```weight_lb``` is in pounds."
      ]
    },
    {
      "cell_type": "markdown",
      "metadata": {
        "id": "v_fq7zL1FNAa",
        "colab_type": "text"
      },
      "source": [
        "It's now possible to calculate the BMI of each baseball player. We will use the following equation:"
      ]
    },
    {
      "cell_type": "markdown",
      "metadata": {
        "id": "Tb6Tg1X3FNAb",
        "colab_type": "text"
      },
      "source": [
        "$$\\mathrm{BMI} = \\frac{\\mathrm{weight (kg)}}{\\mathrm{height (m)}^2}$$"
      ]
    },
    {
      "cell_type": "code",
      "metadata": {
        "ExecuteTime": {
          "end_time": "2020-01-27T11:08:04.936646Z",
          "start_time": "2020-01-27T11:08:04.922658Z"
        },
        "id": "tILAqY29FNAd",
        "colab_type": "code",
        "colab": {}
      },
      "source": [
        "# Create array from weight with correct units: np_weight_kg\n",
        "np_weight_kg = np.array(utils.weight_lb) * 0.453592"
      ],
      "execution_count": 0,
      "outputs": []
    },
    {
      "cell_type": "code",
      "metadata": {
        "ExecuteTime": {
          "end_time": "2020-01-27T11:08:04.952610Z",
          "start_time": "2020-01-27T11:08:04.938615Z"
        },
        "id": "EeO4KbILFNAh",
        "colab_type": "code",
        "colab": {}
      },
      "source": [
        "# Calculate the BMI: bmi\n",
        "bmi = np_weight_kg / np_height_m ** 2"
      ],
      "execution_count": 0,
      "outputs": []
    },
    {
      "cell_type": "code",
      "metadata": {
        "ExecuteTime": {
          "end_time": "2020-01-27T11:08:04.968593Z",
          "start_time": "2020-01-27T11:08:04.954607Z"
        },
        "id": "Yntaz2HQFNAm",
        "colab_type": "code",
        "colab": {}
      },
      "source": [
        "# Print out bmi\n",
        "print(bmi)"
      ],
      "execution_count": 0,
      "outputs": []
    },
    {
      "cell_type": "markdown",
      "metadata": {
        "id": "JyQdqQPFFNAq",
        "colab_type": "text"
      },
      "source": [
        "### Lightweight baseball players"
      ]
    },
    {
      "cell_type": "markdown",
      "metadata": {
        "id": "DRijf3wXFNAr",
        "colab_type": "text"
      },
      "source": [
        "To subset both regular Python lists and ```numpy``` arrays, we can use square brackets:\n",
        "\n",
        "```\n",
        "x = [4 , 9 , 6, 3, 1]\n",
        "x[1]\n",
        "import numpy as np\n",
        "y = np.array(x)\n",
        "y[1]\n",
        "```"
      ]
    },
    {
      "cell_type": "markdown",
      "metadata": {
        "id": "nedcFayPFNAt",
        "colab_type": "text"
      },
      "source": [
        "For ```numpy``` specifically, we can also use boolean ```numpy``` arrays:\n",
        "\n",
        "```\n",
        "high = y > 5\n",
        "y[high]\n",
        "```"
      ]
    },
    {
      "cell_type": "code",
      "metadata": {
        "ExecuteTime": {
          "end_time": "2020-01-27T11:08:04.984516Z",
          "start_time": "2020-01-27T11:08:04.970536Z"
        },
        "id": "2-LP1jsiFNAv",
        "colab_type": "code",
        "colab": {}
      },
      "source": [
        "# Create the light array\n",
        "light = bmi < 21"
      ],
      "execution_count": 0,
      "outputs": []
    },
    {
      "cell_type": "code",
      "metadata": {
        "ExecuteTime": {
          "end_time": "2020-01-27T11:08:05.000483Z",
          "start_time": "2020-01-27T11:08:04.986486Z"
        },
        "id": "sD1-0dxLFNA2",
        "colab_type": "code",
        "colab": {}
      },
      "source": [
        "# Print out light\n",
        "print(light)"
      ],
      "execution_count": 0,
      "outputs": []
    },
    {
      "cell_type": "code",
      "metadata": {
        "ExecuteTime": {
          "end_time": "2020-01-27T11:08:05.016440Z",
          "start_time": "2020-01-27T11:08:05.002462Z"
        },
        "id": "NUkaPCR-FNA7",
        "colab_type": "code",
        "colab": {}
      },
      "source": [
        "# Print out BMIs of all baseball players whose BMI is below 21\n",
        "print(bmi[light])"
      ],
      "execution_count": 0,
      "outputs": []
    },
    {
      "cell_type": "markdown",
      "metadata": {
        "id": "5zcwoFTSFNA_",
        "colab_type": "text"
      },
      "source": [
        "### NumPy Side Effects"
      ]
    },
    {
      "cell_type": "markdown",
      "metadata": {
        "id": "zXBCPfHnFNBA",
        "colab_type": "text"
      },
      "source": [
        "```NumPy``` is great for doing vector arithmetic. If we compare its functionality with regular Python lists, however, some things have changed."
      ]
    },
    {
      "cell_type": "markdown",
      "metadata": {
        "id": "xDmC6jFNFNBB",
        "colab_type": "text"
      },
      "source": [
        "First of all, ```numpy``` arrays cannot contain elements with different types. If we try to build such a list, some of the elements' types are changed to end up with a homogeneous list. This is known as type coercion."
      ]
    },
    {
      "cell_type": "markdown",
      "metadata": {
        "id": "vYAGd_goFNBC",
        "colab_type": "text"
      },
      "source": [
        "Second, the typical arithmetic operators, such as ```+```, ```-```, ```*``` and ```/``` have a different meaning for regular Python lists and ```numpy``` arrays."
      ]
    },
    {
      "cell_type": "markdown",
      "metadata": {
        "id": "reshIDOBFNBD",
        "colab_type": "text"
      },
      "source": [
        "Have a look at this line of code:\n",
        "\n",
        "```\n",
        "np.array([True, 1, 2]) + np.array([3, 4, False])\n",
        "```"
      ]
    },
    {
      "cell_type": "code",
      "metadata": {
        "ExecuteTime": {
          "end_time": "2020-01-27T11:08:05.032364Z",
          "start_time": "2020-01-27T11:08:05.018401Z"
        },
        "id": "eS-3s_rRFNBE",
        "colab_type": "code",
        "colab": {}
      },
      "source": [
        "np.array([True, 1, 2])"
      ],
      "execution_count": 0,
      "outputs": []
    },
    {
      "cell_type": "code",
      "metadata": {
        "ExecuteTime": {
          "end_time": "2020-01-27T11:08:05.048321Z",
          "start_time": "2020-01-27T11:08:05.037351Z"
        },
        "id": "88UPgP_FFNBI",
        "colab_type": "code",
        "colab": {}
      },
      "source": [
        "np.array([3, 4, False])"
      ],
      "execution_count": 0,
      "outputs": []
    },
    {
      "cell_type": "code",
      "metadata": {
        "ExecuteTime": {
          "end_time": "2020-01-27T11:08:05.064280Z",
          "start_time": "2020-01-27T11:08:05.052311Z"
        },
        "id": "hwkpPlepFNBM",
        "colab_type": "code",
        "colab": {}
      },
      "source": [
        "np.array([True, 1, 2]) + np.array([3, 4, False])"
      ],
      "execution_count": 0,
      "outputs": []
    },
    {
      "cell_type": "markdown",
      "metadata": {
        "id": "wuSDAH0TFNBQ",
        "colab_type": "text"
      },
      "source": [
        "### Subsetting NumPy Arrays"
      ]
    },
    {
      "cell_type": "markdown",
      "metadata": {
        "id": "hZ-uAhiLFNBR",
        "colab_type": "text"
      },
      "source": [
        "Python lists and ```numpy``` arrays sometimes behave differently. Luckily, there are still certainties in this world. For example, subsetting (using the square bracket notation on lists or arrays) works exactly the same:\n",
        "\n",
        "```\n",
        "x = [\"a\", \"b\", \"c\"]\n",
        "x[1]\n",
        "\n",
        "np_x = np.array(x)\n",
        "np_x[1]\n",
        "```"
      ]
    },
    {
      "cell_type": "code",
      "metadata": {
        "ExecuteTime": {
          "end_time": "2020-01-27T11:08:05.080268Z",
          "start_time": "2020-01-27T11:08:05.067270Z"
        },
        "id": "45uKKhgiFNBS",
        "colab_type": "code",
        "colab": {}
      },
      "source": [
        "# Print out the weight at index 50\n",
        "print(np_weight_kg[50])"
      ],
      "execution_count": 0,
      "outputs": []
    },
    {
      "cell_type": "code",
      "metadata": {
        "ExecuteTime": {
          "end_time": "2020-01-27T11:08:05.096194Z",
          "start_time": "2020-01-27T11:08:05.082232Z"
        },
        "id": "YwqQxwX8FNBV",
        "colab_type": "code",
        "colab": {}
      },
      "source": [
        "# Print out sub-array of np_height: index 100 up to and including index 110\n",
        "print(np_height_m[100:111])"
      ],
      "execution_count": 0,
      "outputs": []
    },
    {
      "cell_type": "markdown",
      "metadata": {
        "toc-hr-collapsed": true,
        "id": "Iy_ib2tKFNBY",
        "colab_type": "text"
      },
      "source": [
        "## 2D NumPy Arrays"
      ]
    },
    {
      "cell_type": "markdown",
      "metadata": {
        "id": "dUCVYxKwFNBZ",
        "colab_type": "text"
      },
      "source": [
        "### Our First 2D NumPy Array"
      ]
    },
    {
      "cell_type": "markdown",
      "metadata": {
        "id": "nUpjkkYeFNBa",
        "colab_type": "text"
      },
      "source": [
        "Before working on the actual MLB data, let's try to create a 2D ```numpy``` array from a small list of lists."
      ]
    },
    {
      "cell_type": "code",
      "metadata": {
        "ExecuteTime": {
          "end_time": "2020-01-27T11:08:05.112175Z",
          "start_time": "2020-01-27T11:08:05.099186Z"
        },
        "id": "UjblU-PSFNBc",
        "colab_type": "code",
        "colab": {}
      },
      "source": [
        "# Create baseball_2d, a list of lists\n",
        "baseball_2d = [[180, 78.4],\n",
        "               [215, 102.7],\n",
        "               [210, 98.5],\n",
        "               [188, 75.2]]"
      ],
      "execution_count": 0,
      "outputs": []
    },
    {
      "cell_type": "code",
      "metadata": {
        "ExecuteTime": {
          "end_time": "2020-01-27T11:08:05.128144Z",
          "start_time": "2020-01-27T11:08:05.114145Z"
        },
        "id": "7QCm_fEWFNBg",
        "colab_type": "code",
        "colab": {}
      },
      "source": [
        "# Create a 2D numpy array from baseball_2d: np_baseball_2d\n",
        "np_baseball_2d = np.array(baseball_2d)"
      ],
      "execution_count": 0,
      "outputs": []
    },
    {
      "cell_type": "code",
      "metadata": {
        "ExecuteTime": {
          "end_time": "2020-01-27T11:08:05.143093Z",
          "start_time": "2020-01-27T11:08:05.130103Z"
        },
        "id": "oCrQIwW7FNBm",
        "colab_type": "code",
        "colab": {}
      },
      "source": [
        "# Print out the type of np_baseball_2d\n",
        "print(type(np_baseball_2d))"
      ],
      "execution_count": 0,
      "outputs": []
    },
    {
      "cell_type": "code",
      "metadata": {
        "ExecuteTime": {
          "end_time": "2020-01-27T11:08:05.159025Z",
          "start_time": "2020-01-27T11:08:05.147082Z"
        },
        "id": "k0lhoPZOFNBp",
        "colab_type": "code",
        "colab": {}
      },
      "source": [
        "# Print out the shape of np_baseball_2d\n",
        "print(np_baseball_2d.shape)"
      ],
      "execution_count": 0,
      "outputs": []
    },
    {
      "cell_type": "markdown",
      "metadata": {
        "id": "juMbKf_dFNBt",
        "colab_type": "text"
      },
      "source": [
        "### Baseball data in 2D form"
      ]
    },
    {
      "cell_type": "markdown",
      "metadata": {
        "id": "xiRjYZ-TFNBv",
        "colab_type": "text"
      },
      "source": [
        "Looking at the MLB data, it makes more sense to restructure all this information in a 2D ```numpy``` array. This array should have 1015 rows, corresponding to the 1015 baseball players we have information on, and 2 columns (for height and weight)."
      ]
    },
    {
      "cell_type": "markdown",
      "metadata": {
        "id": "zWfliJqsFNBw",
        "colab_type": "text"
      },
      "source": [
        "The MLB was, again, very helpful and passed us the data in a different structure, a Python list of lists. In this list of lists, each sublist represents the height and weight of a single baseball player. The name of this embedded list is ```baseball```."
      ]
    },
    {
      "cell_type": "code",
      "metadata": {
        "ExecuteTime": {
          "end_time": "2020-01-27T11:08:05.175013Z",
          "start_time": "2020-01-27T11:08:05.161020Z"
        },
        "id": "9LlHJM_NFNBx",
        "colab_type": "code",
        "colab": {}
      },
      "source": [
        "# Create a 2D numpy array from baseball: np_baseball\n",
        "np_baseball = np.array(utils.baseball2D)"
      ],
      "execution_count": 0,
      "outputs": []
    },
    {
      "cell_type": "code",
      "metadata": {
        "ExecuteTime": {
          "end_time": "2020-01-27T11:08:05.190973Z",
          "start_time": "2020-01-27T11:08:05.176976Z"
        },
        "id": "4VhHc1yTFNB2",
        "colab_type": "code",
        "colab": {}
      },
      "source": [
        "# Print out the shape of np_baseball\n",
        "print(np_baseball.shape)"
      ],
      "execution_count": 0,
      "outputs": []
    },
    {
      "cell_type": "markdown",
      "metadata": {
        "id": "QHUgxjzwFNB5",
        "colab_type": "text"
      },
      "source": [
        "### Subsetting 2D NumPy Arrays"
      ]
    },
    {
      "cell_type": "markdown",
      "metadata": {
        "id": "6jf__yOMFNB7",
        "colab_type": "text"
      },
      "source": [
        "If the 2D ```numpy``` array has a regular structure, i.e. each row and column has a fixed number of values, complicated ways of subsetting become very easy. Have a look at the code below where the elements ```\"a\"``` and ```\"c\"``` are extracted from a list of lists.\n",
        "\n",
        "```\n",
        "# regular list of lists\n",
        "x = [[\"a\", \"b\"], [\"c\", \"d\"]]\n",
        "[x[0][0], x[1][0]]\n",
        "\n",
        "# numpy\n",
        "import numpy as np\n",
        "np_x = np.array(x)\n",
        "np_x[:,0]\n",
        "```"
      ]
    },
    {
      "cell_type": "markdown",
      "metadata": {
        "id": "mZu91kyiFNB8",
        "colab_type": "text"
      },
      "source": [
        "For regular Python lists, this is a real pain. For 2D ```numpy``` arrays, however, it's pretty intuitive! The indexes before the comma refer to the rows, while those after the comma refer to the columns. The ```:``` is for slicing; in this example, it tells Python to include all rows."
      ]
    },
    {
      "cell_type": "code",
      "metadata": {
        "ExecuteTime": {
          "end_time": "2020-01-27T11:08:05.206898Z",
          "start_time": "2020-01-27T11:08:05.192934Z"
        },
        "id": "3IkgZzt8FNB9",
        "colab_type": "code",
        "colab": {}
      },
      "source": [
        "# Print out the 50th row of np_baseball\n",
        "print(np_baseball[49,:])"
      ],
      "execution_count": 0,
      "outputs": []
    },
    {
      "cell_type": "code",
      "metadata": {
        "ExecuteTime": {
          "end_time": "2020-01-27T11:08:05.222897Z",
          "start_time": "2020-01-27T11:08:05.208892Z"
        },
        "id": "hhv5NCXsFNCB",
        "colab_type": "code",
        "colab": {}
      },
      "source": [
        "# Select the entire second column of np_baseball: np_weight\n",
        "np_weight_lb = np_baseball[:, 1]\n",
        "print(np_weight_lb)"
      ],
      "execution_count": 0,
      "outputs": []
    },
    {
      "cell_type": "code",
      "metadata": {
        "ExecuteTime": {
          "end_time": "2020-01-27T11:08:05.238824Z",
          "start_time": "2020-01-27T11:08:05.224850Z"
        },
        "id": "l5dNvBhXFNCE",
        "colab_type": "code",
        "colab": {}
      },
      "source": [
        "# Print out height of 124th player\n",
        "print(np_baseball[123,0])"
      ],
      "execution_count": 0,
      "outputs": []
    },
    {
      "cell_type": "markdown",
      "metadata": {
        "id": "fO9VLFAbFNCJ",
        "colab_type": "text"
      },
      "source": [
        "### 2D Arithmetic"
      ]
    },
    {
      "cell_type": "markdown",
      "metadata": {
        "id": "6zaiKO1AFNCL",
        "colab_type": "text"
      },
      "source": [
        "Remember how we calculated the Body Mass Index for all baseball players? ```numpy``` was able to perform all calculations element-wise (i.e. element by element). For 2D ```numpy``` arrays this isn't any different! We can combine matrices with single numbers, with vectors, and with other matrices:\n",
        "\n",
        "```\n",
        "import numpy as np\n",
        "np_mat = np.array([[1, 2],\n",
        "                   [3, 4],\n",
        "                   [5, 6]])\n",
        "np_mat * 2\n",
        "np_mat + np.array([10, 10])\n",
        "np_mat + np_mat\n",
        "```"
      ]
    },
    {
      "cell_type": "markdown",
      "metadata": {
        "id": "yZ1W_Mp_FNCP",
        "colab_type": "text"
      },
      "source": [
        "We managed to get hold of the changes in height, weight and age of all baseball players. It is available as a 2D ```numpy``` array, ```updated```."
      ]
    },
    {
      "cell_type": "code",
      "metadata": {
        "ExecuteTime": {
          "end_time": "2020-01-27T11:08:05.254803Z",
          "start_time": "2020-01-27T11:08:05.241804Z"
        },
        "id": "N_HK-6UlFNCT",
        "colab_type": "code",
        "colab": {}
      },
      "source": [
        "np_baseball = np.array(utils.baseball)\n",
        "np_updated = np.array(utils.updated)"
      ],
      "execution_count": 0,
      "outputs": []
    },
    {
      "cell_type": "markdown",
      "metadata": {
        "id": "1omI3TTxFNCW",
        "colab_type": "text"
      },
      "source": [
        "Let's add ```np_baseball``` and ```updated``` and print out the result."
      ]
    },
    {
      "cell_type": "code",
      "metadata": {
        "ExecuteTime": {
          "end_time": "2020-01-27T11:08:05.269729Z",
          "start_time": "2020-01-27T11:08:05.255801Z"
        },
        "id": "xCbzm8hLFNCZ",
        "colab_type": "code",
        "colab": {}
      },
      "source": [
        "# Print out addition of np_baseball and np_updated\n",
        "print(np_baseball + np_updated)"
      ],
      "execution_count": 0,
      "outputs": []
    },
    {
      "cell_type": "markdown",
      "metadata": {
        "id": "ujrw-fNHFNCj",
        "colab_type": "text"
      },
      "source": [
        "We want to convert the units of height and weight to metric (meters and kilograms respectively). As a first step, create a ```numpy``` array with three values: ```0.0254```, ```0.453592``` and ```1```."
      ]
    },
    {
      "cell_type": "code",
      "metadata": {
        "ExecuteTime": {
          "end_time": "2020-01-27T11:08:05.285723Z",
          "start_time": "2020-01-27T11:08:05.272721Z"
        },
        "id": "TMjCcB91FNCk",
        "colab_type": "code",
        "colab": {}
      },
      "source": [
        "conversion = np.array([0.0254, 0.453592, 1])"
      ],
      "execution_count": 0,
      "outputs": []
    },
    {
      "cell_type": "code",
      "metadata": {
        "ExecuteTime": {
          "end_time": "2020-01-27T11:08:05.301669Z",
          "start_time": "2020-01-27T11:08:05.287682Z"
        },
        "id": "tsx8H4VAFNCo",
        "colab_type": "code",
        "colab": {}
      },
      "source": [
        "# Print out product of np_baseball and conversion\n",
        "print(np_baseball * conversion)"
      ],
      "execution_count": 0,
      "outputs": []
    },
    {
      "cell_type": "markdown",
      "metadata": {
        "toc-hr-collapsed": true,
        "id": "S02tfNPNFNC2",
        "colab_type": "text"
      },
      "source": [
        "## Numpy: Basic Statistics"
      ]
    },
    {
      "cell_type": "markdown",
      "metadata": {
        "id": "PU4v4SCcFNC4",
        "colab_type": "text"
      },
      "source": [
        "### Average versus median"
      ]
    },
    {
      "cell_type": "markdown",
      "metadata": {
        "id": "KpgCP0QQFNC5",
        "colab_type": "text"
      },
      "source": [
        "Now we know how to use ```numpy``` functions to get a better feeling for our data. It basically comes down to importing ```numpy``` and then calling several simple functions on the ```numpy``` arrays:\n",
        "\n",
        "```\n",
        "import numpy as np\n",
        "x = [1, 4, 8, 10, 12]\n",
        "np.mean(x)\n",
        "np.median(x)\n",
        "```\n",
        "\n",
        "After restructuring the data, however, we notice that some height values are abnormally high. Follow the instructions and discover which summary statistic is best suited if we're dealing with so-called outliers."
      ]
    },
    {
      "cell_type": "code",
      "metadata": {
        "ExecuteTime": {
          "end_time": "2020-01-27T11:08:05.317603Z",
          "start_time": "2020-01-27T11:08:05.303640Z"
        },
        "id": "hI3np3AuFNC6",
        "colab_type": "code",
        "colab": {}
      },
      "source": [
        "np_baseball = np.array(utils.baseball_outliers)"
      ],
      "execution_count": 0,
      "outputs": []
    },
    {
      "cell_type": "code",
      "metadata": {
        "ExecuteTime": {
          "end_time": "2020-01-27T11:08:05.332563Z",
          "start_time": "2020-01-27T11:08:05.319598Z"
        },
        "id": "5qv7p_dxFNDA",
        "colab_type": "code",
        "colab": {}
      },
      "source": [
        "# Create np_height_in from np_baseball\n",
        "np_height_in = np_baseball[:, 0]"
      ],
      "execution_count": 0,
      "outputs": []
    },
    {
      "cell_type": "code",
      "metadata": {
        "ExecuteTime": {
          "end_time": "2020-01-27T11:08:05.348518Z",
          "start_time": "2020-01-27T11:08:05.334589Z"
        },
        "id": "a_mW84WpFNDF",
        "colab_type": "code",
        "colab": {}
      },
      "source": [
        "# Print out the mean of np_height\n",
        "print(np.mean(np_height_in))"
      ],
      "execution_count": 0,
      "outputs": []
    },
    {
      "cell_type": "code",
      "metadata": {
        "ExecuteTime": {
          "end_time": "2020-01-27T11:08:05.364503Z",
          "start_time": "2020-01-27T11:08:05.350514Z"
        },
        "id": "b7Y5E64MFNDJ",
        "colab_type": "code",
        "colab": {}
      },
      "source": [
        "# Print out the median of np_height\n",
        "print(np.median(np_height_in))"
      ],
      "execution_count": 0,
      "outputs": []
    },
    {
      "cell_type": "markdown",
      "metadata": {
        "id": "QAaG0PEWFNDL",
        "colab_type": "text"
      },
      "source": [
        "### Explore the baseball data"
      ]
    },
    {
      "cell_type": "markdown",
      "metadata": {
        "id": "dQ7q4RKsFNDN",
        "colab_type": "text"
      },
      "source": [
        "The mean and median are so far apart. After complaining to the MLB, they found the error and sent the corrected data over to us. It's again available as a 2D Numpy array ```np_baseball```, with three columns."
      ]
    },
    {
      "cell_type": "code",
      "metadata": {
        "ExecuteTime": {
          "end_time": "2020-01-27T11:08:05.379461Z",
          "start_time": "2020-01-27T11:08:05.366472Z"
        },
        "id": "YNeH6NDSFNDP",
        "colab_type": "code",
        "colab": {}
      },
      "source": [
        "np_baseball = np.array(utils.baseball)"
      ],
      "execution_count": 0,
      "outputs": []
    },
    {
      "cell_type": "code",
      "metadata": {
        "ExecuteTime": {
          "end_time": "2020-01-27T11:08:05.394430Z",
          "start_time": "2020-01-27T11:08:05.382437Z"
        },
        "id": "nICyIRL7FNDT",
        "colab_type": "code",
        "colab": {}
      },
      "source": [
        "# Print mean height (first column)\n",
        "avg = np.mean(np_baseball[:,0])\n",
        "print(\"Average: \" + str(avg))"
      ],
      "execution_count": 0,
      "outputs": []
    },
    {
      "cell_type": "code",
      "metadata": {
        "ExecuteTime": {
          "end_time": "2020-01-27T11:08:05.410356Z",
          "start_time": "2020-01-27T11:08:05.397400Z"
        },
        "id": "Rno-J2d1FNDW",
        "colab_type": "code",
        "colab": {}
      },
      "source": [
        "# Print median height.\n",
        "med = np.median(np_baseball[:, 0])\n",
        "print(\"Median: \" + str(med))"
      ],
      "execution_count": 0,
      "outputs": []
    },
    {
      "cell_type": "code",
      "metadata": {
        "ExecuteTime": {
          "end_time": "2020-01-27T11:08:05.426313Z",
          "start_time": "2020-01-27T11:08:05.413363Z"
        },
        "id": "WHtYw_GtFNDY",
        "colab_type": "code",
        "colab": {}
      },
      "source": [
        "# Print out the standard deviation on height.\n",
        "stddev = np.std(np_baseball[:, 0])\n",
        "print(\"Standard Deviation: \" + str(stddev))"
      ],
      "execution_count": 0,
      "outputs": []
    },
    {
      "cell_type": "markdown",
      "metadata": {
        "id": "sx_pTtQ4FNDb",
        "colab_type": "text"
      },
      "source": [
        "Do big players tend to be heavier?"
      ]
    },
    {
      "cell_type": "code",
      "metadata": {
        "ExecuteTime": {
          "end_time": "2020-01-27T11:08:05.442282Z",
          "start_time": "2020-01-27T11:08:05.429306Z"
        },
        "id": "BG_HBiGcFNDc",
        "colab_type": "code",
        "colab": {}
      },
      "source": [
        "# Print out correlation between first and second column.\n",
        "corr = np.corrcoef(np_baseball[:, 0], np_baseball[:, 1])\n",
        "print(\"Correlation: \" + str(corr))"
      ],
      "execution_count": 0,
      "outputs": []
    },
    {
      "cell_type": "markdown",
      "metadata": {
        "id": "EFfNNXghFNDj",
        "colab_type": "text"
      },
      "source": [
        "## Blend it all together"
      ]
    },
    {
      "cell_type": "markdown",
      "metadata": {
        "id": "cbYxEjssFNDk",
        "colab_type": "text"
      },
      "source": [
        "In the last few exercises we've learned everything there is to know about heights and weights of baseball players. Now it's time to dive into another sport: soccer."
      ]
    },
    {
      "cell_type": "markdown",
      "metadata": {
        "id": "y4bvQruMFNDl",
        "colab_type": "text"
      },
      "source": [
        "After contacting FIFA for some data, they handed us two lists. The lists are the following:\n",
        "\n",
        "```\n",
        "positions = ['GK', 'M', 'A', 'D', ...]\n",
        "heights = [191, 184, 185, 180, ...]\n",
        "```"
      ]
    },
    {
      "cell_type": "markdown",
      "metadata": {
        "id": "rbtZ4YaBFNDm",
        "colab_type": "text"
      },
      "source": [
        "Each element in the lists corresponds to a player. The first list, positions, contains strings representing each player's position. The possible positions are: ```'GK'``` (goalkeeper), ```'M'``` (midfield), ```'A'``` (attack) and ```'D'``` (defense). The second list, heights, contains integers representing the height of the player in cm. The first player in the lists is a goalkeeper and is pretty tall (191 cm)."
      ]
    },
    {
      "cell_type": "markdown",
      "metadata": {
        "id": "ay9hf2EVFNDm",
        "colab_type": "text"
      },
      "source": [
        "We're fairly confident that the median height of goalkeepers is higher than that of other players on the soccer field. Let's use our newly acquired NumPy skills to prove this."
      ]
    },
    {
      "cell_type": "code",
      "metadata": {
        "ExecuteTime": {
          "end_time": "2020-01-27T11:08:05.458225Z",
          "start_time": "2020-01-27T11:08:05.445260Z"
        },
        "id": "ngO_PuIIFNDn",
        "colab_type": "code",
        "colab": {}
      },
      "source": [
        "# Import numpy\n",
        "import numpy as np"
      ],
      "execution_count": 0,
      "outputs": []
    },
    {
      "cell_type": "code",
      "metadata": {
        "ExecuteTime": {
          "end_time": "2020-01-27T11:08:05.474182Z",
          "start_time": "2020-01-27T11:08:05.465207Z"
        },
        "id": "EQPRySAEFNDq",
        "colab_type": "code",
        "colab": {}
      },
      "source": [
        "# Convert positions and heights to numpy arrays: np_positions, np_heights\n",
        "np_positions = np.array(utils.positions)\n",
        "np_heights = np.array(utils.heights)"
      ],
      "execution_count": 0,
      "outputs": []
    },
    {
      "cell_type": "code",
      "metadata": {
        "ExecuteTime": {
          "end_time": "2020-01-27T11:08:05.490139Z",
          "start_time": "2020-01-27T11:08:05.477174Z"
        },
        "id": "i-XKDgSWFNDx",
        "colab_type": "code",
        "colab": {}
      },
      "source": [
        "# Heights of the goalkeepers: gk_heights\n",
        "gk_heights = np_heights[np_positions == \"GK\"]"
      ],
      "execution_count": 0,
      "outputs": []
    },
    {
      "cell_type": "code",
      "metadata": {
        "ExecuteTime": {
          "end_time": "2020-01-27T11:08:05.506099Z",
          "start_time": "2020-01-27T11:08:05.493135Z"
        },
        "id": "6B-Q9r1DFND2",
        "colab_type": "code",
        "colab": {}
      },
      "source": [
        "# Heights of the other players: other_heights\n",
        "other_heights = np_heights[np_positions != 'GK']"
      ],
      "execution_count": 0,
      "outputs": []
    },
    {
      "cell_type": "code",
      "metadata": {
        "ExecuteTime": {
          "end_time": "2020-01-27T11:08:05.522056Z",
          "start_time": "2020-01-27T11:08:05.509090Z"
        },
        "id": "MNQI6cUoFND4",
        "colab_type": "code",
        "colab": {}
      },
      "source": [
        "# Print out the median height of goalkeepers. Replace 'None'\n",
        "print(\"Median height of goalkeepers: \" + str(np.median(gk_heights)))"
      ],
      "execution_count": 0,
      "outputs": []
    },
    {
      "cell_type": "code",
      "metadata": {
        "ExecuteTime": {
          "end_time": "2020-01-27T11:08:05.538011Z",
          "start_time": "2020-01-27T11:08:05.525047Z"
        },
        "id": "O0cBEl9yFND8",
        "colab_type": "code",
        "colab": {}
      },
      "source": [
        "# Print out the median height of other players. Replace 'None'\n",
        "print(\"Median height of other players: \" + str(np.median(other_heights)))"
      ],
      "execution_count": 0,
      "outputs": []
    },
    {
      "cell_type": "markdown",
      "metadata": {
        "id": "OHywgelRFNEB",
        "colab_type": "text"
      },
      "source": [
        "---\n",
        "**[Week 2 - Data Analysis and Visualisation](https://radu-enuca.gitbook.io/ml-challenge/data-analysis-and-visualisation)**\n",
        "\n",
        "*Have questions or comments? Visit the ML Challenge Mattermost Channel.*"
      ]
    }
  ]
}